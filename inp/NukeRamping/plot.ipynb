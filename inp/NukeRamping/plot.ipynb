{
 "cells": [
  {
   "cell_type": "code",
   "execution_count": 49,
   "id": "86c9efb9-fe50-4c2b-9dad-229528901211",
   "metadata": {},
   "outputs": [
    {
     "data": {
      "application/vnd.plotly.v1+json": {
       "config": {
        "plotlyServerURL": "https://plot.ly"
       },
       "data": [
        {
         "line": {
          "width": 2
         },
         "mode": "lines",
         "name": "won",
         "type": "scatter",
         "x": [
          0.001,
          0.002,
          0.003,
          0.004,
          0.005,
          0.006,
          0.007,
          0.008,
          0.009,
          0.01,
          0.011,
          0.012,
          0.013,
          0.014,
          0.015,
          0.016,
          0.017,
          0.018,
          0.019,
          0.02,
          0.021,
          0.022,
          0.023,
          0.024,
          0.025,
          0.026,
          0.027,
          0.028,
          0.029,
          0.03,
          0.031,
          0.032,
          0.033,
          0.034,
          0.035,
          0.036,
          0.037,
          0.038,
          0.039,
          0.04,
          0.041,
          0.042,
          0.043,
          0.044,
          0.045,
          0.046,
          0.047,
          0.048,
          0.049,
          0.05,
          0.051,
          0.052,
          0.053,
          0.054,
          0.055,
          0.056
         ],
         "y": [
          735000000000,
          728000000000,
          722000000000,
          718000000000,
          715000000000,
          712000000000,
          711000000000,
          709000000000,
          708000000000,
          706000000000,
          705000000000,
          704000000000,
          703000000000,
          703000000000,
          702000000000,
          701000000000,
          700000000000,
          700000000000,
          699000000000,
          699000000000,
          698000000000,
          698000000000,
          697000000000,
          697000000000,
          696000000000,
          696000000000,
          695000000000,
          695000000000,
          695000000000,
          694000000000,
          694000000000,
          693000000000,
          693000000000,
          693000000000,
          693000000000,
          692000000000,
          692000000000,
          692000000000,
          692000000000,
          691000000000,
          691000000000,
          691000000000,
          691000000000,
          691000000000,
          690000000000,
          690000000000,
          690000000000,
          690000000000,
          690000000000,
          690000000000,
          690000000000,
          690000000000,
          689000000000,
          689000000000,
          689000000000,
          689000000000
         ]
        }
       ],
       "layout": {
        "font": {
         "size": 15
        },
        "height": 350,
        "margin": {
         "b": 30,
         "l": 50,
         "r": 150,
         "t": 50
        },
        "template": {
         "data": {
          "bar": [
           {
            "error_x": {
             "color": "#2a3f5f"
            },
            "error_y": {
             "color": "#2a3f5f"
            },
            "marker": {
             "line": {
              "color": "#E5ECF6",
              "width": 0.5
             },
             "pattern": {
              "fillmode": "overlay",
              "size": 10,
              "solidity": 0.2
             }
            },
            "type": "bar"
           }
          ],
          "barpolar": [
           {
            "marker": {
             "line": {
              "color": "#E5ECF6",
              "width": 0.5
             },
             "pattern": {
              "fillmode": "overlay",
              "size": 10,
              "solidity": 0.2
             }
            },
            "type": "barpolar"
           }
          ],
          "carpet": [
           {
            "aaxis": {
             "endlinecolor": "#2a3f5f",
             "gridcolor": "white",
             "linecolor": "white",
             "minorgridcolor": "white",
             "startlinecolor": "#2a3f5f"
            },
            "baxis": {
             "endlinecolor": "#2a3f5f",
             "gridcolor": "white",
             "linecolor": "white",
             "minorgridcolor": "white",
             "startlinecolor": "#2a3f5f"
            },
            "type": "carpet"
           }
          ],
          "choropleth": [
           {
            "colorbar": {
             "outlinewidth": 0,
             "ticks": ""
            },
            "type": "choropleth"
           }
          ],
          "contour": [
           {
            "colorbar": {
             "outlinewidth": 0,
             "ticks": ""
            },
            "colorscale": [
             [
              0,
              "#0d0887"
             ],
             [
              0.1111111111111111,
              "#46039f"
             ],
             [
              0.2222222222222222,
              "#7201a8"
             ],
             [
              0.3333333333333333,
              "#9c179e"
             ],
             [
              0.4444444444444444,
              "#bd3786"
             ],
             [
              0.5555555555555556,
              "#d8576b"
             ],
             [
              0.6666666666666666,
              "#ed7953"
             ],
             [
              0.7777777777777778,
              "#fb9f3a"
             ],
             [
              0.8888888888888888,
              "#fdca26"
             ],
             [
              1,
              "#f0f921"
             ]
            ],
            "type": "contour"
           }
          ],
          "contourcarpet": [
           {
            "colorbar": {
             "outlinewidth": 0,
             "ticks": ""
            },
            "type": "contourcarpet"
           }
          ],
          "heatmap": [
           {
            "colorbar": {
             "outlinewidth": 0,
             "ticks": ""
            },
            "colorscale": [
             [
              0,
              "#0d0887"
             ],
             [
              0.1111111111111111,
              "#46039f"
             ],
             [
              0.2222222222222222,
              "#7201a8"
             ],
             [
              0.3333333333333333,
              "#9c179e"
             ],
             [
              0.4444444444444444,
              "#bd3786"
             ],
             [
              0.5555555555555556,
              "#d8576b"
             ],
             [
              0.6666666666666666,
              "#ed7953"
             ],
             [
              0.7777777777777778,
              "#fb9f3a"
             ],
             [
              0.8888888888888888,
              "#fdca26"
             ],
             [
              1,
              "#f0f921"
             ]
            ],
            "type": "heatmap"
           }
          ],
          "heatmapgl": [
           {
            "colorbar": {
             "outlinewidth": 0,
             "ticks": ""
            },
            "colorscale": [
             [
              0,
              "#0d0887"
             ],
             [
              0.1111111111111111,
              "#46039f"
             ],
             [
              0.2222222222222222,
              "#7201a8"
             ],
             [
              0.3333333333333333,
              "#9c179e"
             ],
             [
              0.4444444444444444,
              "#bd3786"
             ],
             [
              0.5555555555555556,
              "#d8576b"
             ],
             [
              0.6666666666666666,
              "#ed7953"
             ],
             [
              0.7777777777777778,
              "#fb9f3a"
             ],
             [
              0.8888888888888888,
              "#fdca26"
             ],
             [
              1,
              "#f0f921"
             ]
            ],
            "type": "heatmapgl"
           }
          ],
          "histogram": [
           {
            "marker": {
             "pattern": {
              "fillmode": "overlay",
              "size": 10,
              "solidity": 0.2
             }
            },
            "type": "histogram"
           }
          ],
          "histogram2d": [
           {
            "colorbar": {
             "outlinewidth": 0,
             "ticks": ""
            },
            "colorscale": [
             [
              0,
              "#0d0887"
             ],
             [
              0.1111111111111111,
              "#46039f"
             ],
             [
              0.2222222222222222,
              "#7201a8"
             ],
             [
              0.3333333333333333,
              "#9c179e"
             ],
             [
              0.4444444444444444,
              "#bd3786"
             ],
             [
              0.5555555555555556,
              "#d8576b"
             ],
             [
              0.6666666666666666,
              "#ed7953"
             ],
             [
              0.7777777777777778,
              "#fb9f3a"
             ],
             [
              0.8888888888888888,
              "#fdca26"
             ],
             [
              1,
              "#f0f921"
             ]
            ],
            "type": "histogram2d"
           }
          ],
          "histogram2dcontour": [
           {
            "colorbar": {
             "outlinewidth": 0,
             "ticks": ""
            },
            "colorscale": [
             [
              0,
              "#0d0887"
             ],
             [
              0.1111111111111111,
              "#46039f"
             ],
             [
              0.2222222222222222,
              "#7201a8"
             ],
             [
              0.3333333333333333,
              "#9c179e"
             ],
             [
              0.4444444444444444,
              "#bd3786"
             ],
             [
              0.5555555555555556,
              "#d8576b"
             ],
             [
              0.6666666666666666,
              "#ed7953"
             ],
             [
              0.7777777777777778,
              "#fb9f3a"
             ],
             [
              0.8888888888888888,
              "#fdca26"
             ],
             [
              1,
              "#f0f921"
             ]
            ],
            "type": "histogram2dcontour"
           }
          ],
          "mesh3d": [
           {
            "colorbar": {
             "outlinewidth": 0,
             "ticks": ""
            },
            "type": "mesh3d"
           }
          ],
          "parcoords": [
           {
            "line": {
             "colorbar": {
              "outlinewidth": 0,
              "ticks": ""
             }
            },
            "type": "parcoords"
           }
          ],
          "pie": [
           {
            "automargin": true,
            "type": "pie"
           }
          ],
          "scatter": [
           {
            "fillpattern": {
             "fillmode": "overlay",
             "size": 10,
             "solidity": 0.2
            },
            "type": "scatter"
           }
          ],
          "scatter3d": [
           {
            "line": {
             "colorbar": {
              "outlinewidth": 0,
              "ticks": ""
             }
            },
            "marker": {
             "colorbar": {
              "outlinewidth": 0,
              "ticks": ""
             }
            },
            "type": "scatter3d"
           }
          ],
          "scattercarpet": [
           {
            "marker": {
             "colorbar": {
              "outlinewidth": 0,
              "ticks": ""
             }
            },
            "type": "scattercarpet"
           }
          ],
          "scattergeo": [
           {
            "marker": {
             "colorbar": {
              "outlinewidth": 0,
              "ticks": ""
             }
            },
            "type": "scattergeo"
           }
          ],
          "scattergl": [
           {
            "marker": {
             "colorbar": {
              "outlinewidth": 0,
              "ticks": ""
             }
            },
            "type": "scattergl"
           }
          ],
          "scattermapbox": [
           {
            "marker": {
             "colorbar": {
              "outlinewidth": 0,
              "ticks": ""
             }
            },
            "type": "scattermapbox"
           }
          ],
          "scatterpolar": [
           {
            "marker": {
             "colorbar": {
              "outlinewidth": 0,
              "ticks": ""
             }
            },
            "type": "scatterpolar"
           }
          ],
          "scatterpolargl": [
           {
            "marker": {
             "colorbar": {
              "outlinewidth": 0,
              "ticks": ""
             }
            },
            "type": "scatterpolargl"
           }
          ],
          "scatterternary": [
           {
            "marker": {
             "colorbar": {
              "outlinewidth": 0,
              "ticks": ""
             }
            },
            "type": "scatterternary"
           }
          ],
          "surface": [
           {
            "colorbar": {
             "outlinewidth": 0,
             "ticks": ""
            },
            "colorscale": [
             [
              0,
              "#0d0887"
             ],
             [
              0.1111111111111111,
              "#46039f"
             ],
             [
              0.2222222222222222,
              "#7201a8"
             ],
             [
              0.3333333333333333,
              "#9c179e"
             ],
             [
              0.4444444444444444,
              "#bd3786"
             ],
             [
              0.5555555555555556,
              "#d8576b"
             ],
             [
              0.6666666666666666,
              "#ed7953"
             ],
             [
              0.7777777777777778,
              "#fb9f3a"
             ],
             [
              0.8888888888888888,
              "#fdca26"
             ],
             [
              1,
              "#f0f921"
             ]
            ],
            "type": "surface"
           }
          ],
          "table": [
           {
            "cells": {
             "fill": {
              "color": "#EBF0F8"
             },
             "line": {
              "color": "white"
             }
            },
            "header": {
             "fill": {
              "color": "#C8D4E3"
             },
             "line": {
              "color": "white"
             }
            },
            "type": "table"
           }
          ]
         },
         "layout": {
          "annotationdefaults": {
           "arrowcolor": "#2a3f5f",
           "arrowhead": 0,
           "arrowwidth": 1
          },
          "autotypenumbers": "strict",
          "coloraxis": {
           "colorbar": {
            "outlinewidth": 0,
            "ticks": ""
           }
          },
          "colorscale": {
           "diverging": [
            [
             0,
             "#8e0152"
            ],
            [
             0.1,
             "#c51b7d"
            ],
            [
             0.2,
             "#de77ae"
            ],
            [
             0.3,
             "#f1b6da"
            ],
            [
             0.4,
             "#fde0ef"
            ],
            [
             0.5,
             "#f7f7f7"
            ],
            [
             0.6,
             "#e6f5d0"
            ],
            [
             0.7,
             "#b8e186"
            ],
            [
             0.8,
             "#7fbc41"
            ],
            [
             0.9,
             "#4d9221"
            ],
            [
             1,
             "#276419"
            ]
           ],
           "sequential": [
            [
             0,
             "#0d0887"
            ],
            [
             0.1111111111111111,
             "#46039f"
            ],
            [
             0.2222222222222222,
             "#7201a8"
            ],
            [
             0.3333333333333333,
             "#9c179e"
            ],
            [
             0.4444444444444444,
             "#bd3786"
            ],
            [
             0.5555555555555556,
             "#d8576b"
            ],
            [
             0.6666666666666666,
             "#ed7953"
            ],
            [
             0.7777777777777778,
             "#fb9f3a"
            ],
            [
             0.8888888888888888,
             "#fdca26"
            ],
            [
             1,
             "#f0f921"
            ]
           ],
           "sequentialminus": [
            [
             0,
             "#0d0887"
            ],
            [
             0.1111111111111111,
             "#46039f"
            ],
            [
             0.2222222222222222,
             "#7201a8"
            ],
            [
             0.3333333333333333,
             "#9c179e"
            ],
            [
             0.4444444444444444,
             "#bd3786"
            ],
            [
             0.5555555555555556,
             "#d8576b"
            ],
            [
             0.6666666666666666,
             "#ed7953"
            ],
            [
             0.7777777777777778,
             "#fb9f3a"
            ],
            [
             0.8888888888888888,
             "#fdca26"
            ],
            [
             1,
             "#f0f921"
            ]
           ]
          },
          "colorway": [
           "#636efa",
           "#EF553B",
           "#00cc96",
           "#ab63fa",
           "#FFA15A",
           "#19d3f3",
           "#FF6692",
           "#B6E880",
           "#FF97FF",
           "#FECB52"
          ],
          "font": {
           "color": "#2a3f5f"
          },
          "geo": {
           "bgcolor": "white",
           "lakecolor": "white",
           "landcolor": "#E5ECF6",
           "showlakes": true,
           "showland": true,
           "subunitcolor": "white"
          },
          "hoverlabel": {
           "align": "left"
          },
          "hovermode": "closest",
          "mapbox": {
           "style": "light"
          },
          "paper_bgcolor": "white",
          "plot_bgcolor": "#E5ECF6",
          "polar": {
           "angularaxis": {
            "gridcolor": "white",
            "linecolor": "white",
            "ticks": ""
           },
           "bgcolor": "#E5ECF6",
           "radialaxis": {
            "gridcolor": "white",
            "linecolor": "white",
            "ticks": ""
           }
          },
          "scene": {
           "xaxis": {
            "backgroundcolor": "#E5ECF6",
            "gridcolor": "white",
            "gridwidth": 2,
            "linecolor": "white",
            "showbackground": true,
            "ticks": "",
            "zerolinecolor": "white"
           },
           "yaxis": {
            "backgroundcolor": "#E5ECF6",
            "gridcolor": "white",
            "gridwidth": 2,
            "linecolor": "white",
            "showbackground": true,
            "ticks": "",
            "zerolinecolor": "white"
           },
           "zaxis": {
            "backgroundcolor": "#E5ECF6",
            "gridcolor": "white",
            "gridwidth": 2,
            "linecolor": "white",
            "showbackground": true,
            "ticks": "",
            "zerolinecolor": "white"
           }
          },
          "shapedefaults": {
           "line": {
            "color": "#2a3f5f"
           }
          },
          "ternary": {
           "aaxis": {
            "gridcolor": "white",
            "linecolor": "white",
            "ticks": ""
           },
           "baxis": {
            "gridcolor": "white",
            "linecolor": "white",
            "ticks": ""
           },
           "bgcolor": "#E5ECF6",
           "caxis": {
            "gridcolor": "white",
            "linecolor": "white",
            "ticks": ""
           }
          },
          "title": {
           "x": 0.05
          },
          "xaxis": {
           "automargin": true,
           "gridcolor": "white",
           "linecolor": "white",
           "ticks": "",
           "title": {
            "standoff": 15
           },
           "zerolinecolor": "white",
           "zerolinewidth": 2
          },
          "yaxis": {
           "automargin": true,
           "gridcolor": "white",
           "linecolor": "white",
           "ticks": "",
           "title": {
            "standoff": 15
           },
           "zerolinecolor": "white",
           "zerolinewidth": 2
          }
         }
        },
        "width": 750,
        "xaxis": {
         "autorange": true,
         "range": [
          0.001,
          0.056
         ],
         "title": {
          "text": "r up (#Pn/h)"
         },
         "type": "linear"
        },
        "yaxis": {
         "autorange": true,
         "range": [
          686444444444.4445,
          737555555555.5555
         ],
         "title": {
          "text": "obj (€)"
         },
         "type": "linear"
        }
       }
      },
      "image/png": "[encoded data removed]",
      "text/html": [
       "<div>                            <div id=\"993b3471-88eb-48d7-9948-b5b04f8a93bf\" class=\"plotly-graph-div\" style=\"height:350px; width:750px;\"></div>            <script type=\"text/javascript\">                require([\"plotly\"], function(Plotly) {                    window.PLOTLYENV=window.PLOTLYENV || {};                                    if (document.getElementById(\"993b3471-88eb-48d7-9948-b5b04f8a93bf\")) {                    Plotly.newPlot(                        \"993b3471-88eb-48d7-9948-b5b04f8a93bf\",                        [{\"line\":{\"width\":2.0},\"mode\":\"lines\",\"name\":\"won\",\"x\":[0.001,0.002,0.003,0.004,0.005,0.006,0.007,0.008,0.009,0.01,0.011,0.012,0.013,0.014,0.015,0.016,0.017,0.018,0.019,0.02,0.021,0.022,0.023,0.024,0.025,0.026,0.027,0.028,0.029,0.03,0.031,0.032,0.033,0.034,0.035,0.036,0.037,0.038,0.039,0.04,0.041,0.042,0.043,0.044,0.045,0.046,0.047,0.048,0.049,0.05,0.051,0.052,0.053,0.054,0.055,0.056],\"y\":[735000000000.0,728000000000.0,722000000000.0,718000000000.0,715000000000.0,712000000000.0,711000000000.0,709000000000.0,708000000000.0,706000000000.0,705000000000.0,704000000000.0,703000000000.0,703000000000.0,702000000000.0,701000000000.0,700000000000.0,700000000000.0,699000000000.0,699000000000.0,698000000000.0,698000000000.0,697000000000.0,697000000000.0,696000000000.0,696000000000.0,695000000000.0,695000000000.0,695000000000.0,694000000000.0,694000000000.0,693000000000.0,693000000000.0,693000000000.0,693000000000.0,692000000000.0,692000000000.0,692000000000.0,692000000000.0,691000000000.0,691000000000.0,691000000000.0,691000000000.0,691000000000.0,690000000000.0,690000000000.0,690000000000.0,690000000000.0,690000000000.0,690000000000.0,690000000000.0,690000000000.0,689000000000.0,689000000000.0,689000000000.0,689000000000.0],\"type\":\"scatter\"}],                        {\"template\":{\"data\":{\"histogram2dcontour\":[{\"type\":\"histogram2dcontour\",\"colorbar\":{\"outlinewidth\":0,\"ticks\":\"\"},\"colorscale\":[[0.0,\"#0d0887\"],[0.1111111111111111,\"#46039f\"],[0.2222222222222222,\"#7201a8\"],[0.3333333333333333,\"#9c179e\"],[0.4444444444444444,\"#bd3786\"],[0.5555555555555556,\"#d8576b\"],[0.6666666666666666,\"#ed7953\"],[0.7777777777777778,\"#fb9f3a\"],[0.8888888888888888,\"#fdca26\"],[1.0,\"#f0f921\"]]}],\"choropleth\":[{\"type\":\"choropleth\",\"colorbar\":{\"outlinewidth\":0,\"ticks\":\"\"}}],\"histogram2d\":[{\"type\":\"histogram2d\",\"colorbar\":{\"outlinewidth\":0,\"ticks\":\"\"},\"colorscale\":[[0.0,\"#0d0887\"],[0.1111111111111111,\"#46039f\"],[0.2222222222222222,\"#7201a8\"],[0.3333333333333333,\"#9c179e\"],[0.4444444444444444,\"#bd3786\"],[0.5555555555555556,\"#d8576b\"],[0.6666666666666666,\"#ed7953\"],[0.7777777777777778,\"#fb9f3a\"],[0.8888888888888888,\"#fdca26\"],[1.0,\"#f0f921\"]]}],\"heatmap\":[{\"type\":\"heatmap\",\"colorbar\":{\"outlinewidth\":0,\"ticks\":\"\"},\"colorscale\":[[0.0,\"#0d0887\"],[0.1111111111111111,\"#46039f\"],[0.2222222222222222,\"#7201a8\"],[0.3333333333333333,\"#9c179e\"],[0.4444444444444444,\"#bd3786\"],[0.5555555555555556,\"#d8576b\"],[0.6666666666666666,\"#ed7953\"],[0.7777777777777778,\"#fb9f3a\"],[0.8888888888888888,\"#fdca26\"],[1.0,\"#f0f921\"]]}],\"heatmapgl\":[{\"type\":\"heatmapgl\",\"colorbar\":{\"outlinewidth\":0,\"ticks\":\"\"},\"colorscale\":[[0.0,\"#0d0887\"],[0.1111111111111111,\"#46039f\"],[0.2222222222222222,\"#7201a8\"],[0.3333333333333333,\"#9c179e\"],[0.4444444444444444,\"#bd3786\"],[0.5555555555555556,\"#d8576b\"],[0.6666666666666666,\"#ed7953\"],[0.7777777777777778,\"#fb9f3a\"],[0.8888888888888888,\"#fdca26\"],[1.0,\"#f0f921\"]]}],\"contourcarpet\":[{\"type\":\"contourcarpet\",\"colorbar\":{\"outlinewidth\":0,\"ticks\":\"\"}}],\"contour\":[{\"type\":\"contour\",\"colorbar\":{\"outlinewidth\":0,\"ticks\":\"\"},\"colorscale\":[[0.0,\"#0d0887\"],[0.1111111111111111,\"#46039f\"],[0.2222222222222222,\"#7201a8\"],[0.3333333333333333,\"#9c179e\"],[0.4444444444444444,\"#bd3786\"],[0.5555555555555556,\"#d8576b\"],[0.6666666666666666,\"#ed7953\"],[0.7777777777777778,\"#fb9f3a\"],[0.8888888888888888,\"#fdca26\"],[1.0,\"#f0f921\"]]}],\"surface\":[{\"type\":\"surface\",\"colorbar\":{\"outlinewidth\":0,\"ticks\":\"\"},\"colorscale\":[[0.0,\"#0d0887\"],[0.1111111111111111,\"#46039f\"],[0.2222222222222222,\"#7201a8\"],[0.3333333333333333,\"#9c179e\"],[0.4444444444444444,\"#bd3786\"],[0.5555555555555556,\"#d8576b\"],[0.6666666666666666,\"#ed7953\"],[0.7777777777777778,\"#fb9f3a\"],[0.8888888888888888,\"#fdca26\"],[1.0,\"#f0f921\"]]}],\"mesh3d\":[{\"type\":\"mesh3d\",\"colorbar\":{\"outlinewidth\":0,\"ticks\":\"\"}}],\"scatter\":[{\"fillpattern\":{\"fillmode\":\"overlay\",\"size\":10,\"solidity\":0.2},\"type\":\"scatter\"}],\"parcoords\":[{\"type\":\"parcoords\",\"line\":{\"colorbar\":{\"outlinewidth\":0,\"ticks\":\"\"}}}],\"scatterpolargl\":[{\"type\":\"scatterpolargl\",\"marker\":{\"colorbar\":{\"outlinewidth\":0,\"ticks\":\"\"}}}],\"bar\":[{\"error_x\":{\"color\":\"#2a3f5f\"},\"error_y\":{\"color\":\"#2a3f5f\"},\"marker\":{\"line\":{\"color\":\"#E5ECF6\",\"width\":0.5},\"pattern\":{\"fillmode\":\"overlay\",\"size\":10,\"solidity\":0.2}},\"type\":\"bar\"}],\"scattergeo\":[{\"type\":\"scattergeo\",\"marker\":{\"colorbar\":{\"outlinewidth\":0,\"ticks\":\"\"}}}],\"scatterpolar\":[{\"type\":\"scatterpolar\",\"marker\":{\"colorbar\":{\"outlinewidth\":0,\"ticks\":\"\"}}}],\"histogram\":[{\"marker\":{\"pattern\":{\"fillmode\":\"overlay\",\"size\":10,\"solidity\":0.2}},\"type\":\"histogram\"}],\"scattergl\":[{\"type\":\"scattergl\",\"marker\":{\"colorbar\":{\"outlinewidth\":0,\"ticks\":\"\"}}}],\"scatter3d\":[{\"type\":\"scatter3d\",\"line\":{\"colorbar\":{\"outlinewidth\":0,\"ticks\":\"\"}},\"marker\":{\"colorbar\":{\"outlinewidth\":0,\"ticks\":\"\"}}}],\"scattermapbox\":[{\"type\":\"scattermapbox\",\"marker\":{\"colorbar\":{\"outlinewidth\":0,\"ticks\":\"\"}}}],\"scatterternary\":[{\"type\":\"scatterternary\",\"marker\":{\"colorbar\":{\"outlinewidth\":0,\"ticks\":\"\"}}}],\"scattercarpet\":[{\"type\":\"scattercarpet\",\"marker\":{\"colorbar\":{\"outlinewidth\":0,\"ticks\":\"\"}}}],\"carpet\":[{\"aaxis\":{\"endlinecolor\":\"#2a3f5f\",\"gridcolor\":\"white\",\"linecolor\":\"white\",\"minorgridcolor\":\"white\",\"startlinecolor\":\"#2a3f5f\"},\"baxis\":{\"endlinecolor\":\"#2a3f5f\",\"gridcolor\":\"white\",\"linecolor\":\"white\",\"minorgridcolor\":\"white\",\"startlinecolor\":\"#2a3f5f\"},\"type\":\"carpet\"}],\"table\":[{\"cells\":{\"fill\":{\"color\":\"#EBF0F8\"},\"line\":{\"color\":\"white\"}},\"header\":{\"fill\":{\"color\":\"#C8D4E3\"},\"line\":{\"color\":\"white\"}},\"type\":\"table\"}],\"barpolar\":[{\"marker\":{\"line\":{\"color\":\"#E5ECF6\",\"width\":0.5},\"pattern\":{\"fillmode\":\"overlay\",\"size\":10,\"solidity\":0.2}},\"type\":\"barpolar\"}],\"pie\":[{\"automargin\":true,\"type\":\"pie\"}]},\"layout\":{\"autotypenumbers\":\"strict\",\"colorway\":[\"#636efa\",\"#EF553B\",\"#00cc96\",\"#ab63fa\",\"#FFA15A\",\"#19d3f3\",\"#FF6692\",\"#B6E880\",\"#FF97FF\",\"#FECB52\"],\"font\":{\"color\":\"#2a3f5f\"},\"hovermode\":\"closest\",\"hoverlabel\":{\"align\":\"left\"},\"paper_bgcolor\":\"white\",\"plot_bgcolor\":\"#E5ECF6\",\"polar\":{\"bgcolor\":\"#E5ECF6\",\"angularaxis\":{\"gridcolor\":\"white\",\"linecolor\":\"white\",\"ticks\":\"\"},\"radialaxis\":{\"gridcolor\":\"white\",\"linecolor\":\"white\",\"ticks\":\"\"}},\"ternary\":{\"bgcolor\":\"#E5ECF6\",\"aaxis\":{\"gridcolor\":\"white\",\"linecolor\":\"white\",\"ticks\":\"\"},\"baxis\":{\"gridcolor\":\"white\",\"linecolor\":\"white\",\"ticks\":\"\"},\"caxis\":{\"gridcolor\":\"white\",\"linecolor\":\"white\",\"ticks\":\"\"}},\"coloraxis\":{\"colorbar\":{\"outlinewidth\":0,\"ticks\":\"\"}},\"colorscale\":{\"sequential\":[[0.0,\"#0d0887\"],[0.1111111111111111,\"#46039f\"],[0.2222222222222222,\"#7201a8\"],[0.3333333333333333,\"#9c179e\"],[0.4444444444444444,\"#bd3786\"],[0.5555555555555556,\"#d8576b\"],[0.6666666666666666,\"#ed7953\"],[0.7777777777777778,\"#fb9f3a\"],[0.8888888888888888,\"#fdca26\"],[1.0,\"#f0f921\"]],\"sequentialminus\":[[0.0,\"#0d0887\"],[0.1111111111111111,\"#46039f\"],[0.2222222222222222,\"#7201a8\"],[0.3333333333333333,\"#9c179e\"],[0.4444444444444444,\"#bd3786\"],[0.5555555555555556,\"#d8576b\"],[0.6666666666666666,\"#ed7953\"],[0.7777777777777778,\"#fb9f3a\"],[0.8888888888888888,\"#fdca26\"],[1.0,\"#f0f921\"]],\"diverging\":[[0,\"#8e0152\"],[0.1,\"#c51b7d\"],[0.2,\"#de77ae\"],[0.3,\"#f1b6da\"],[0.4,\"#fde0ef\"],[0.5,\"#f7f7f7\"],[0.6,\"#e6f5d0\"],[0.7,\"#b8e186\"],[0.8,\"#7fbc41\"],[0.9,\"#4d9221\"],[1,\"#276419\"]]},\"xaxis\":{\"gridcolor\":\"white\",\"linecolor\":\"white\",\"ticks\":\"\",\"title\":{\"standoff\":15},\"zerolinecolor\":\"white\",\"automargin\":true,\"zerolinewidth\":2},\"yaxis\":{\"gridcolor\":\"white\",\"linecolor\":\"white\",\"ticks\":\"\",\"title\":{\"standoff\":15},\"zerolinecolor\":\"white\",\"automargin\":true,\"zerolinewidth\":2},\"scene\":{\"xaxis\":{\"backgroundcolor\":\"#E5ECF6\",\"gridcolor\":\"white\",\"linecolor\":\"white\",\"showbackground\":true,\"ticks\":\"\",\"zerolinecolor\":\"white\",\"gridwidth\":2},\"yaxis\":{\"backgroundcolor\":\"#E5ECF6\",\"gridcolor\":\"white\",\"linecolor\":\"white\",\"showbackground\":true,\"ticks\":\"\",\"zerolinecolor\":\"white\",\"gridwidth\":2},\"zaxis\":{\"backgroundcolor\":\"#E5ECF6\",\"gridcolor\":\"white\",\"linecolor\":\"white\",\"showbackground\":true,\"ticks\":\"\",\"zerolinecolor\":\"white\",\"gridwidth\":2}},\"shapedefaults\":{\"line\":{\"color\":\"#2a3f5f\"}},\"annotationdefaults\":{\"arrowcolor\":\"#2a3f5f\",\"arrowhead\":0,\"arrowwidth\":1},\"geo\":{\"bgcolor\":\"white\",\"landcolor\":\"#E5ECF6\",\"subunitcolor\":\"white\",\"showland\":true,\"showlakes\":true,\"lakecolor\":\"white\"},\"title\":{\"x\":0.05},\"mapbox\":{\"style\":\"light\"}}},\"margin\":{\"l\":50,\"r\":150,\"b\":30,\"t\":50},\"font\":{\"size\":15},\"yaxis\":{\"title\":{\"text\":\"obj (\\u20ac)\"}},\"xaxis\":{\"title\":{\"text\":\"r up (#Pn\\u002fh)\"}},\"width\":750,\"height\":350},                        {\"responsive\": true}                    ).then(function(){\n",
       "                            \n",
       "var gd = document.getElementById('993b3471-88eb-48d7-9948-b5b04f8a93bf');\n",
       "var x = new MutationObserver(function (mutations, observer) {{\n",
       "        var display = window.getComputedStyle(gd).display;\n",
       "        if (!display || display === 'none') {{\n",
       "            console.log([gd, 'removed!']);\n",
       "            Plotly.purge(gd);\n",
       "            observer.disconnect();\n",
       "        }}\n",
       "}});\n",
       "\n",
       "// Listen for the removal of the full notebook cells\n",
       "var notebookContainer = gd.closest('#notebook-container');\n",
       "if (notebookContainer) {{\n",
       "    x.observe(notebookContainer, {childList: true});\n",
       "}}\n",
       "\n",
       "// Listen for the clearing of the current output cell\n",
       "var outputEl = gd.closest('.output');\n",
       "if (outputEl) {{\n",
       "    x.observe(outputEl, {childList: true});\n",
       "}}\n",
       "\n",
       "                        })                };                });            </script>        </div>"
      ]
     },
     "metadata": {},
     "output_type": "display_data"
    },
    {
     "name": "stdout",
     "output_type": "stream",
     "text": [
      "\n"
     ]
    },
    {
     "data": {
      "application/vnd.plotly.v1+json": {
       "config": {
        "plotlyServerURL": "https://plot.ly"
       },
       "data": [
        {
         "line": {
          "width": 2
         },
         "mode": "lines",
         "name": "hist",
         "type": "scatter",
         "visible": "legendonly",
         "x": [
          0.001,
          0.002,
          0.003,
          0.004,
          0.005,
          0.006,
          0.007,
          0.008,
          0.009,
          0.01,
          0.011,
          0.012,
          0.013,
          0.014,
          0.015,
          0.016,
          0.017,
          0.018,
          0.019,
          0.02,
          0.021,
          0.022,
          0.023,
          0.024,
          0.025,
          0.026,
          0.027,
          0.028,
          0.029,
          0.03,
          0.031,
          0.032,
          0.033,
          0.034,
          0.035,
          0.036,
          0.037,
          0.038,
          0.039,
          0.04,
          0.041,
          0.042,
          0.043,
          0.044,
          0.045,
          0.046,
          0.047,
          0.048,
          0.049,
          0.05,
          0.051,
          0.052,
          0.053,
          0.054,
          0.055,
          0.056
         ],
         "y": [
          0,
          0,
          0,
          0,
          0,
          0,
          0,
          0,
          0,
          0,
          0,
          0,
          0,
          0,
          0,
          0,
          0,
          0,
          0,
          0,
          0,
          0,
          0,
          0,
          0,
          0,
          0,
          0,
          0,
          0,
          0,
          0,
          0,
          0,
          0,
          0,
          0,
          0,
          0,
          0,
          0,
          0,
          0,
          0,
          0,
          0,
          0,
          0,
          0,
          0,
          0,
          0,
          0,
          0,
          0,
          0
         ]
        },
        {
         "line": {
          "width": 2
         },
         "mode": "lines",
         "name": "new",
         "type": "scatter",
         "visible": "legendonly",
         "x": [
          0.001,
          0.002,
          0.003,
          0.004,
          0.005,
          0.006,
          0.007,
          0.008,
          0.009,
          0.01,
          0.011,
          0.012,
          0.013,
          0.014,
          0.015,
          0.016,
          0.017,
          0.018,
          0.019,
          0.02,
          0.021,
          0.022,
          0.023,
          0.024,
          0.025,
          0.026,
          0.027,
          0.028,
          0.029,
          0.03,
          0.031,
          0.032,
          0.033,
          0.034,
          0.035,
          0.036,
          0.037,
          0.038,
          0.039,
          0.04,
          0.041,
          0.042,
          0.043,
          0.044,
          0.045,
          0.046,
          0.047,
          0.048,
          0.049,
          0.05,
          0.051,
          0.052,
          0.053,
          0.054,
          0.055,
          0.056
         ],
         "y": [
          59664.048163256426,
          64470.98718140063,
          68787.2777821895,
          68278.90738713412,
          68658.62266339346,
          67950.05493598507,
          67394.06750701727,
          67217.2603187479,
          67509.56184391736,
          67419.11161332985,
          67004.39970319379,
          66350.90768623464,
          65439.16615133388,
          64774.92970737293,
          64291.21155039767,
          64162.68266873382,
          64143.30555278456,
          63939.74151582704,
          63670.283914374384,
          63208.544119491286,
          62950.85343155104,
          62663.515451666986,
          62454.79027720841,
          62264.60468072508,
          61796.54061504231,
          61422.43980422317,
          61385.07496197277,
          61201.71893191634,
          60886.1264909325,
          60372.71507743914,
          60245.142799369176,
          59716.2568466188,
          59145.00801592847,
          58752.72541597921,
          58675.65050728191,
          58816.88614373208,
          58890.29739466678,
          59016.84353083055,
          58916.96759346939,
          58897.44392059252,
          58774.609858201526,
          58635.46381136272,
          58551.33409632413,
          58417.21078902389,
          58424.46801571967,
          58254.327887880485,
          58280.5673625638,
          58197.30763483483,
          58106.09235583001,
          57989.29968136152,
          57940.771636539255,
          57866.69595326975,
          57793.90503316178,
          57733.96063215227,
          57665.26611364247,
          57601.13939982836
         ]
        },
        {
         "line": {
          "width": 2
         },
         "mode": "lines",
         "name": "ccgt",
         "type": "scatter",
         "visible": "legendonly",
         "x": [
          0.001,
          0.002,
          0.003,
          0.004,
          0.005,
          0.006,
          0.007,
          0.008,
          0.009,
          0.01,
          0.011,
          0.012,
          0.013,
          0.014,
          0.015,
          0.016,
          0.017,
          0.018,
          0.019,
          0.02,
          0.021,
          0.022,
          0.023,
          0.024,
          0.025,
          0.026,
          0.027,
          0.028,
          0.029,
          0.03,
          0.031,
          0.032,
          0.033,
          0.034,
          0.035,
          0.036,
          0.037,
          0.038,
          0.039,
          0.04,
          0.041,
          0.042,
          0.043,
          0.044,
          0.045,
          0.046,
          0.047,
          0.048,
          0.049,
          0.05,
          0.051,
          0.052,
          0.053,
          0.054,
          0.055,
          0.056
         ],
         "y": [
          11981.8461209392,
          11191.462620167027,
          11191.462620167027,
          11175.027448649287,
          10761.19155227074,
          10860.36890442194,
          11231.20480402898,
          11274.615987881938,
          11262.867523064177,
          11312.013875601871,
          11312.533426579124,
          11416.782672919053,
          11632.82277453756,
          11817.80865490362,
          11955.486208457964,
          12120.81867513272,
          12283.735092577275,
          12336.039245570955,
          12388.802767108718,
          12500.459025754555,
          12591.418322690704,
          12645.51627636308,
          12721.226170157055,
          12774.80226100038,
          12811.97478945184,
          12897.476039823818,
          12947.132395476154,
          12992.61159160604,
          13019.873528763354,
          13033.13892937655,
          13052.548318571093,
          13058.435048072632,
          13031.42998485966,
          13050.93677497206,
          13045.225874157788,
          13025.483123628095,
          13027.857491786404,
          13079.537895950203,
          13084.61525210809,
          13057.497308466583,
          13063.646532299314,
          13057.359954463442,
          13052.486349549928,
          13061.438595143947,
          13065.214455524678,
          13084.106387510736,
          13076.10302760392,
          13078.026332580434,
          13069.850784495764,
          13061.438595143944,
          13061.438595143944,
          13061.438595143944,
          13058.250220940045,
          13075.668004554109,
          13059.882618767562,
          13054.353352484704
         ]
        },
        {
         "line": {
          "width": 2
         },
         "mode": "lines",
         "name": "ccgt_bioch4",
         "type": "scatter",
         "visible": true,
         "x": [
          0.001,
          0.002,
          0.003,
          0.004,
          0.005,
          0.006,
          0.007,
          0.008,
          0.009,
          0.01,
          0.011,
          0.012,
          0.013,
          0.014,
          0.015,
          0.016,
          0.017,
          0.018,
          0.019,
          0.02,
          0.021,
          0.022,
          0.023,
          0.024,
          0.025,
          0.026,
          0.027,
          0.028,
          0.029,
          0.03,
          0.031,
          0.032,
          0.033,
          0.034,
          0.035,
          0.036,
          0.037,
          0.038,
          0.039,
          0.04,
          0.041,
          0.042,
          0.043,
          0.044,
          0.045,
          0.046,
          0.047,
          0.048,
          0.049,
          0.05,
          0.051,
          0.052,
          0.053,
          0.054,
          0.055,
          0.056
         ],
         "y": [
          55101.95875979663,
          50591.3661542346,
          45829.47651230525,
          43945.55644815151,
          41544.91449375265,
          41360.430297042,
          40943.50573183356,
          40738.59854171172,
          40259.10710972494,
          40098.46846226931,
          40181.63210061008,
          40334.18975031572,
          40624.32582222887,
          40697.61033956942,
          40645.6787157012,
          40318.90044202831,
          39961.17859235298,
          39857.68439153988,
          39885.942972888944,
          39968.614081544,
          39867.30883671504,
          39901.68120832535,
          39808.04907060099,
          39675.909122640216,
          39905.599113661454,
          39998.55560398201,
          39791.817810649634,
          39667.93079268176,
          39787.30609911716,
          40066.61329506743,
          39986.08799158857,
          40348.69342932441,
          40823.82779752434,
          41146.92681695386,
          41193.94896496763,
          41056.2969320186,
          40893.899013138034,
          40743.171027217286,
          40816.28927599805,
          40823.51596485402,
          40909.46060532304,
          41043.28170375485,
          41132.36692478038,
          41244.74469884156,
          41222.04894368027,
          41362.42157596306,
          41353.69002483349,
          41429.62944813498,
          41522.70727950944,
          41634.02271164156,
          41688.33755214461,
          41759.54890624451,
          41833.24058391714,
          41877.441292928735,
          41933.03015216134,
          41993.89813634544
         ]
        },
        {
         "line": {
          "width": 2
         },
         "mode": "lines",
         "name": "won",
         "type": "scatter",
         "visible": true,
         "x": [
          0.001,
          0.002,
          0.003,
          0.004,
          0.005,
          0.006,
          0.007,
          0.008,
          0.009,
          0.01,
          0.011,
          0.012,
          0.013,
          0.014,
          0.015,
          0.016,
          0.017,
          0.018,
          0.019,
          0.02,
          0.021,
          0.022,
          0.023,
          0.024,
          0.025,
          0.026,
          0.027,
          0.028,
          0.029,
          0.03,
          0.031,
          0.032,
          0.033,
          0.034,
          0.035,
          0.036,
          0.037,
          0.038,
          0.039,
          0.04,
          0.041,
          0.042,
          0.043,
          0.044,
          0.045,
          0.046,
          0.047,
          0.048,
          0.049,
          0.05,
          0.051,
          0.052,
          0.053,
          0.054,
          0.055,
          0.056
         ],
         "y": [
          153,
          153,
          153,
          2732.715149666441,
          5849.020715192764,
          6863.540025903808,
          8025.449259127534,
          9864.81193445063,
          11553.76854906181,
          12722.64644209727,
          14422.913523940808,
          16303.551078411752,
          18172.86721499375,
          19680.79349397317,
          21792.16258328074,
          23041.735242624494,
          24566.83832213409,
          25284.190670561253,
          26127.296481916845,
          26827.4458378055,
          27380.66368235413,
          28678.09427022748,
          29962.53979395095,
          31208.716586740036,
          32326.209021290397,
          33097.41386956917,
          34424.55527582671,
          35277.220790594845,
          36269.58209995264,
          36694.88019475885,
          36196.21708470754,
          35892.44333385576,
          35716.447739099385,
          34742.41894950602,
          33651.77972536528,
          33917.59112570789,
          32925.46275564399,
          34686.09575409032,
          34308.23987830612,
          33948.45200590266,
          33583.24956862419,
          32900.880907346625,
          32905.693946103405,
          32153.87731312237,
          31468.50322521355,
          30829.38450826862,
          31387.93436951251,
          31070.77164574493,
          30699.779035075044,
          29883.54586221288,
          30223.61554290721,
          30055.288966365537,
          29920.853761983723,
          30019.234253149225,
          29503.662109076715,
          29320.475125730736
         ]
        },
        {
         "line": {
          "width": 2
         },
         "mode": "lines",
         "name": "wof",
         "type": "scatter",
         "visible": true,
         "x": [
          0.001,
          0.002,
          0.003,
          0.004,
          0.005,
          0.006,
          0.007,
          0.008,
          0.009,
          0.01,
          0.011,
          0.012,
          0.013,
          0.014,
          0.015,
          0.016,
          0.017,
          0.018,
          0.019,
          0.02,
          0.021,
          0.022,
          0.023,
          0.024,
          0.025,
          0.026,
          0.027,
          0.028,
          0.029,
          0.03,
          0.031,
          0.032,
          0.033,
          0.034,
          0.035,
          0.036,
          0.037,
          0.038,
          0.039,
          0.04,
          0.041,
          0.042,
          0.043,
          0.044,
          0.045,
          0.046,
          0.047,
          0.048,
          0.049,
          0.05,
          0.051,
          0.052,
          0.053,
          0.054,
          0.055,
          0.056
         ],
         "y": [
          9700.262672397208,
          11984.827242062023,
          14045.40084271171,
          16250.448001187437,
          16717.681500075505,
          18602.846909689026,
          19903.830114405504,
          20064.26332454964,
          19870.26683883891,
          20088.13378594452,
          20609.32098162805,
          21353.138297960784,
          22154.221845458647,
          23232.256229272112,
          23807.707002684205,
          24446.59183653652,
          24460.69866337529,
          25311.22713697885,
          25702.759012267936,
          26635.727255844165,
          27683.82402243001,
          27787.10709384881,
          28052.480255341117,
          28577.64422027969,
          28830.518033519213,
          29316.20788243944,
          29372.6758814104,
          30158.738959330065,
          30330.05438792027,
          31216.78702504652,
          32629.81551202685,
          33739.636845964866,
          34548.06925405149,
          35560.79958261814,
          36585.94946671314,
          36472.403248800976,
          37701.28057008272,
          36212.040115610085,
          36618.110445404905,
          37107.62000682077,
          37553.71335619954,
          38136.12529041947,
          38132.01728931844,
          38773.70411381798,
          39358.681224952976,
          39904.1786800019,
          39427.44795729214,
          39698.15112098391,
          40014.79890424672,
          40711.46621615261,
          40421.21161956565,
          40564.88088896152,
          40679.62336154893,
          40595.654129957984,
          41145.93730833502,
          41333.36300615488
         ]
        },
        {
         "line": {
          "width": 2
         },
         "mode": "lines",
         "name": "pv",
         "type": "scatter",
         "visible": true,
         "x": [
          0.001,
          0.002,
          0.003,
          0.004,
          0.005,
          0.006,
          0.007,
          0.008,
          0.009,
          0.01,
          0.011,
          0.012,
          0.013,
          0.014,
          0.015,
          0.016,
          0.017,
          0.018,
          0.019,
          0.02,
          0.021,
          0.022,
          0.023,
          0.024,
          0.025,
          0.026,
          0.027,
          0.028,
          0.029,
          0.03,
          0.031,
          0.032,
          0.033,
          0.034,
          0.035,
          0.036,
          0.037,
          0.038,
          0.039,
          0.04,
          0.041,
          0.042,
          0.043,
          0.044,
          0.045,
          0.046,
          0.047,
          0.048,
          0.049,
          0.05,
          0.051,
          0.052,
          0.053,
          0.054,
          0.055,
          0.056
         ],
         "y": [
          29177.598151199287,
          25360.85361578509,
          25234.97513757765,
          27514.91677943704,
          27394.500329690956,
          29340.79179303092,
          29685.109061847204,
          29769.89355060592,
          29696.1640878222,
          29914.792886690164,
          30075.58855555573,
          30567.77084564272,
          31019.375944117448,
          31745.0686216094,
          32057.028432123,
          31946.21365981149,
          31499.058010562218,
          31276.08512786461,
          31227.8731443514,
          31105.567509075943,
          30987.528662536464,
          30833.2681757365,
          30915.361694011797,
          31233.51236867555,
          31440.62647327901,
          31863.94573489957,
          31841.06066503584,
          31624.156723682536,
          31875.244682916516,
          32249.717132181067,
          32400.25169817761,
          32493.956473668382,
          32814.962805304414,
          33052.21242838919,
          33076.36235159696,
          32895.466997922194,
          32536.96750616584,
          32285.264766736946,
          32228.27337189119,
          32041.943271533448,
          31918.012571894407,
          32008.85386834901,
          32008.213125733877,
          32108.299781982478,
          32199.54118012269,
          32284.62476635743,
          32210.26702338178,
          32252.489761102697,
          32301.87867891324,
          32410.54087845405,
          32365.268619582464,
          32387.67733397445,
          32405.57421134932,
          32392.47716884072,
          32258.19295201835,
          32225.38089399603
         ]
        }
       ],
       "layout": {
        "font": {
         "size": 15
        },
        "height": 350,
        "margin": {
         "b": 30,
         "l": 50,
         "r": 150,
         "t": 50
        },
        "template": {
         "data": {
          "bar": [
           {
            "error_x": {
             "color": "#2a3f5f"
            },
            "error_y": {
             "color": "#2a3f5f"
            },
            "marker": {
             "line": {
              "color": "#E5ECF6",
              "width": 0.5
             },
             "pattern": {
              "fillmode": "overlay",
              "size": 10,
              "solidity": 0.2
             }
            },
            "type": "bar"
           }
          ],
          "barpolar": [
           {
            "marker": {
             "line": {
              "color": "#E5ECF6",
              "width": 0.5
             },
             "pattern": {
              "fillmode": "overlay",
              "size": 10,
              "solidity": 0.2
             }
            },
            "type": "barpolar"
           }
          ],
          "carpet": [
           {
            "aaxis": {
             "endlinecolor": "#2a3f5f",
             "gridcolor": "white",
             "linecolor": "white",
             "minorgridcolor": "white",
             "startlinecolor": "#2a3f5f"
            },
            "baxis": {
             "endlinecolor": "#2a3f5f",
             "gridcolor": "white",
             "linecolor": "white",
             "minorgridcolor": "white",
             "startlinecolor": "#2a3f5f"
            },
            "type": "carpet"
           }
          ],
          "choropleth": [
           {
            "colorbar": {
             "outlinewidth": 0,
             "ticks": ""
            },
            "type": "choropleth"
           }
          ],
          "contour": [
           {
            "colorbar": {
             "outlinewidth": 0,
             "ticks": ""
            },
            "colorscale": [
             [
              0,
              "#0d0887"
             ],
             [
              0.1111111111111111,
              "#46039f"
             ],
             [
              0.2222222222222222,
              "#7201a8"
             ],
             [
              0.3333333333333333,
              "#9c179e"
             ],
             [
              0.4444444444444444,
              "#bd3786"
             ],
             [
              0.5555555555555556,
              "#d8576b"
             ],
             [
              0.6666666666666666,
              "#ed7953"
             ],
             [
              0.7777777777777778,
              "#fb9f3a"
             ],
             [
              0.8888888888888888,
              "#fdca26"
             ],
             [
              1,
              "#f0f921"
             ]
            ],
            "type": "contour"
           }
          ],
          "contourcarpet": [
           {
            "colorbar": {
             "outlinewidth": 0,
             "ticks": ""
            },
            "type": "contourcarpet"
           }
          ],
          "heatmap": [
           {
            "colorbar": {
             "outlinewidth": 0,
             "ticks": ""
            },
            "colorscale": [
             [
              0,
              "#0d0887"
             ],
             [
              0.1111111111111111,
              "#46039f"
             ],
             [
              0.2222222222222222,
              "#7201a8"
             ],
             [
              0.3333333333333333,
              "#9c179e"
             ],
             [
              0.4444444444444444,
              "#bd3786"
             ],
             [
              0.5555555555555556,
              "#d8576b"
             ],
             [
              0.6666666666666666,
              "#ed7953"
             ],
             [
              0.7777777777777778,
              "#fb9f3a"
             ],
             [
              0.8888888888888888,
              "#fdca26"
             ],
             [
              1,
              "#f0f921"
             ]
            ],
            "type": "heatmap"
           }
          ],
          "heatmapgl": [
           {
            "colorbar": {
             "outlinewidth": 0,
             "ticks": ""
            },
            "colorscale": [
             [
              0,
              "#0d0887"
             ],
             [
              0.1111111111111111,
              "#46039f"
             ],
             [
              0.2222222222222222,
              "#7201a8"
             ],
             [
              0.3333333333333333,
              "#9c179e"
             ],
             [
              0.4444444444444444,
              "#bd3786"
             ],
             [
              0.5555555555555556,
              "#d8576b"
             ],
             [
              0.6666666666666666,
              "#ed7953"
             ],
             [
              0.7777777777777778,
              "#fb9f3a"
             ],
             [
              0.8888888888888888,
              "#fdca26"
             ],
             [
              1,
              "#f0f921"
             ]
            ],
            "type": "heatmapgl"
           }
          ],
          "histogram": [
           {
            "marker": {
             "pattern": {
              "fillmode": "overlay",
              "size": 10,
              "solidity": 0.2
             }
            },
            "type": "histogram"
           }
          ],
          "histogram2d": [
           {
            "colorbar": {
             "outlinewidth": 0,
             "ticks": ""
            },
            "colorscale": [
             [
              0,
              "#0d0887"
             ],
             [
              0.1111111111111111,
              "#46039f"
             ],
             [
              0.2222222222222222,
              "#7201a8"
             ],
             [
              0.3333333333333333,
              "#9c179e"
             ],
             [
              0.4444444444444444,
              "#bd3786"
             ],
             [
              0.5555555555555556,
              "#d8576b"
             ],
             [
              0.6666666666666666,
              "#ed7953"
             ],
             [
              0.7777777777777778,
              "#fb9f3a"
             ],
             [
              0.8888888888888888,
              "#fdca26"
             ],
             [
              1,
              "#f0f921"
             ]
            ],
            "type": "histogram2d"
           }
          ],
          "histogram2dcontour": [
           {
            "colorbar": {
             "outlinewidth": 0,
             "ticks": ""
            },
            "colorscale": [
             [
              0,
              "#0d0887"
             ],
             [
              0.1111111111111111,
              "#46039f"
             ],
             [
              0.2222222222222222,
              "#7201a8"
             ],
             [
              0.3333333333333333,
              "#9c179e"
             ],
             [
              0.4444444444444444,
              "#bd3786"
             ],
             [
              0.5555555555555556,
              "#d8576b"
             ],
             [
              0.6666666666666666,
              "#ed7953"
             ],
             [
              0.7777777777777778,
              "#fb9f3a"
             ],
             [
              0.8888888888888888,
              "#fdca26"
             ],
             [
              1,
              "#f0f921"
             ]
            ],
            "type": "histogram2dcontour"
           }
          ],
          "mesh3d": [
           {
            "colorbar": {
             "outlinewidth": 0,
             "ticks": ""
            },
            "type": "mesh3d"
           }
          ],
          "parcoords": [
           {
            "line": {
             "colorbar": {
              "outlinewidth": 0,
              "ticks": ""
             }
            },
            "type": "parcoords"
           }
          ],
          "pie": [
           {
            "automargin": true,
            "type": "pie"
           }
          ],
          "scatter": [
           {
            "fillpattern": {
             "fillmode": "overlay",
             "size": 10,
             "solidity": 0.2
            },
            "type": "scatter"
           }
          ],
          "scatter3d": [
           {
            "line": {
             "colorbar": {
              "outlinewidth": 0,
              "ticks": ""
             }
            },
            "marker": {
             "colorbar": {
              "outlinewidth": 0,
              "ticks": ""
             }
            },
            "type": "scatter3d"
           }
          ],
          "scattercarpet": [
           {
            "marker": {
             "colorbar": {
              "outlinewidth": 0,
              "ticks": ""
             }
            },
            "type": "scattercarpet"
           }
          ],
          "scattergeo": [
           {
            "marker": {
             "colorbar": {
              "outlinewidth": 0,
              "ticks": ""
             }
            },
            "type": "scattergeo"
           }
          ],
          "scattergl": [
           {
            "marker": {
             "colorbar": {
              "outlinewidth": 0,
              "ticks": ""
             }
            },
            "type": "scattergl"
           }
          ],
          "scattermapbox": [
           {
            "marker": {
             "colorbar": {
              "outlinewidth": 0,
              "ticks": ""
             }
            },
            "type": "scattermapbox"
           }
          ],
          "scatterpolar": [
           {
            "marker": {
             "colorbar": {
              "outlinewidth": 0,
              "ticks": ""
             }
            },
            "type": "scatterpolar"
           }
          ],
          "scatterpolargl": [
           {
            "marker": {
             "colorbar": {
              "outlinewidth": 0,
              "ticks": ""
             }
            },
            "type": "scatterpolargl"
           }
          ],
          "scatterternary": [
           {
            "marker": {
             "colorbar": {
              "outlinewidth": 0,
              "ticks": ""
             }
            },
            "type": "scatterternary"
           }
          ],
          "surface": [
           {
            "colorbar": {
             "outlinewidth": 0,
             "ticks": ""
            },
            "colorscale": [
             [
              0,
              "#0d0887"
             ],
             [
              0.1111111111111111,
              "#46039f"
             ],
             [
              0.2222222222222222,
              "#7201a8"
             ],
             [
              0.3333333333333333,
              "#9c179e"
             ],
             [
              0.4444444444444444,
              "#bd3786"
             ],
             [
              0.5555555555555556,
              "#d8576b"
             ],
             [
              0.6666666666666666,
              "#ed7953"
             ],
             [
              0.7777777777777778,
              "#fb9f3a"
             ],
             [
              0.8888888888888888,
              "#fdca26"
             ],
             [
              1,
              "#f0f921"
             ]
            ],
            "type": "surface"
           }
          ],
          "table": [
           {
            "cells": {
             "fill": {
              "color": "#EBF0F8"
             },
             "line": {
              "color": "white"
             }
            },
            "header": {
             "fill": {
              "color": "#C8D4E3"
             },
             "line": {
              "color": "white"
             }
            },
            "type": "table"
           }
          ]
         },
         "layout": {
          "annotationdefaults": {
           "arrowcolor": "#2a3f5f",
           "arrowhead": 0,
           "arrowwidth": 1
          },
          "autotypenumbers": "strict",
          "coloraxis": {
           "colorbar": {
            "outlinewidth": 0,
            "ticks": ""
           }
          },
          "colorscale": {
           "diverging": [
            [
             0,
             "#8e0152"
            ],
            [
             0.1,
             "#c51b7d"
            ],
            [
             0.2,
             "#de77ae"
            ],
            [
             0.3,
             "#f1b6da"
            ],
            [
             0.4,
             "#fde0ef"
            ],
            [
             0.5,
             "#f7f7f7"
            ],
            [
             0.6,
             "#e6f5d0"
            ],
            [
             0.7,
             "#b8e186"
            ],
            [
             0.8,
             "#7fbc41"
            ],
            [
             0.9,
             "#4d9221"
            ],
            [
             1,
             "#276419"
            ]
           ],
           "sequential": [
            [
             0,
             "#0d0887"
            ],
            [
             0.1111111111111111,
             "#46039f"
            ],
            [
             0.2222222222222222,
             "#7201a8"
            ],
            [
             0.3333333333333333,
             "#9c179e"
            ],
            [
             0.4444444444444444,
             "#bd3786"
            ],
            [
             0.5555555555555556,
             "#d8576b"
            ],
            [
             0.6666666666666666,
             "#ed7953"
            ],
            [
             0.7777777777777778,
             "#fb9f3a"
            ],
            [
             0.8888888888888888,
             "#fdca26"
            ],
            [
             1,
             "#f0f921"
            ]
           ],
           "sequentialminus": [
            [
             0,
             "#0d0887"
            ],
            [
             0.1111111111111111,
             "#46039f"
            ],
            [
             0.2222222222222222,
             "#7201a8"
            ],
            [
             0.3333333333333333,
             "#9c179e"
            ],
            [
             0.4444444444444444,
             "#bd3786"
            ],
            [
             0.5555555555555556,
             "#d8576b"
            ],
            [
             0.6666666666666666,
             "#ed7953"
            ],
            [
             0.7777777777777778,
             "#fb9f3a"
            ],
            [
             0.8888888888888888,
             "#fdca26"
            ],
            [
             1,
             "#f0f921"
            ]
           ]
          },
          "colorway": [
           "#636efa",
           "#EF553B",
           "#00cc96",
           "#ab63fa",
           "#FFA15A",
           "#19d3f3",
           "#FF6692",
           "#B6E880",
           "#FF97FF",
           "#FECB52"
          ],
          "font": {
           "color": "#2a3f5f"
          },
          "geo": {
           "bgcolor": "white",
           "lakecolor": "white",
           "landcolor": "#E5ECF6",
           "showlakes": true,
           "showland": true,
           "subunitcolor": "white"
          },
          "hoverlabel": {
           "align": "left"
          },
          "hovermode": "closest",
          "mapbox": {
           "style": "light"
          },
          "paper_bgcolor": "white",
          "plot_bgcolor": "#E5ECF6",
          "polar": {
           "angularaxis": {
            "gridcolor": "white",
            "linecolor": "white",
            "ticks": ""
           },
           "bgcolor": "#E5ECF6",
           "radialaxis": {
            "gridcolor": "white",
            "linecolor": "white",
            "ticks": ""
           }
          },
          "scene": {
           "xaxis": {
            "backgroundcolor": "#E5ECF6",
            "gridcolor": "white",
            "gridwidth": 2,
            "linecolor": "white",
            "showbackground": true,
            "ticks": "",
            "zerolinecolor": "white"
           },
           "yaxis": {
            "backgroundcolor": "#E5ECF6",
            "gridcolor": "white",
            "gridwidth": 2,
            "linecolor": "white",
            "showbackground": true,
            "ticks": "",
            "zerolinecolor": "white"
           },
           "zaxis": {
            "backgroundcolor": "#E5ECF6",
            "gridcolor": "white",
            "gridwidth": 2,
            "linecolor": "white",
            "showbackground": true,
            "ticks": "",
            "zerolinecolor": "white"
           }
          },
          "shapedefaults": {
           "line": {
            "color": "#2a3f5f"
           }
          },
          "ternary": {
           "aaxis": {
            "gridcolor": "white",
            "linecolor": "white",
            "ticks": ""
           },
           "baxis": {
            "gridcolor": "white",
            "linecolor": "white",
            "ticks": ""
           },
           "bgcolor": "#E5ECF6",
           "caxis": {
            "gridcolor": "white",
            "linecolor": "white",
            "ticks": ""
           }
          },
          "title": {
           "x": 0.05
          },
          "xaxis": {
           "automargin": true,
           "gridcolor": "white",
           "linecolor": "white",
           "ticks": "",
           "title": {
            "standoff": 15
           },
           "zerolinecolor": "white",
           "zerolinewidth": 2
          },
          "yaxis": {
           "automargin": true,
           "gridcolor": "white",
           "linecolor": "white",
           "ticks": "",
           "title": {
            "standoff": 15
           },
           "zerolinecolor": "white",
           "zerolinewidth": 2
          }
         }
        },
        "width": 750,
        "xaxis": {
         "autorange": true,
         "range": [
          0.001,
          0.056
         ],
         "title": {
          "text": "r up (#Pn/h)"
         },
         "type": "linear"
        },
        "yaxis": {
         "autorange": true,
         "range": [
          -2899.719931099813,
          58154.67869089644
         ],
         "title": {
          "text": "P @y=2060 (MW)"
         },
         "type": "linear"
        }
       }
      },
      "image/png": "[encoded data removed]",
      "text/html": [
       "<div>                            <div id=\"d99d5674-eb0f-4eff-8bcb-9e3578824fc0\" class=\"plotly-graph-div\" style=\"height:350px; width:750px;\"></div>            <script type=\"text/javascript\">                require([\"plotly\"], function(Plotly) {                    window.PLOTLYENV=window.PLOTLYENV || {};                                    if (document.getElementById(\"d99d5674-eb0f-4eff-8bcb-9e3578824fc0\")) {                    Plotly.newPlot(                        \"d99d5674-eb0f-4eff-8bcb-9e3578824fc0\",                        [{\"line\":{\"width\":2.0},\"mode\":\"lines\",\"name\":\"hist\",\"x\":[0.001,0.002,0.003,0.004,0.005,0.006,0.007,0.008,0.009,0.01,0.011,0.012,0.013,0.014,0.015,0.016,0.017,0.018,0.019,0.02,0.021,0.022,0.023,0.024,0.025,0.026,0.027,0.028,0.029,0.03,0.031,0.032,0.033,0.034,0.035,0.036,0.037,0.038,0.039,0.04,0.041,0.042,0.043,0.044,0.045,0.046,0.047,0.048,0.049,0.05,0.051,0.052,0.053,0.054,0.055,0.056],\"y\":[0,0,0,0,0,0,0,0,0,0,0,0,0,0,0,0,0,0,0,0,0,0,0,0,0,0,0,0,0,0,0,0,0,0,0,0,0,0,0,0,0,0,0,0,0,0,0,0,0,0,0,0,0,0,0,0],\"type\":\"scatter\"},{\"line\":{\"width\":2.0},\"mode\":\"lines\",\"name\":\"new\",\"x\":[0.001,0.002,0.003,0.004,0.005,0.006,0.007,0.008,0.009,0.01,0.011,0.012,0.013,0.014,0.015,0.016,0.017,0.018,0.019,0.02,0.021,0.022,0.023,0.024,0.025,0.026,0.027,0.028,0.029,0.03,0.031,0.032,0.033,0.034,0.035,0.036,0.037,0.038,0.039,0.04,0.041,0.042,0.043,0.044,0.045,0.046,0.047,0.048,0.049,0.05,0.051,0.052,0.053,0.054,0.055,0.056],\"y\":[59664.048163256426,64470.98718140063,68787.2777821895,68278.90738713412,68658.62266339346,67950.05493598507,67394.06750701727,67217.2603187479,67509.56184391736,67419.11161332985,67004.39970319379,66350.90768623464,65439.16615133388,64774.92970737293,64291.21155039767,64162.68266873382,64143.30555278456,63939.74151582704,63670.283914374384,63208.544119491286,62950.85343155104,62663.515451666986,62454.79027720841,62264.60468072508,61796.54061504231,61422.43980422317,61385.07496197277,61201.71893191634,60886.1264909325,60372.71507743914,60245.142799369176,59716.2568466188,59145.00801592847,58752.72541597921,58675.65050728191,58816.88614373208,58890.29739466678,59016.84353083055,58916.96759346939,58897.44392059252,58774.609858201526,58635.46381136272,58551.33409632413,58417.21078902389,58424.46801571967,58254.327887880485,58280.5673625638,58197.30763483483,58106.09235583001,57989.29968136152,57940.771636539255,57866.69595326975,57793.90503316178,57733.96063215227,57665.26611364247,57601.13939982836],\"type\":\"scatter\"},{\"line\":{\"width\":2.0},\"mode\":\"lines\",\"name\":\"ccgt\",\"x\":[0.001,0.002,0.003,0.004,0.005,0.006,0.007,0.008,0.009,0.01,0.011,0.012,0.013,0.014,0.015,0.016,0.017,0.018,0.019,0.02,0.021,0.022,0.023,0.024,0.025,0.026,0.027,0.028,0.029,0.03,0.031,0.032,0.033,0.034,0.035,0.036,0.037,0.038,0.039,0.04,0.041,0.042,0.043,0.044,0.045,0.046,0.047,0.048,0.049,0.05,0.051,0.052,0.053,0.054,0.055,0.056],\"y\":[11981.8461209392,11191.462620167027,11191.462620167027,11175.027448649287,10761.19155227074,10860.36890442194,11231.20480402898,11274.615987881938,11262.867523064177,11312.013875601871,11312.533426579124,11416.782672919053,11632.82277453756,11817.80865490362,11955.486208457964,12120.81867513272,12283.735092577275,12336.039245570955,12388.802767108718,12500.459025754555,12591.418322690704,12645.51627636308,12721.226170157055,12774.80226100038,12811.97478945184,12897.476039823818,12947.132395476154,12992.61159160604,13019.873528763354,13033.13892937655,13052.548318571093,13058.435048072632,13031.42998485966,13050.93677497206,13045.225874157788,13025.483123628095,13027.857491786404,13079.537895950203,13084.61525210809,13057.497308466583,13063.646532299314,13057.359954463442,13052.486349549928,13061.438595143947,13065.214455524678,13084.106387510736,13076.10302760392,13078.026332580434,13069.850784495764,13061.438595143944,13061.438595143944,13061.438595143944,13058.250220940045,13075.668004554109,13059.882618767562,13054.353352484704],\"type\":\"scatter\"},{\"line\":{\"width\":2.0},\"mode\":\"lines\",\"name\":\"ccgt_bioch4\",\"x\":[0.001,0.002,0.003,0.004,0.005,0.006,0.007,0.008,0.009,0.01,0.011,0.012,0.013,0.014,0.015,0.016,0.017,0.018,0.019,0.02,0.021,0.022,0.023,0.024,0.025,0.026,0.027,0.028,0.029,0.03,0.031,0.032,0.033,0.034,0.035,0.036,0.037,0.038,0.039,0.04,0.041,0.042,0.043,0.044,0.045,0.046,0.047,0.048,0.049,0.05,0.051,0.052,0.053,0.054,0.055,0.056],\"y\":[55101.95875979663,50591.3661542346,45829.47651230525,43945.55644815151,41544.91449375265,41360.430297042,40943.50573183356,40738.59854171172,40259.10710972494,40098.46846226931,40181.63210061008,40334.18975031572,40624.32582222887,40697.61033956942,40645.6787157012,40318.90044202831,39961.17859235298,39857.68439153988,39885.942972888944,39968.614081544,39867.30883671504,39901.68120832535,39808.04907060099,39675.909122640216,39905.599113661454,39998.55560398201,39791.817810649634,39667.93079268176,39787.30609911716,40066.61329506743,39986.08799158857,40348.69342932441,40823.82779752434,41146.92681695386,41193.94896496763,41056.2969320186,40893.899013138034,40743.171027217286,40816.28927599805,40823.51596485402,40909.46060532304,41043.28170375485,41132.36692478038,41244.74469884156,41222.04894368027,41362.42157596306,41353.69002483349,41429.62944813498,41522.70727950944,41634.02271164156,41688.33755214461,41759.54890624451,41833.24058391714,41877.441292928735,41933.03015216134,41993.89813634544],\"type\":\"scatter\"},{\"line\":{\"width\":2.0},\"mode\":\"lines\",\"name\":\"won\",\"x\":[0.001,0.002,0.003,0.004,0.005,0.006,0.007,0.008,0.009,0.01,0.011,0.012,0.013,0.014,0.015,0.016,0.017,0.018,0.019,0.02,0.021,0.022,0.023,0.024,0.025,0.026,0.027,0.028,0.029,0.03,0.031,0.032,0.033,0.034,0.035,0.036,0.037,0.038,0.039,0.04,0.041,0.042,0.043,0.044,0.045,0.046,0.047,0.048,0.049,0.05,0.051,0.052,0.053,0.054,0.055,0.056],\"y\":[153.0,153.0,153.0,2732.715149666441,5849.020715192764,6863.540025903808,8025.449259127534,9864.81193445063,11553.76854906181,12722.64644209727,14422.913523940808,16303.551078411752,18172.86721499375,19680.79349397317,21792.16258328074,23041.735242624494,24566.83832213409,25284.190670561253,26127.296481916845,26827.4458378055,27380.66368235413,28678.09427022748,29962.53979395095,31208.716586740036,32326.209021290397,33097.41386956917,34424.55527582671,35277.220790594845,36269.58209995264,36694.88019475885,36196.21708470754,35892.44333385576,35716.447739099385,34742.41894950602,33651.77972536528,33917.59112570789,32925.46275564399,34686.09575409032,34308.23987830612,33948.45200590266,33583.24956862419,32900.880907346625,32905.693946103405,32153.87731312237,31468.50322521355,30829.38450826862,31387.93436951251,31070.77164574493,30699.779035075044,29883.54586221288,30223.61554290721,30055.288966365537,29920.853761983723,30019.234253149225,29503.662109076715,29320.475125730736],\"type\":\"scatter\"},{\"line\":{\"width\":2.0},\"mode\":\"lines\",\"name\":\"wof\",\"x\":[0.001,0.002,0.003,0.004,0.005,0.006,0.007,0.008,0.009,0.01,0.011,0.012,0.013,0.014,0.015,0.016,0.017,0.018,0.019,0.02,0.021,0.022,0.023,0.024,0.025,0.026,0.027,0.028,0.029,0.03,0.031,0.032,0.033,0.034,0.035,0.036,0.037,0.038,0.039,0.04,0.041,0.042,0.043,0.044,0.045,0.046,0.047,0.048,0.049,0.05,0.051,0.052,0.053,0.054,0.055,0.056],\"y\":[9700.262672397208,11984.827242062023,14045.40084271171,16250.448001187437,16717.681500075505,18602.846909689026,19903.830114405504,20064.26332454964,19870.26683883891,20088.13378594452,20609.32098162805,21353.138297960784,22154.221845458647,23232.256229272112,23807.707002684205,24446.59183653652,24460.69866337529,25311.22713697885,25702.759012267936,26635.727255844165,27683.82402243001,27787.10709384881,28052.480255341117,28577.64422027969,28830.518033519213,29316.20788243944,29372.6758814104,30158.738959330065,30330.05438792027,31216.78702504652,32629.81551202685,33739.636845964866,34548.06925405149,35560.79958261814,36585.94946671314,36472.403248800976,37701.28057008272,36212.040115610085,36618.110445404905,37107.62000682077,37553.71335619954,38136.12529041947,38132.01728931844,38773.70411381798,39358.681224952976,39904.1786800019,39427.44795729214,39698.15112098391,40014.79890424672,40711.46621615261,40421.21161956565,40564.88088896152,40679.62336154893,40595.654129957984,41145.93730833502,41333.36300615488],\"type\":\"scatter\"},{\"line\":{\"width\":2.0},\"mode\":\"lines\",\"name\":\"pv\",\"x\":[0.001,0.002,0.003,0.004,0.005,0.006,0.007,0.008,0.009,0.01,0.011,0.012,0.013,0.014,0.015,0.016,0.017,0.018,0.019,0.02,0.021,0.022,0.023,0.024,0.025,0.026,0.027,0.028,0.029,0.03,0.031,0.032,0.033,0.034,0.035,0.036,0.037,0.038,0.039,0.04,0.041,0.042,0.043,0.044,0.045,0.046,0.047,0.048,0.049,0.05,0.051,0.052,0.053,0.054,0.055,0.056],\"y\":[29177.598151199287,25360.85361578509,25234.97513757765,27514.91677943704,27394.500329690956,29340.79179303092,29685.109061847204,29769.89355060592,29696.1640878222,29914.792886690164,30075.58855555573,30567.77084564272,31019.375944117448,31745.0686216094,32057.028432123,31946.21365981149,31499.058010562218,31276.08512786461,31227.8731443514,31105.567509075943,30987.528662536464,30833.2681757365,30915.361694011797,31233.51236867555,31440.62647327901,31863.94573489957,31841.06066503584,31624.156723682536,31875.244682916516,32249.717132181067,32400.25169817761,32493.956473668382,32814.962805304414,33052.21242838919,33076.36235159696,32895.466997922194,32536.96750616584,32285.264766736946,32228.27337189119,32041.943271533448,31918.012571894407,32008.85386834901,32008.213125733877,32108.299781982478,32199.54118012269,32284.62476635743,32210.26702338178,32252.489761102697,32301.87867891324,32410.54087845405,32365.268619582464,32387.67733397445,32405.57421134932,32392.47716884072,32258.19295201835,32225.38089399603],\"type\":\"scatter\"}],                        {\"template\":{\"data\":{\"histogram2dcontour\":[{\"type\":\"histogram2dcontour\",\"colorbar\":{\"outlinewidth\":0,\"ticks\":\"\"},\"colorscale\":[[0.0,\"#0d0887\"],[0.1111111111111111,\"#46039f\"],[0.2222222222222222,\"#7201a8\"],[0.3333333333333333,\"#9c179e\"],[0.4444444444444444,\"#bd3786\"],[0.5555555555555556,\"#d8576b\"],[0.6666666666666666,\"#ed7953\"],[0.7777777777777778,\"#fb9f3a\"],[0.8888888888888888,\"#fdca26\"],[1.0,\"#f0f921\"]]}],\"choropleth\":[{\"type\":\"choropleth\",\"colorbar\":{\"outlinewidth\":0,\"ticks\":\"\"}}],\"histogram2d\":[{\"type\":\"histogram2d\",\"colorbar\":{\"outlinewidth\":0,\"ticks\":\"\"},\"colorscale\":[[0.0,\"#0d0887\"],[0.1111111111111111,\"#46039f\"],[0.2222222222222222,\"#7201a8\"],[0.3333333333333333,\"#9c179e\"],[0.4444444444444444,\"#bd3786\"],[0.5555555555555556,\"#d8576b\"],[0.6666666666666666,\"#ed7953\"],[0.7777777777777778,\"#fb9f3a\"],[0.8888888888888888,\"#fdca26\"],[1.0,\"#f0f921\"]]}],\"heatmap\":[{\"type\":\"heatmap\",\"colorbar\":{\"outlinewidth\":0,\"ticks\":\"\"},\"colorscale\":[[0.0,\"#0d0887\"],[0.1111111111111111,\"#46039f\"],[0.2222222222222222,\"#7201a8\"],[0.3333333333333333,\"#9c179e\"],[0.4444444444444444,\"#bd3786\"],[0.5555555555555556,\"#d8576b\"],[0.6666666666666666,\"#ed7953\"],[0.7777777777777778,\"#fb9f3a\"],[0.8888888888888888,\"#fdca26\"],[1.0,\"#f0f921\"]]}],\"heatmapgl\":[{\"type\":\"heatmapgl\",\"colorbar\":{\"outlinewidth\":0,\"ticks\":\"\"},\"colorscale\":[[0.0,\"#0d0887\"],[0.1111111111111111,\"#46039f\"],[0.2222222222222222,\"#7201a8\"],[0.3333333333333333,\"#9c179e\"],[0.4444444444444444,\"#bd3786\"],[0.5555555555555556,\"#d8576b\"],[0.6666666666666666,\"#ed7953\"],[0.7777777777777778,\"#fb9f3a\"],[0.8888888888888888,\"#fdca26\"],[1.0,\"#f0f921\"]]}],\"contourcarpet\":[{\"type\":\"contourcarpet\",\"colorbar\":{\"outlinewidth\":0,\"ticks\":\"\"}}],\"contour\":[{\"type\":\"contour\",\"colorbar\":{\"outlinewidth\":0,\"ticks\":\"\"},\"colorscale\":[[0.0,\"#0d0887\"],[0.1111111111111111,\"#46039f\"],[0.2222222222222222,\"#7201a8\"],[0.3333333333333333,\"#9c179e\"],[0.4444444444444444,\"#bd3786\"],[0.5555555555555556,\"#d8576b\"],[0.6666666666666666,\"#ed7953\"],[0.7777777777777778,\"#fb9f3a\"],[0.8888888888888888,\"#fdca26\"],[1.0,\"#f0f921\"]]}],\"surface\":[{\"type\":\"surface\",\"colorbar\":{\"outlinewidth\":0,\"ticks\":\"\"},\"colorscale\":[[0.0,\"#0d0887\"],[0.1111111111111111,\"#46039f\"],[0.2222222222222222,\"#7201a8\"],[0.3333333333333333,\"#9c179e\"],[0.4444444444444444,\"#bd3786\"],[0.5555555555555556,\"#d8576b\"],[0.6666666666666666,\"#ed7953\"],[0.7777777777777778,\"#fb9f3a\"],[0.8888888888888888,\"#fdca26\"],[1.0,\"#f0f921\"]]}],\"mesh3d\":[{\"type\":\"mesh3d\",\"colorbar\":{\"outlinewidth\":0,\"ticks\":\"\"}}],\"scatter\":[{\"fillpattern\":{\"fillmode\":\"overlay\",\"size\":10,\"solidity\":0.2},\"type\":\"scatter\"}],\"parcoords\":[{\"type\":\"parcoords\",\"line\":{\"colorbar\":{\"outlinewidth\":0,\"ticks\":\"\"}}}],\"scatterpolargl\":[{\"type\":\"scatterpolargl\",\"marker\":{\"colorbar\":{\"outlinewidth\":0,\"ticks\":\"\"}}}],\"bar\":[{\"error_x\":{\"color\":\"#2a3f5f\"},\"error_y\":{\"color\":\"#2a3f5f\"},\"marker\":{\"line\":{\"color\":\"#E5ECF6\",\"width\":0.5},\"pattern\":{\"fillmode\":\"overlay\",\"size\":10,\"solidity\":0.2}},\"type\":\"bar\"}],\"scattergeo\":[{\"type\":\"scattergeo\",\"marker\":{\"colorbar\":{\"outlinewidth\":0,\"ticks\":\"\"}}}],\"scatterpolar\":[{\"type\":\"scatterpolar\",\"marker\":{\"colorbar\":{\"outlinewidth\":0,\"ticks\":\"\"}}}],\"histogram\":[{\"marker\":{\"pattern\":{\"fillmode\":\"overlay\",\"size\":10,\"solidity\":0.2}},\"type\":\"histogram\"}],\"scattergl\":[{\"type\":\"scattergl\",\"marker\":{\"colorbar\":{\"outlinewidth\":0,\"ticks\":\"\"}}}],\"scatter3d\":[{\"type\":\"scatter3d\",\"line\":{\"colorbar\":{\"outlinewidth\":0,\"ticks\":\"\"}},\"marker\":{\"colorbar\":{\"outlinewidth\":0,\"ticks\":\"\"}}}],\"scattermapbox\":[{\"type\":\"scattermapbox\",\"marker\":{\"colorbar\":{\"outlinewidth\":0,\"ticks\":\"\"}}}],\"scatterternary\":[{\"type\":\"scatterternary\",\"marker\":{\"colorbar\":{\"outlinewidth\":0,\"ticks\":\"\"}}}],\"scattercarpet\":[{\"type\":\"scattercarpet\",\"marker\":{\"colorbar\":{\"outlinewidth\":0,\"ticks\":\"\"}}}],\"carpet\":[{\"aaxis\":{\"endlinecolor\":\"#2a3f5f\",\"gridcolor\":\"white\",\"linecolor\":\"white\",\"minorgridcolor\":\"white\",\"startlinecolor\":\"#2a3f5f\"},\"baxis\":{\"endlinecolor\":\"#2a3f5f\",\"gridcolor\":\"white\",\"linecolor\":\"white\",\"minorgridcolor\":\"white\",\"startlinecolor\":\"#2a3f5f\"},\"type\":\"carpet\"}],\"table\":[{\"cells\":{\"fill\":{\"color\":\"#EBF0F8\"},\"line\":{\"color\":\"white\"}},\"header\":{\"fill\":{\"color\":\"#C8D4E3\"},\"line\":{\"color\":\"white\"}},\"type\":\"table\"}],\"barpolar\":[{\"marker\":{\"line\":{\"color\":\"#E5ECF6\",\"width\":0.5},\"pattern\":{\"fillmode\":\"overlay\",\"size\":10,\"solidity\":0.2}},\"type\":\"barpolar\"}],\"pie\":[{\"automargin\":true,\"type\":\"pie\"}]},\"layout\":{\"autotypenumbers\":\"strict\",\"colorway\":[\"#636efa\",\"#EF553B\",\"#00cc96\",\"#ab63fa\",\"#FFA15A\",\"#19d3f3\",\"#FF6692\",\"#B6E880\",\"#FF97FF\",\"#FECB52\"],\"font\":{\"color\":\"#2a3f5f\"},\"hovermode\":\"closest\",\"hoverlabel\":{\"align\":\"left\"},\"paper_bgcolor\":\"white\",\"plot_bgcolor\":\"#E5ECF6\",\"polar\":{\"bgcolor\":\"#E5ECF6\",\"angularaxis\":{\"gridcolor\":\"white\",\"linecolor\":\"white\",\"ticks\":\"\"},\"radialaxis\":{\"gridcolor\":\"white\",\"linecolor\":\"white\",\"ticks\":\"\"}},\"ternary\":{\"bgcolor\":\"#E5ECF6\",\"aaxis\":{\"gridcolor\":\"white\",\"linecolor\":\"white\",\"ticks\":\"\"},\"baxis\":{\"gridcolor\":\"white\",\"linecolor\":\"white\",\"ticks\":\"\"},\"caxis\":{\"gridcolor\":\"white\",\"linecolor\":\"white\",\"ticks\":\"\"}},\"coloraxis\":{\"colorbar\":{\"outlinewidth\":0,\"ticks\":\"\"}},\"colorscale\":{\"sequential\":[[0.0,\"#0d0887\"],[0.1111111111111111,\"#46039f\"],[0.2222222222222222,\"#7201a8\"],[0.3333333333333333,\"#9c179e\"],[0.4444444444444444,\"#bd3786\"],[0.5555555555555556,\"#d8576b\"],[0.6666666666666666,\"#ed7953\"],[0.7777777777777778,\"#fb9f3a\"],[0.8888888888888888,\"#fdca26\"],[1.0,\"#f0f921\"]],\"sequentialminus\":[[0.0,\"#0d0887\"],[0.1111111111111111,\"#46039f\"],[0.2222222222222222,\"#7201a8\"],[0.3333333333333333,\"#9c179e\"],[0.4444444444444444,\"#bd3786\"],[0.5555555555555556,\"#d8576b\"],[0.6666666666666666,\"#ed7953\"],[0.7777777777777778,\"#fb9f3a\"],[0.8888888888888888,\"#fdca26\"],[1.0,\"#f0f921\"]],\"diverging\":[[0,\"#8e0152\"],[0.1,\"#c51b7d\"],[0.2,\"#de77ae\"],[0.3,\"#f1b6da\"],[0.4,\"#fde0ef\"],[0.5,\"#f7f7f7\"],[0.6,\"#e6f5d0\"],[0.7,\"#b8e186\"],[0.8,\"#7fbc41\"],[0.9,\"#4d9221\"],[1,\"#276419\"]]},\"xaxis\":{\"gridcolor\":\"white\",\"linecolor\":\"white\",\"ticks\":\"\",\"title\":{\"standoff\":15},\"zerolinecolor\":\"white\",\"automargin\":true,\"zerolinewidth\":2},\"yaxis\":{\"gridcolor\":\"white\",\"linecolor\":\"white\",\"ticks\":\"\",\"title\":{\"standoff\":15},\"zerolinecolor\":\"white\",\"automargin\":true,\"zerolinewidth\":2},\"scene\":{\"xaxis\":{\"backgroundcolor\":\"#E5ECF6\",\"gridcolor\":\"white\",\"linecolor\":\"white\",\"showbackground\":true,\"ticks\":\"\",\"zerolinecolor\":\"white\",\"gridwidth\":2},\"yaxis\":{\"backgroundcolor\":\"#E5ECF6\",\"gridcolor\":\"white\",\"linecolor\":\"white\",\"showbackground\":true,\"ticks\":\"\",\"zerolinecolor\":\"white\",\"gridwidth\":2},\"zaxis\":{\"backgroundcolor\":\"#E5ECF6\",\"gridcolor\":\"white\",\"linecolor\":\"white\",\"showbackground\":true,\"ticks\":\"\",\"zerolinecolor\":\"white\",\"gridwidth\":2}},\"shapedefaults\":{\"line\":{\"color\":\"#2a3f5f\"}},\"annotationdefaults\":{\"arrowcolor\":\"#2a3f5f\",\"arrowhead\":0,\"arrowwidth\":1},\"geo\":{\"bgcolor\":\"white\",\"landcolor\":\"#E5ECF6\",\"subunitcolor\":\"white\",\"showland\":true,\"showlakes\":true,\"lakecolor\":\"white\"},\"title\":{\"x\":0.05},\"mapbox\":{\"style\":\"light\"}}},\"margin\":{\"l\":50,\"r\":150,\"b\":30,\"t\":50},\"font\":{\"size\":15},\"yaxis\":{\"title\":{\"text\":\"P @y=2060 (MW)\"}},\"xaxis\":{\"title\":{\"text\":\"r up (#Pn\\u002fh)\"}},\"width\":750,\"height\":350},                        {\"responsive\": true}                    ).then(function(){\n",
       "                            \n",
       "var gd = document.getElementById('d99d5674-eb0f-4eff-8bcb-9e3578824fc0');\n",
       "var x = new MutationObserver(function (mutations, observer) {{\n",
       "        var display = window.getComputedStyle(gd).display;\n",
       "        if (!display || display === 'none') {{\n",
       "            console.log([gd, 'removed!']);\n",
       "            Plotly.purge(gd);\n",
       "            observer.disconnect();\n",
       "        }}\n",
       "}});\n",
       "\n",
       "// Listen for the removal of the full notebook cells\n",
       "var notebookContainer = gd.closest('#notebook-container');\n",
       "if (notebookContainer) {{\n",
       "    x.observe(notebookContainer, {childList: true});\n",
       "}}\n",
       "\n",
       "// Listen for the clearing of the current output cell\n",
       "var outputEl = gd.closest('.output');\n",
       "if (outputEl) {{\n",
       "    x.observe(outputEl, {childList: true});\n",
       "}}\n",
       "\n",
       "                        })                };                });            </script>        </div>"
      ]
     },
     "metadata": {},
     "output_type": "display_data"
    },
    {
     "name": "stdout",
     "output_type": "stream",
     "text": [
      "\n"
     ]
    },
    {
     "data": {
      "application/vnd.plotly.v1+json": {
       "config": {
        "plotlyServerURL": "https://plot.ly"
       },
       "data": [
        {
         "name": "E_hist",
         "type": "bar",
         "x": [
          0.001,
          0.002,
          0.003,
          0.004,
          0.005,
          0.006,
          0.007,
          0.008,
          0.009,
          0.01,
          0.011,
          0.012,
          0.013,
          0.014,
          0.015,
          0.016,
          0.017,
          0.018,
          0.019,
          0.02,
          0.021,
          0.022,
          0.023,
          0.024,
          0.025,
          0.026,
          0.027,
          0.028,
          0.029,
          0.03,
          0.031,
          0.032,
          0.033,
          0.034,
          0.035,
          0.036,
          0.037,
          0.038,
          0.039,
          0.04,
          0.041,
          0.042,
          0.043,
          0.044,
          0.045,
          0.046,
          0.047,
          0.048,
          0.049,
          0.05,
          0.051,
          0.052,
          0.053,
          0.054,
          0.055,
          0.056
         ],
         "y": [
          0,
          0,
          0,
          0,
          0,
          0,
          0,
          0,
          0,
          0,
          0,
          0,
          0,
          0,
          0,
          0,
          0,
          0,
          0,
          0,
          0,
          0,
          0,
          0,
          0,
          0,
          0,
          0,
          0,
          0,
          0,
          0,
          0,
          0,
          0,
          0,
          0,
          0,
          0,
          0,
          0,
          0,
          0,
          0,
          0,
          0,
          0,
          0,
          0,
          0,
          0,
          0,
          0,
          0,
          0,
          0
         ]
        },
        {
         "name": "E_new",
         "type": "bar",
         "x": [
          0.001,
          0.002,
          0.003,
          0.004,
          0.005,
          0.006,
          0.007,
          0.008,
          0.009,
          0.01,
          0.011,
          0.012,
          0.013,
          0.014,
          0.015,
          0.016,
          0.017,
          0.018,
          0.019,
          0.02,
          0.021,
          0.022,
          0.023,
          0.024,
          0.025,
          0.026,
          0.027,
          0.028,
          0.029,
          0.03,
          0.031,
          0.032,
          0.033,
          0.034,
          0.035,
          0.036,
          0.037,
          0.038,
          0.039,
          0.04,
          0.041,
          0.042,
          0.043,
          0.044,
          0.045,
          0.046,
          0.047,
          0.048,
          0.049,
          0.05,
          0.051,
          0.052,
          0.053,
          0.054,
          0.055,
          0.056
         ],
         "y": [
          60.53136317267451,
          64.23169273671903,
          67.32070909459576,
          65.96930207450339,
          65.82545725042566,
          64.6879299254773,
          63.95187998783343,
          63.66672266085467,
          63.848383959423394,
          63.72382482869588,
          63.1229186934971,
          62.16413079928995,
          61.00415684492503,
          59.950701289552256,
          59.07254932607034,
          58.67924980490864,
          58.53634218119704,
          58.161384309281615,
          57.83419423130116,
          57.23514932754316,
          56.75895691008732,
          56.39582773006535,
          55.990540281317934,
          55.47791989166676,
          54.92247050605435,
          54.404090536607455,
          54.16651405030657,
          53.72988976854251,
          53.304592614458,
          52.63289068159708,
          52.29974959338677,
          51.76353278576944,
          51.23454786050521,
          50.96181158008625,
          50.945721798097246,
          51.13017622227811,
          51.1649708794381,
          51.41691227479479,
          51.4023996681961,
          51.42422145824708,
          51.37762472347235,
          51.32035055829132,
          51.33148864008589,
          51.27054027236064,
          51.3029219723733,
          51.214709261489546,
          51.31341790705181,
          51.29498369045192,
          51.26722244628888,
          51.195397049312994,
          51.22371592113648,
          51.20833751436904,
          51.195270088881486,
          51.19950823486757,
          51.142658613727,
          51.10607880279749
         ]
        },
        {
         "name": "E_ccgt",
         "type": "bar",
         "x": [
          0.001,
          0.002,
          0.003,
          0.004,
          0.005,
          0.006,
          0.007,
          0.008,
          0.009,
          0.01,
          0.011,
          0.012,
          0.013,
          0.014,
          0.015,
          0.016,
          0.017,
          0.018,
          0.019,
          0.02,
          0.021,
          0.022,
          0.023,
          0.024,
          0.025,
          0.026,
          0.027,
          0.028,
          0.029,
          0.03,
          0.031,
          0.032,
          0.033,
          0.034,
          0.035,
          0.036,
          0.037,
          0.038,
          0.039,
          0.04,
          0.041,
          0.042,
          0.043,
          0.044,
          0.045,
          0.046,
          0.047,
          0.048,
          0.049,
          0.05,
          0.051,
          0.052,
          0.053,
          0.054,
          0.055,
          0.056
         ],
         "y": [
          0.1114456483243906,
          0.0883755616800158,
          0.0841554594548798,
          0.1010965949491835,
          0.1227935776212614,
          0.1228741889169484,
          0.1294433927133861,
          0.1233362092692134,
          0.1164699066703742,
          0.1126426615335607,
          0.1056105378588942,
          0.1005047637501138,
          0.0982585169386403,
          0.0963266410301416,
          0.0930946115166863,
          0.093426068068595,
          0.0947984586436916,
          0.0940067734165196,
          0.0933675113534913,
          0.0939545841252934,
          0.0944007868315544,
          0.0943971841209206,
          0.0943970500399949,
          0.0933793623803069,
          0.0925509152223849,
          0.0926093597567765,
          0.0926290470757359,
          0.0929858596746731,
          0.0923023373953647,
          0.0912089791044784,
          0.0912067104574496,
          0.0909617743242134,
          0.0898579917243034,
          0.0904170187441465,
          0.0907635492069591,
          0.0903581914606408,
          0.0911003980858943,
          0.0915830787403069,
          0.0918974346521358,
          0.091630252929166,
          0.0920296910678066,
          0.0921031507624975,
          0.0919990513790195,
          0.0924500292893583,
          0.0927689980893303,
          0.0933894526118625,
          0.0930259851210891,
          0.0931772890833025,
          0.0931351901519998,
          0.0932437834960986,
          0.0931248881957986,
          0.093183738602061,
          0.0931637376224165,
          0.0934953687967872,
          0.0935076447362878,
          0.0935016516870666
         ]
        },
        {
         "name": "E_ccgt_bioch4",
         "type": "bar",
         "x": [
          0.001,
          0.002,
          0.003,
          0.004,
          0.005,
          0.006,
          0.007,
          0.008,
          0.009,
          0.01,
          0.011,
          0.012,
          0.013,
          0.014,
          0.015,
          0.016,
          0.017,
          0.018,
          0.019,
          0.02,
          0.021,
          0.022,
          0.023,
          0.024,
          0.025,
          0.026,
          0.027,
          0.028,
          0.029,
          0.03,
          0.031,
          0.032,
          0.033,
          0.034,
          0.035,
          0.036,
          0.037,
          0.038,
          0.039,
          0.04,
          0.041,
          0.042,
          0.043,
          0.044,
          0.045,
          0.046,
          0.047,
          0.048,
          0.049,
          0.05,
          0.051,
          0.052,
          0.053,
          0.054,
          0.055,
          0.056
         ],
         "y": [
          22.53197603410208,
          18.5181233131403,
          14.596001829997988,
          13.670354003190816,
          12.625968291945885,
          12.23641869831768,
          11.947653219170911,
          11.565222002277276,
          10.96678388706632,
          10.59548436943852,
          10.386489937015815,
          10.30084486987888,
          10.390947781608991,
          10.325722790068212,
          10.194013335451055,
          9.916887307572974,
          9.644711145513044,
          9.447428138197436,
          9.33471715117211,
          9.301138346648871,
          9.146630521025749,
          9.06789838096807,
          8.921153225350182,
          8.734830005938612,
          8.766897036379838,
          8.733992976690452,
          8.521826969088986,
          8.364565142992415,
          8.339740944378661,
          8.395933827438496,
          8.232138337373385,
          8.34113324169532,
          8.496756427797198,
          8.58518882919499,
          8.499969534657867,
          8.325579010094312,
          8.14127105050014,
          8.035801798373674,
          8.005658375315573,
          7.92335446522487,
          7.913893055273044,
          7.917078542551188,
          7.90899072927243,
          7.910222399566972,
          7.830581397809628,
          7.864265048315719,
          7.815618255329992,
          7.809245159049228,
          7.807820648433113,
          7.813127764855304,
          7.812994962892747,
          7.814805613221909,
          7.817258680145561,
          7.820498677445122,
          7.809426868085104,
          7.811213994201964
         ]
        },
        {
         "name": "E_won",
         "type": "bar",
         "x": [
          0.001,
          0.002,
          0.003,
          0.004,
          0.005,
          0.006,
          0.007,
          0.008,
          0.009,
          0.01,
          0.011,
          0.012,
          0.013,
          0.014,
          0.015,
          0.016,
          0.017,
          0.018,
          0.019,
          0.02,
          0.021,
          0.022,
          0.023,
          0.024,
          0.025,
          0.026,
          0.027,
          0.028,
          0.029,
          0.03,
          0.031,
          0.032,
          0.033,
          0.034,
          0.035,
          0.036,
          0.037,
          0.038,
          0.039,
          0.04,
          0.041,
          0.042,
          0.043,
          0.044,
          0.045,
          0.046,
          0.047,
          0.048,
          0.049,
          0.05,
          0.051,
          0.052,
          0.053,
          0.054,
          0.055,
          0.056
         ],
         "y": [
          0.0504161846310529,
          0.050416184631053,
          0.0504161846310533,
          0.9004775916971179,
          1.9273549561308012,
          2.261656870382949,
          2.64452635029623,
          3.2506286263913475,
          3.807169466365713,
          4.192335241963289,
          4.75260307935107,
          5.372306152359571,
          5.988278619521164,
          6.4851667874364445,
          7.18089994972948,
          7.592656066745089,
          8.095204291829674,
          8.331584477737055,
          8.609402636226019,
          8.840114134237744,
          9.022409121113313,
          9.4499352653237,
          9.873182603052951,
          10.283819722452906,
          10.65205308783912,
          10.906178617376264,
          11.343494997568392,
          11.624463246072278,
          11.95146371008071,
          12.091606894858426,
          11.927288650250231,
          11.827189869145666,
          11.769196232547658,
          11.448236655475156,
          11.088851894101555,
          11.176441414603016,
          10.84951770817914,
          11.429677174304544,
          11.305167033144713,
          11.186610616130986,
          11.066270004983656,
          10.84141755783714,
          10.843003538559987,
          10.59526676616082,
          10.369423978204283,
          10.1588231466052,
          10.342875126540658,
          10.238364443929129,
          10.116115869051384,
          9.847152716469692,
          9.959211643327926,
          9.90374508279692,
          9.859446324071302,
          9.891864422154214,
          9.721974354139938,
          9.66161102881726
         ]
        },
        {
         "name": "E_wof",
         "type": "bar",
         "x": [
          0.001,
          0.002,
          0.003,
          0.004,
          0.005,
          0.006,
          0.007,
          0.008,
          0.009,
          0.01,
          0.011,
          0.012,
          0.013,
          0.014,
          0.015,
          0.016,
          0.017,
          0.018,
          0.019,
          0.02,
          0.021,
          0.022,
          0.023,
          0.024,
          0.025,
          0.026,
          0.027,
          0.028,
          0.029,
          0.03,
          0.031,
          0.032,
          0.033,
          0.034,
          0.035,
          0.036,
          0.037,
          0.038,
          0.039,
          0.04,
          0.041,
          0.042,
          0.043,
          0.044,
          0.045,
          0.046,
          0.047,
          0.048,
          0.049,
          0.05,
          0.051,
          0.052,
          0.053,
          0.054,
          0.055,
          0.056
         ],
         "y": [
          4.433157119503199,
          5.477235411918289,
          6.418946666189239,
          7.426684377999143,
          7.640216689650887,
          8.501763921856377,
          9.09633163111587,
          9.169651875296308,
          9.080992739886106,
          9.180561013476629,
          9.41875092700482,
          9.758685951743235,
          10.12479245337563,
          10.617469400905158,
          10.880458536275228,
          11.172437933677935,
          11.178884952892377,
          11.567588484480805,
          11.746524084378402,
          12.172903755833008,
          12.65189878922943,
          12.699100612401338,
          12.820379897295616,
          13.0603872505706,
          13.175954156680111,
          13.397921281110452,
          13.423727954611628,
          13.782969889386754,
          13.861263461177996,
          14.266512807111518,
          14.9122867937214,
          15.419490826651865,
          15.78895586142297,
          16.2517879328676,
          16.720295916694106,
          16.6684036905422,
          17.230017992115524,
          16.54941405938024,
          16.73499393843571,
          16.958706725454515,
          17.162577690040752,
          17.428748174270776,
          17.42687075971584,
          17.720130706440344,
          17.987473512770094,
          18.236773558365996,
          18.018900881218823,
          18.14261605243845,
          18.28732856406356,
          18.60571537048377,
          18.473064918141965,
          18.53872380450264,
          18.591162735946025,
          18.55278761050674,
          18.804274799292585,
          18.88993099178241
         ]
        },
        {
         "name": "E_pv",
         "type": "bar",
         "x": [
          0.001,
          0.002,
          0.003,
          0.004,
          0.005,
          0.006,
          0.007,
          0.008,
          0.009,
          0.01,
          0.011,
          0.012,
          0.013,
          0.014,
          0.015,
          0.016,
          0.017,
          0.018,
          0.019,
          0.02,
          0.021,
          0.022,
          0.023,
          0.024,
          0.025,
          0.026,
          0.027,
          0.028,
          0.029,
          0.03,
          0.031,
          0.032,
          0.033,
          0.034,
          0.035,
          0.036,
          0.037,
          0.038,
          0.039,
          0.04,
          0.041,
          0.042,
          0.043,
          0.044,
          0.045,
          0.046,
          0.047,
          0.048,
          0.049,
          0.05,
          0.051,
          0.052,
          0.053,
          0.054,
          0.055,
          0.056
         ],
         "y": [
          5.305562940536182,
          4.611538084355376,
          4.588648736660383,
          5.00322617442444,
          4.981330024854729,
          5.335237560556224,
          5.397847132864109,
          5.413264078397397,
          5.399857344116425,
          5.439612119235209,
          5.46885069937166,
          5.558347583410651,
          5.64046603818571,
          5.772423718731141,
          5.829149512301332,
          5.808999301643347,
          5.727689920760985,
          5.687145231062613,
          5.6783785151837805,
          5.656138842042294,
          5.6346750283830005,
          5.606624785257624,
          5.62155241315773,
          5.679403934049066,
          5.717064913275373,
          5.794039960187403,
          5.789878610855935,
          5.750437478418094,
          5.79609452545887,
          5.86418742120631,
          5.891560154578032,
          5.908599137074811,
          5.966969921673983,
          6.010110649069459,
          6.014501995366112,
          5.981608551581006,
          5.91642012833219,
          5.870651291588821,
          5.860288155087478,
          5.826406474010067,
          5.803871304261271,
          5.82038960071055,
          5.820273090082917,
          5.838472533761673,
          5.855063583446671,
          5.870534915927014,
          5.857013937146343,
          5.86469158735381,
          5.8736723132741,
          5.893431106850405,
          5.885198941280825,
          5.889273671627256,
          5.892527983680627,
          5.890146458546012,
          5.865728637703475,
          5.8597621959784645
         ]
        }
       ],
       "layout": {
        "barmode": "stack",
        "font": {
         "size": 15
        },
        "height": 350,
        "margin": {
         "b": 50,
         "l": 50,
         "r": 150,
         "t": 50
        },
        "template": {
         "data": {
          "bar": [
           {
            "error_x": {
             "color": "#2a3f5f"
            },
            "error_y": {
             "color": "#2a3f5f"
            },
            "marker": {
             "line": {
              "color": "#E5ECF6",
              "width": 0.5
             },
             "pattern": {
              "fillmode": "overlay",
              "size": 10,
              "solidity": 0.2
             }
            },
            "type": "bar"
           }
          ],
          "barpolar": [
           {
            "marker": {
             "line": {
              "color": "#E5ECF6",
              "width": 0.5
             },
             "pattern": {
              "fillmode": "overlay",
              "size": 10,
              "solidity": 0.2
             }
            },
            "type": "barpolar"
           }
          ],
          "carpet": [
           {
            "aaxis": {
             "endlinecolor": "#2a3f5f",
             "gridcolor": "white",
             "linecolor": "white",
             "minorgridcolor": "white",
             "startlinecolor": "#2a3f5f"
            },
            "baxis": {
             "endlinecolor": "#2a3f5f",
             "gridcolor": "white",
             "linecolor": "white",
             "minorgridcolor": "white",
             "startlinecolor": "#2a3f5f"
            },
            "type": "carpet"
           }
          ],
          "choropleth": [
           {
            "colorbar": {
             "outlinewidth": 0,
             "ticks": ""
            },
            "type": "choropleth"
           }
          ],
          "contour": [
           {
            "colorbar": {
             "outlinewidth": 0,
             "ticks": ""
            },
            "colorscale": [
             [
              0,
              "#0d0887"
             ],
             [
              0.1111111111111111,
              "#46039f"
             ],
             [
              0.2222222222222222,
              "#7201a8"
             ],
             [
              0.3333333333333333,
              "#9c179e"
             ],
             [
              0.4444444444444444,
              "#bd3786"
             ],
             [
              0.5555555555555556,
              "#d8576b"
             ],
             [
              0.6666666666666666,
              "#ed7953"
             ],
             [
              0.7777777777777778,
              "#fb9f3a"
             ],
             [
              0.8888888888888888,
              "#fdca26"
             ],
             [
              1,
              "#f0f921"
             ]
            ],
            "type": "contour"
           }
          ],
          "contourcarpet": [
           {
            "colorbar": {
             "outlinewidth": 0,
             "ticks": ""
            },
            "type": "contourcarpet"
           }
          ],
          "heatmap": [
           {
            "colorbar": {
             "outlinewidth": 0,
             "ticks": ""
            },
            "colorscale": [
             [
              0,
              "#0d0887"
             ],
             [
              0.1111111111111111,
              "#46039f"
             ],
             [
              0.2222222222222222,
              "#7201a8"
             ],
             [
              0.3333333333333333,
              "#9c179e"
             ],
             [
              0.4444444444444444,
              "#bd3786"
             ],
             [
              0.5555555555555556,
              "#d8576b"
             ],
             [
              0.6666666666666666,
              "#ed7953"
             ],
             [
              0.7777777777777778,
              "#fb9f3a"
             ],
             [
              0.8888888888888888,
              "#fdca26"
             ],
             [
              1,
              "#f0f921"
             ]
            ],
            "type": "heatmap"
           }
          ],
          "heatmapgl": [
           {
            "colorbar": {
             "outlinewidth": 0,
             "ticks": ""
            },
            "colorscale": [
             [
              0,
              "#0d0887"
             ],
             [
              0.1111111111111111,
              "#46039f"
             ],
             [
              0.2222222222222222,
              "#7201a8"
             ],
             [
              0.3333333333333333,
              "#9c179e"
             ],
             [
              0.4444444444444444,
              "#bd3786"
             ],
             [
              0.5555555555555556,
              "#d8576b"
             ],
             [
              0.6666666666666666,
              "#ed7953"
             ],
             [
              0.7777777777777778,
              "#fb9f3a"
             ],
             [
              0.8888888888888888,
              "#fdca26"
             ],
             [
              1,
              "#f0f921"
             ]
            ],
            "type": "heatmapgl"
           }
          ],
          "histogram": [
           {
            "marker": {
             "pattern": {
              "fillmode": "overlay",
              "size": 10,
              "solidity": 0.2
             }
            },
            "type": "histogram"
           }
          ],
          "histogram2d": [
           {
            "colorbar": {
             "outlinewidth": 0,
             "ticks": ""
            },
            "colorscale": [
             [
              0,
              "#0d0887"
             ],
             [
              0.1111111111111111,
              "#46039f"
             ],
             [
              0.2222222222222222,
              "#7201a8"
             ],
             [
              0.3333333333333333,
              "#9c179e"
             ],
             [
              0.4444444444444444,
              "#bd3786"
             ],
             [
              0.5555555555555556,
              "#d8576b"
             ],
             [
              0.6666666666666666,
              "#ed7953"
             ],
             [
              0.7777777777777778,
              "#fb9f3a"
             ],
             [
              0.8888888888888888,
              "#fdca26"
             ],
             [
              1,
              "#f0f921"
             ]
            ],
            "type": "histogram2d"
           }
          ],
          "histogram2dcontour": [
           {
            "colorbar": {
             "outlinewidth": 0,
             "ticks": ""
            },
            "colorscale": [
             [
              0,
              "#0d0887"
             ],
             [
              0.1111111111111111,
              "#46039f"
             ],
             [
              0.2222222222222222,
              "#7201a8"
             ],
             [
              0.3333333333333333,
              "#9c179e"
             ],
             [
              0.4444444444444444,
              "#bd3786"
             ],
             [
              0.5555555555555556,
              "#d8576b"
             ],
             [
              0.6666666666666666,
              "#ed7953"
             ],
             [
              0.7777777777777778,
              "#fb9f3a"
             ],
             [
              0.8888888888888888,
              "#fdca26"
             ],
             [
              1,
              "#f0f921"
             ]
            ],
            "type": "histogram2dcontour"
           }
          ],
          "mesh3d": [
           {
            "colorbar": {
             "outlinewidth": 0,
             "ticks": ""
            },
            "type": "mesh3d"
           }
          ],
          "parcoords": [
           {
            "line": {
             "colorbar": {
              "outlinewidth": 0,
              "ticks": ""
             }
            },
            "type": "parcoords"
           }
          ],
          "pie": [
           {
            "automargin": true,
            "type": "pie"
           }
          ],
          "scatter": [
           {
            "fillpattern": {
             "fillmode": "overlay",
             "size": 10,
             "solidity": 0.2
            },
            "type": "scatter"
           }
          ],
          "scatter3d": [
           {
            "line": {
             "colorbar": {
              "outlinewidth": 0,
              "ticks": ""
             }
            },
            "marker": {
             "colorbar": {
              "outlinewidth": 0,
              "ticks": ""
             }
            },
            "type": "scatter3d"
           }
          ],
          "scattercarpet": [
           {
            "marker": {
             "colorbar": {
              "outlinewidth": 0,
              "ticks": ""
             }
            },
            "type": "scattercarpet"
           }
          ],
          "scattergeo": [
           {
            "marker": {
             "colorbar": {
              "outlinewidth": 0,
              "ticks": ""
             }
            },
            "type": "scattergeo"
           }
          ],
          "scattergl": [
           {
            "marker": {
             "colorbar": {
              "outlinewidth": 0,
              "ticks": ""
             }
            },
            "type": "scattergl"
           }
          ],
          "scattermapbox": [
           {
            "marker": {
             "colorbar": {
              "outlinewidth": 0,
              "ticks": ""
             }
            },
            "type": "scattermapbox"
           }
          ],
          "scatterpolar": [
           {
            "marker": {
             "colorbar": {
              "outlinewidth": 0,
              "ticks": ""
             }
            },
            "type": "scatterpolar"
           }
          ],
          "scatterpolargl": [
           {
            "marker": {
             "colorbar": {
              "outlinewidth": 0,
              "ticks": ""
             }
            },
            "type": "scatterpolargl"
           }
          ],
          "scatterternary": [
           {
            "marker": {
             "colorbar": {
              "outlinewidth": 0,
              "ticks": ""
             }
            },
            "type": "scatterternary"
           }
          ],
          "surface": [
           {
            "colorbar": {
             "outlinewidth": 0,
             "ticks": ""
            },
            "colorscale": [
             [
              0,
              "#0d0887"
             ],
             [
              0.1111111111111111,
              "#46039f"
             ],
             [
              0.2222222222222222,
              "#7201a8"
             ],
             [
              0.3333333333333333,
              "#9c179e"
             ],
             [
              0.4444444444444444,
              "#bd3786"
             ],
             [
              0.5555555555555556,
              "#d8576b"
             ],
             [
              0.6666666666666666,
              "#ed7953"
             ],
             [
              0.7777777777777778,
              "#fb9f3a"
             ],
             [
              0.8888888888888888,
              "#fdca26"
             ],
             [
              1,
              "#f0f921"
             ]
            ],
            "type": "surface"
           }
          ],
          "table": [
           {
            "cells": {
             "fill": {
              "color": "#EBF0F8"
             },
             "line": {
              "color": "white"
             }
            },
            "header": {
             "fill": {
              "color": "#C8D4E3"
             },
             "line": {
              "color": "white"
             }
            },
            "type": "table"
           }
          ]
         },
         "layout": {
          "annotationdefaults": {
           "arrowcolor": "#2a3f5f",
           "arrowhead": 0,
           "arrowwidth": 1
          },
          "autotypenumbers": "strict",
          "coloraxis": {
           "colorbar": {
            "outlinewidth": 0,
            "ticks": ""
           }
          },
          "colorscale": {
           "diverging": [
            [
             0,
             "#8e0152"
            ],
            [
             0.1,
             "#c51b7d"
            ],
            [
             0.2,
             "#de77ae"
            ],
            [
             0.3,
             "#f1b6da"
            ],
            [
             0.4,
             "#fde0ef"
            ],
            [
             0.5,
             "#f7f7f7"
            ],
            [
             0.6,
             "#e6f5d0"
            ],
            [
             0.7,
             "#b8e186"
            ],
            [
             0.8,
             "#7fbc41"
            ],
            [
             0.9,
             "#4d9221"
            ],
            [
             1,
             "#276419"
            ]
           ],
           "sequential": [
            [
             0,
             "#0d0887"
            ],
            [
             0.1111111111111111,
             "#46039f"
            ],
            [
             0.2222222222222222,
             "#7201a8"
            ],
            [
             0.3333333333333333,
             "#9c179e"
            ],
            [
             0.4444444444444444,
             "#bd3786"
            ],
            [
             0.5555555555555556,
             "#d8576b"
            ],
            [
             0.6666666666666666,
             "#ed7953"
            ],
            [
             0.7777777777777778,
             "#fb9f3a"
            ],
            [
             0.8888888888888888,
             "#fdca26"
            ],
            [
             1,
             "#f0f921"
            ]
           ],
           "sequentialminus": [
            [
             0,
             "#0d0887"
            ],
            [
             0.1111111111111111,
             "#46039f"
            ],
            [
             0.2222222222222222,
             "#7201a8"
            ],
            [
             0.3333333333333333,
             "#9c179e"
            ],
            [
             0.4444444444444444,
             "#bd3786"
            ],
            [
             0.5555555555555556,
             "#d8576b"
            ],
            [
             0.6666666666666666,
             "#ed7953"
            ],
            [
             0.7777777777777778,
             "#fb9f3a"
            ],
            [
             0.8888888888888888,
             "#fdca26"
            ],
            [
             1,
             "#f0f921"
            ]
           ]
          },
          "colorway": [
           "#636efa",
           "#EF553B",
           "#00cc96",
           "#ab63fa",
           "#FFA15A",
           "#19d3f3",
           "#FF6692",
           "#B6E880",
           "#FF97FF",
           "#FECB52"
          ],
          "font": {
           "color": "#2a3f5f"
          },
          "geo": {
           "bgcolor": "white",
           "lakecolor": "white",
           "landcolor": "#E5ECF6",
           "showlakes": true,
           "showland": true,
           "subunitcolor": "white"
          },
          "hoverlabel": {
           "align": "left"
          },
          "hovermode": "closest",
          "mapbox": {
           "style": "light"
          },
          "paper_bgcolor": "white",
          "plot_bgcolor": "#E5ECF6",
          "polar": {
           "angularaxis": {
            "gridcolor": "white",
            "linecolor": "white",
            "ticks": ""
           },
           "bgcolor": "#E5ECF6",
           "radialaxis": {
            "gridcolor": "white",
            "linecolor": "white",
            "ticks": ""
           }
          },
          "scene": {
           "xaxis": {
            "backgroundcolor": "#E5ECF6",
            "gridcolor": "white",
            "gridwidth": 2,
            "linecolor": "white",
            "showbackground": true,
            "ticks": "",
            "zerolinecolor": "white"
           },
           "yaxis": {
            "backgroundcolor": "#E5ECF6",
            "gridcolor": "white",
            "gridwidth": 2,
            "linecolor": "white",
            "showbackground": true,
            "ticks": "",
            "zerolinecolor": "white"
           },
           "zaxis": {
            "backgroundcolor": "#E5ECF6",
            "gridcolor": "white",
            "gridwidth": 2,
            "linecolor": "white",
            "showbackground": true,
            "ticks": "",
            "zerolinecolor": "white"
           }
          },
          "shapedefaults": {
           "line": {
            "color": "#2a3f5f"
           }
          },
          "ternary": {
           "aaxis": {
            "gridcolor": "white",
            "linecolor": "white",
            "ticks": ""
           },
           "baxis": {
            "gridcolor": "white",
            "linecolor": "white",
            "ticks": ""
           },
           "bgcolor": "#E5ECF6",
           "caxis": {
            "gridcolor": "white",
            "linecolor": "white",
            "ticks": ""
           }
          },
          "title": {
           "x": 0.05
          },
          "xaxis": {
           "automargin": true,
           "gridcolor": "white",
           "linecolor": "white",
           "ticks": "",
           "title": {
            "standoff": 15
           },
           "zerolinecolor": "white",
           "zerolinewidth": 2
          },
          "yaxis": {
           "automargin": true,
           "gridcolor": "white",
           "linecolor": "white",
           "ticks": "",
           "title": {
            "standoff": 15
           },
           "zerolinecolor": "white",
           "zerolinewidth": 2
          }
         }
        },
        "width": 750,
        "xaxis": {
         "autorange": true,
         "range": [
          0.000500000000000003,
          0.056499999999999995
         ],
         "title": {
          "text": "r up (Pn/h)"
         },
         "type": "linear"
        },
        "yaxis": {
         "autorange": true,
         "range": [
          0,
          98.36718900036571
         ],
         "title": {
          "text": "Production @2060(%)"
         },
         "type": "linear"
        }
       }
      },
      "image/png": "[encoded data removed]",
      "text/html": [
       "<div>                            <div id=\"ee2110b2-f983-4187-be2f-797f7367c743\" class=\"plotly-graph-div\" style=\"height:350px; width:750px;\"></div>            <script type=\"text/javascript\">                require([\"plotly\"], function(Plotly) {                    window.PLOTLYENV=window.PLOTLYENV || {};                                    if (document.getElementById(\"ee2110b2-f983-4187-be2f-797f7367c743\")) {                    Plotly.newPlot(                        \"ee2110b2-f983-4187-be2f-797f7367c743\",                        [{\"name\":\"E_hist\",\"x\":[0.001,0.002,0.003,0.004,0.005,0.006,0.007,0.008,0.009,0.01,0.011,0.012,0.013,0.014,0.015,0.016,0.017,0.018,0.019,0.02,0.021,0.022,0.023,0.024,0.025,0.026,0.027,0.028,0.029,0.03,0.031,0.032,0.033,0.034,0.035,0.036,0.037,0.038,0.039,0.04,0.041,0.042,0.043,0.044,0.045,0.046,0.047,0.048,0.049,0.05,0.051,0.052,0.053,0.054,0.055,0.056],\"y\":[0.0,0.0,0.0,0.0,0.0,0.0,0.0,0.0,0.0,0.0,0.0,0.0,0.0,0.0,0.0,0.0,0.0,0.0,0.0,0.0,0.0,0.0,0.0,0.0,0.0,0.0,0.0,0.0,0.0,0.0,0.0,0.0,0.0,0.0,0.0,0.0,0.0,0.0,0.0,0.0,0.0,0.0,0.0,0.0,0.0,0.0,0.0,0.0,0.0,0.0,0.0,0.0,0.0,0.0,0.0,0.0],\"type\":\"bar\"},{\"name\":\"E_new\",\"x\":[0.001,0.002,0.003,0.004,0.005,0.006,0.007,0.008,0.009,0.01,0.011,0.012,0.013,0.014,0.015,0.016,0.017,0.018,0.019,0.02,0.021,0.022,0.023,0.024,0.025,0.026,0.027,0.028,0.029,0.03,0.031,0.032,0.033,0.034,0.035,0.036,0.037,0.038,0.039,0.04,0.041,0.042,0.043,0.044,0.045,0.046,0.047,0.048,0.049,0.05,0.051,0.052,0.053,0.054,0.055,0.056],\"y\":[60.53136317267451,64.23169273671903,67.32070909459576,65.96930207450339,65.82545725042566,64.6879299254773,63.95187998783343,63.66672266085467,63.848383959423394,63.72382482869588,63.1229186934971,62.16413079928995,61.00415684492503,59.950701289552256,59.07254932607034,58.67924980490864,58.53634218119704,58.161384309281615,57.83419423130116,57.23514932754316,56.75895691008732,56.39582773006535,55.990540281317934,55.47791989166676,54.92247050605435,54.404090536607455,54.16651405030657,53.72988976854251,53.304592614458,52.63289068159708,52.29974959338677,51.76353278576944,51.23454786050521,50.96181158008625,50.945721798097246,51.13017622227811,51.1649708794381,51.41691227479479,51.4023996681961,51.42422145824708,51.37762472347235,51.32035055829132,51.33148864008589,51.27054027236064,51.3029219723733,51.214709261489546,51.31341790705181,51.29498369045192,51.26722244628888,51.195397049312994,51.22371592113648,51.20833751436904,51.195270088881486,51.19950823486757,51.142658613727,51.10607880279749],\"type\":\"bar\"},{\"name\":\"E_ccgt\",\"x\":[0.001,0.002,0.003,0.004,0.005,0.006,0.007,0.008,0.009,0.01,0.011,0.012,0.013,0.014,0.015,0.016,0.017,0.018,0.019,0.02,0.021,0.022,0.023,0.024,0.025,0.026,0.027,0.028,0.029,0.03,0.031,0.032,0.033,0.034,0.035,0.036,0.037,0.038,0.039,0.04,0.041,0.042,0.043,0.044,0.045,0.046,0.047,0.048,0.049,0.05,0.051,0.052,0.053,0.054,0.055,0.056],\"y\":[0.1114456483243906,0.0883755616800158,0.0841554594548798,0.1010965949491835,0.1227935776212614,0.1228741889169484,0.1294433927133861,0.1233362092692134,0.1164699066703742,0.1126426615335607,0.1056105378588942,0.1005047637501138,0.0982585169386403,0.0963266410301416,0.0930946115166863,0.093426068068595,0.0947984586436916,0.0940067734165196,0.0933675113534913,0.0939545841252934,0.0944007868315544,0.0943971841209206,0.0943970500399949,0.0933793623803069,0.0925509152223849,0.0926093597567765,0.0926290470757359,0.0929858596746731,0.0923023373953647,0.0912089791044784,0.0912067104574496,0.0909617743242134,0.0898579917243034,0.0904170187441465,0.0907635492069591,0.0903581914606408,0.0911003980858943,0.0915830787403069,0.0918974346521358,0.091630252929166,0.0920296910678066,0.0921031507624975,0.0919990513790195,0.0924500292893583,0.0927689980893303,0.0933894526118625,0.0930259851210891,0.0931772890833025,0.0931351901519998,0.0932437834960986,0.0931248881957986,0.093183738602061,0.0931637376224165,0.0934953687967872,0.0935076447362878,0.0935016516870666],\"type\":\"bar\"},{\"name\":\"E_ccgt_bioch4\",\"x\":[0.001,0.002,0.003,0.004,0.005,0.006,0.007,0.008,0.009,0.01,0.011,0.012,0.013,0.014,0.015,0.016,0.017,0.018,0.019,0.02,0.021,0.022,0.023,0.024,0.025,0.026,0.027,0.028,0.029,0.03,0.031,0.032,0.033,0.034,0.035,0.036,0.037,0.038,0.039,0.04,0.041,0.042,0.043,0.044,0.045,0.046,0.047,0.048,0.049,0.05,0.051,0.052,0.053,0.054,0.055,0.056],\"y\":[22.53197603410208,18.5181233131403,14.596001829997988,13.670354003190816,12.625968291945885,12.23641869831768,11.947653219170911,11.565222002277276,10.96678388706632,10.59548436943852,10.386489937015815,10.30084486987888,10.390947781608991,10.325722790068212,10.194013335451055,9.916887307572974,9.644711145513044,9.447428138197436,9.33471715117211,9.301138346648871,9.146630521025749,9.06789838096807,8.921153225350182,8.734830005938612,8.766897036379838,8.733992976690452,8.521826969088986,8.364565142992415,8.339740944378661,8.395933827438496,8.232138337373385,8.34113324169532,8.496756427797198,8.58518882919499,8.499969534657867,8.325579010094312,8.14127105050014,8.035801798373674,8.005658375315573,7.92335446522487,7.913893055273044,7.917078542551188,7.90899072927243,7.910222399566972,7.830581397809628,7.864265048315719,7.815618255329992,7.809245159049228,7.807820648433113,7.813127764855304,7.812994962892747,7.814805613221909,7.817258680145561,7.820498677445122,7.809426868085104,7.811213994201964],\"type\":\"bar\"},{\"name\":\"E_won\",\"x\":[0.001,0.002,0.003,0.004,0.005,0.006,0.007,0.008,0.009,0.01,0.011,0.012,0.013,0.014,0.015,0.016,0.017,0.018,0.019,0.02,0.021,0.022,0.023,0.024,0.025,0.026,0.027,0.028,0.029,0.03,0.031,0.032,0.033,0.034,0.035,0.036,0.037,0.038,0.039,0.04,0.041,0.042,0.043,0.044,0.045,0.046,0.047,0.048,0.049,0.05,0.051,0.052,0.053,0.054,0.055,0.056],\"y\":[0.0504161846310529,0.050416184631053,0.0504161846310533,0.9004775916971179,1.9273549561308012,2.261656870382949,2.64452635029623,3.2506286263913475,3.807169466365713,4.192335241963289,4.75260307935107,5.372306152359571,5.988278619521164,6.4851667874364445,7.18089994972948,7.592656066745089,8.095204291829674,8.331584477737055,8.609402636226019,8.840114134237744,9.022409121113313,9.4499352653237,9.873182603052951,10.283819722452906,10.65205308783912,10.906178617376264,11.343494997568392,11.624463246072278,11.95146371008071,12.091606894858426,11.927288650250231,11.827189869145666,11.769196232547658,11.448236655475156,11.088851894101555,11.176441414603016,10.84951770817914,11.429677174304544,11.305167033144713,11.186610616130986,11.066270004983656,10.84141755783714,10.843003538559987,10.59526676616082,10.369423978204283,10.1588231466052,10.342875126540658,10.238364443929129,10.116115869051384,9.847152716469692,9.959211643327926,9.90374508279692,9.859446324071302,9.891864422154214,9.721974354139938,9.66161102881726],\"type\":\"bar\"},{\"name\":\"E_wof\",\"x\":[0.001,0.002,0.003,0.004,0.005,0.006,0.007,0.008,0.009,0.01,0.011,0.012,0.013,0.014,0.015,0.016,0.017,0.018,0.019,0.02,0.021,0.022,0.023,0.024,0.025,0.026,0.027,0.028,0.029,0.03,0.031,0.032,0.033,0.034,0.035,0.036,0.037,0.038,0.039,0.04,0.041,0.042,0.043,0.044,0.045,0.046,0.047,0.048,0.049,0.05,0.051,0.052,0.053,0.054,0.055,0.056],\"y\":[4.433157119503199,5.477235411918289,6.418946666189239,7.426684377999143,7.640216689650887,8.501763921856377,9.09633163111587,9.169651875296308,9.080992739886106,9.180561013476629,9.41875092700482,9.758685951743235,10.12479245337563,10.617469400905158,10.880458536275228,11.172437933677935,11.178884952892377,11.567588484480805,11.746524084378402,12.172903755833008,12.65189878922943,12.699100612401338,12.820379897295616,13.0603872505706,13.175954156680111,13.397921281110452,13.423727954611628,13.782969889386754,13.861263461177996,14.266512807111518,14.9122867937214,15.419490826651865,15.78895586142297,16.2517879328676,16.720295916694106,16.6684036905422,17.230017992115524,16.54941405938024,16.73499393843571,16.958706725454515,17.162577690040752,17.428748174270776,17.42687075971584,17.720130706440344,17.987473512770094,18.236773558365996,18.018900881218823,18.14261605243845,18.28732856406356,18.60571537048377,18.473064918141965,18.53872380450264,18.591162735946025,18.55278761050674,18.804274799292585,18.88993099178241],\"type\":\"bar\"},{\"name\":\"E_pv\",\"x\":[0.001,0.002,0.003,0.004,0.005,0.006,0.007,0.008,0.009,0.01,0.011,0.012,0.013,0.014,0.015,0.016,0.017,0.018,0.019,0.02,0.021,0.022,0.023,0.024,0.025,0.026,0.027,0.028,0.029,0.03,0.031,0.032,0.033,0.034,0.035,0.036,0.037,0.038,0.039,0.04,0.041,0.042,0.043,0.044,0.045,0.046,0.047,0.048,0.049,0.05,0.051,0.052,0.053,0.054,0.055,0.056],\"y\":[5.305562940536182,4.611538084355376,4.588648736660383,5.00322617442444,4.981330024854729,5.335237560556224,5.397847132864109,5.413264078397397,5.399857344116425,5.439612119235209,5.46885069937166,5.558347583410651,5.64046603818571,5.772423718731141,5.829149512301332,5.808999301643347,5.727689920760985,5.687145231062613,5.6783785151837805,5.656138842042294,5.6346750283830005,5.606624785257624,5.62155241315773,5.679403934049066,5.717064913275373,5.794039960187403,5.789878610855935,5.750437478418094,5.79609452545887,5.86418742120631,5.891560154578032,5.908599137074811,5.966969921673983,6.010110649069459,6.014501995366112,5.981608551581006,5.91642012833219,5.870651291588821,5.860288155087478,5.826406474010067,5.803871304261271,5.82038960071055,5.820273090082917,5.838472533761673,5.855063583446671,5.870534915927014,5.857013937146343,5.86469158735381,5.8736723132741,5.893431106850405,5.885198941280825,5.889273671627256,5.892527983680627,5.890146458546012,5.865728637703475,5.8597621959784645],\"type\":\"bar\"}],                        {\"template\":{\"data\":{\"histogram2dcontour\":[{\"type\":\"histogram2dcontour\",\"colorbar\":{\"outlinewidth\":0,\"ticks\":\"\"},\"colorscale\":[[0.0,\"#0d0887\"],[0.1111111111111111,\"#46039f\"],[0.2222222222222222,\"#7201a8\"],[0.3333333333333333,\"#9c179e\"],[0.4444444444444444,\"#bd3786\"],[0.5555555555555556,\"#d8576b\"],[0.6666666666666666,\"#ed7953\"],[0.7777777777777778,\"#fb9f3a\"],[0.8888888888888888,\"#fdca26\"],[1.0,\"#f0f921\"]]}],\"choropleth\":[{\"type\":\"choropleth\",\"colorbar\":{\"outlinewidth\":0,\"ticks\":\"\"}}],\"histogram2d\":[{\"type\":\"histogram2d\",\"colorbar\":{\"outlinewidth\":0,\"ticks\":\"\"},\"colorscale\":[[0.0,\"#0d0887\"],[0.1111111111111111,\"#46039f\"],[0.2222222222222222,\"#7201a8\"],[0.3333333333333333,\"#9c179e\"],[0.4444444444444444,\"#bd3786\"],[0.5555555555555556,\"#d8576b\"],[0.6666666666666666,\"#ed7953\"],[0.7777777777777778,\"#fb9f3a\"],[0.8888888888888888,\"#fdca26\"],[1.0,\"#f0f921\"]]}],\"heatmap\":[{\"type\":\"heatmap\",\"colorbar\":{\"outlinewidth\":0,\"ticks\":\"\"},\"colorscale\":[[0.0,\"#0d0887\"],[0.1111111111111111,\"#46039f\"],[0.2222222222222222,\"#7201a8\"],[0.3333333333333333,\"#9c179e\"],[0.4444444444444444,\"#bd3786\"],[0.5555555555555556,\"#d8576b\"],[0.6666666666666666,\"#ed7953\"],[0.7777777777777778,\"#fb9f3a\"],[0.8888888888888888,\"#fdca26\"],[1.0,\"#f0f921\"]]}],\"heatmapgl\":[{\"type\":\"heatmapgl\",\"colorbar\":{\"outlinewidth\":0,\"ticks\":\"\"},\"colorscale\":[[0.0,\"#0d0887\"],[0.1111111111111111,\"#46039f\"],[0.2222222222222222,\"#7201a8\"],[0.3333333333333333,\"#9c179e\"],[0.4444444444444444,\"#bd3786\"],[0.5555555555555556,\"#d8576b\"],[0.6666666666666666,\"#ed7953\"],[0.7777777777777778,\"#fb9f3a\"],[0.8888888888888888,\"#fdca26\"],[1.0,\"#f0f921\"]]}],\"contourcarpet\":[{\"type\":\"contourcarpet\",\"colorbar\":{\"outlinewidth\":0,\"ticks\":\"\"}}],\"contour\":[{\"type\":\"contour\",\"colorbar\":{\"outlinewidth\":0,\"ticks\":\"\"},\"colorscale\":[[0.0,\"#0d0887\"],[0.1111111111111111,\"#46039f\"],[0.2222222222222222,\"#7201a8\"],[0.3333333333333333,\"#9c179e\"],[0.4444444444444444,\"#bd3786\"],[0.5555555555555556,\"#d8576b\"],[0.6666666666666666,\"#ed7953\"],[0.7777777777777778,\"#fb9f3a\"],[0.8888888888888888,\"#fdca26\"],[1.0,\"#f0f921\"]]}],\"surface\":[{\"type\":\"surface\",\"colorbar\":{\"outlinewidth\":0,\"ticks\":\"\"},\"colorscale\":[[0.0,\"#0d0887\"],[0.1111111111111111,\"#46039f\"],[0.2222222222222222,\"#7201a8\"],[0.3333333333333333,\"#9c179e\"],[0.4444444444444444,\"#bd3786\"],[0.5555555555555556,\"#d8576b\"],[0.6666666666666666,\"#ed7953\"],[0.7777777777777778,\"#fb9f3a\"],[0.8888888888888888,\"#fdca26\"],[1.0,\"#f0f921\"]]}],\"mesh3d\":[{\"type\":\"mesh3d\",\"colorbar\":{\"outlinewidth\":0,\"ticks\":\"\"}}],\"scatter\":[{\"fillpattern\":{\"fillmode\":\"overlay\",\"size\":10,\"solidity\":0.2},\"type\":\"scatter\"}],\"parcoords\":[{\"type\":\"parcoords\",\"line\":{\"colorbar\":{\"outlinewidth\":0,\"ticks\":\"\"}}}],\"scatterpolargl\":[{\"type\":\"scatterpolargl\",\"marker\":{\"colorbar\":{\"outlinewidth\":0,\"ticks\":\"\"}}}],\"bar\":[{\"error_x\":{\"color\":\"#2a3f5f\"},\"error_y\":{\"color\":\"#2a3f5f\"},\"marker\":{\"line\":{\"color\":\"#E5ECF6\",\"width\":0.5},\"pattern\":{\"fillmode\":\"overlay\",\"size\":10,\"solidity\":0.2}},\"type\":\"bar\"}],\"scattergeo\":[{\"type\":\"scattergeo\",\"marker\":{\"colorbar\":{\"outlinewidth\":0,\"ticks\":\"\"}}}],\"scatterpolar\":[{\"type\":\"scatterpolar\",\"marker\":{\"colorbar\":{\"outlinewidth\":0,\"ticks\":\"\"}}}],\"histogram\":[{\"marker\":{\"pattern\":{\"fillmode\":\"overlay\",\"size\":10,\"solidity\":0.2}},\"type\":\"histogram\"}],\"scattergl\":[{\"type\":\"scattergl\",\"marker\":{\"colorbar\":{\"outlinewidth\":0,\"ticks\":\"\"}}}],\"scatter3d\":[{\"type\":\"scatter3d\",\"line\":{\"colorbar\":{\"outlinewidth\":0,\"ticks\":\"\"}},\"marker\":{\"colorbar\":{\"outlinewidth\":0,\"ticks\":\"\"}}}],\"scattermapbox\":[{\"type\":\"scattermapbox\",\"marker\":{\"colorbar\":{\"outlinewidth\":0,\"ticks\":\"\"}}}],\"scatterternary\":[{\"type\":\"scatterternary\",\"marker\":{\"colorbar\":{\"outlinewidth\":0,\"ticks\":\"\"}}}],\"scattercarpet\":[{\"type\":\"scattercarpet\",\"marker\":{\"colorbar\":{\"outlinewidth\":0,\"ticks\":\"\"}}}],\"carpet\":[{\"aaxis\":{\"endlinecolor\":\"#2a3f5f\",\"gridcolor\":\"white\",\"linecolor\":\"white\",\"minorgridcolor\":\"white\",\"startlinecolor\":\"#2a3f5f\"},\"baxis\":{\"endlinecolor\":\"#2a3f5f\",\"gridcolor\":\"white\",\"linecolor\":\"white\",\"minorgridcolor\":\"white\",\"startlinecolor\":\"#2a3f5f\"},\"type\":\"carpet\"}],\"table\":[{\"cells\":{\"fill\":{\"color\":\"#EBF0F8\"},\"line\":{\"color\":\"white\"}},\"header\":{\"fill\":{\"color\":\"#C8D4E3\"},\"line\":{\"color\":\"white\"}},\"type\":\"table\"}],\"barpolar\":[{\"marker\":{\"line\":{\"color\":\"#E5ECF6\",\"width\":0.5},\"pattern\":{\"fillmode\":\"overlay\",\"size\":10,\"solidity\":0.2}},\"type\":\"barpolar\"}],\"pie\":[{\"automargin\":true,\"type\":\"pie\"}]},\"layout\":{\"autotypenumbers\":\"strict\",\"colorway\":[\"#636efa\",\"#EF553B\",\"#00cc96\",\"#ab63fa\",\"#FFA15A\",\"#19d3f3\",\"#FF6692\",\"#B6E880\",\"#FF97FF\",\"#FECB52\"],\"font\":{\"color\":\"#2a3f5f\"},\"hovermode\":\"closest\",\"hoverlabel\":{\"align\":\"left\"},\"paper_bgcolor\":\"white\",\"plot_bgcolor\":\"#E5ECF6\",\"polar\":{\"bgcolor\":\"#E5ECF6\",\"angularaxis\":{\"gridcolor\":\"white\",\"linecolor\":\"white\",\"ticks\":\"\"},\"radialaxis\":{\"gridcolor\":\"white\",\"linecolor\":\"white\",\"ticks\":\"\"}},\"ternary\":{\"bgcolor\":\"#E5ECF6\",\"aaxis\":{\"gridcolor\":\"white\",\"linecolor\":\"white\",\"ticks\":\"\"},\"baxis\":{\"gridcolor\":\"white\",\"linecolor\":\"white\",\"ticks\":\"\"},\"caxis\":{\"gridcolor\":\"white\",\"linecolor\":\"white\",\"ticks\":\"\"}},\"coloraxis\":{\"colorbar\":{\"outlinewidth\":0,\"ticks\":\"\"}},\"colorscale\":{\"sequential\":[[0.0,\"#0d0887\"],[0.1111111111111111,\"#46039f\"],[0.2222222222222222,\"#7201a8\"],[0.3333333333333333,\"#9c179e\"],[0.4444444444444444,\"#bd3786\"],[0.5555555555555556,\"#d8576b\"],[0.6666666666666666,\"#ed7953\"],[0.7777777777777778,\"#fb9f3a\"],[0.8888888888888888,\"#fdca26\"],[1.0,\"#f0f921\"]],\"sequentialminus\":[[0.0,\"#0d0887\"],[0.1111111111111111,\"#46039f\"],[0.2222222222222222,\"#7201a8\"],[0.3333333333333333,\"#9c179e\"],[0.4444444444444444,\"#bd3786\"],[0.5555555555555556,\"#d8576b\"],[0.6666666666666666,\"#ed7953\"],[0.7777777777777778,\"#fb9f3a\"],[0.8888888888888888,\"#fdca26\"],[1.0,\"#f0f921\"]],\"diverging\":[[0,\"#8e0152\"],[0.1,\"#c51b7d\"],[0.2,\"#de77ae\"],[0.3,\"#f1b6da\"],[0.4,\"#fde0ef\"],[0.5,\"#f7f7f7\"],[0.6,\"#e6f5d0\"],[0.7,\"#b8e186\"],[0.8,\"#7fbc41\"],[0.9,\"#4d9221\"],[1,\"#276419\"]]},\"xaxis\":{\"gridcolor\":\"white\",\"linecolor\":\"white\",\"ticks\":\"\",\"title\":{\"standoff\":15},\"zerolinecolor\":\"white\",\"automargin\":true,\"zerolinewidth\":2},\"yaxis\":{\"gridcolor\":\"white\",\"linecolor\":\"white\",\"ticks\":\"\",\"title\":{\"standoff\":15},\"zerolinecolor\":\"white\",\"automargin\":true,\"zerolinewidth\":2},\"scene\":{\"xaxis\":{\"backgroundcolor\":\"#E5ECF6\",\"gridcolor\":\"white\",\"linecolor\":\"white\",\"showbackground\":true,\"ticks\":\"\",\"zerolinecolor\":\"white\",\"gridwidth\":2},\"yaxis\":{\"backgroundcolor\":\"#E5ECF6\",\"gridcolor\":\"white\",\"linecolor\":\"white\",\"showbackground\":true,\"ticks\":\"\",\"zerolinecolor\":\"white\",\"gridwidth\":2},\"zaxis\":{\"backgroundcolor\":\"#E5ECF6\",\"gridcolor\":\"white\",\"linecolor\":\"white\",\"showbackground\":true,\"ticks\":\"\",\"zerolinecolor\":\"white\",\"gridwidth\":2}},\"shapedefaults\":{\"line\":{\"color\":\"#2a3f5f\"}},\"annotationdefaults\":{\"arrowcolor\":\"#2a3f5f\",\"arrowhead\":0,\"arrowwidth\":1},\"geo\":{\"bgcolor\":\"white\",\"landcolor\":\"#E5ECF6\",\"subunitcolor\":\"white\",\"showland\":true,\"showlakes\":true,\"lakecolor\":\"white\"},\"title\":{\"x\":0.05},\"mapbox\":{\"style\":\"light\"}}},\"margin\":{\"l\":50,\"r\":150,\"b\":50,\"t\":50},\"font\":{\"size\":15},\"yaxis\":{\"title\":{\"text\":\"Production @2060(%)\"}},\"xaxis\":{\"title\":{\"text\":\"r up (Pn\\u002fh)\"}},\"barmode\":\"stack\",\"width\":750,\"height\":350},                        {\"responsive\": true}                    ).then(function(){\n",
       "                            \n",
       "var gd = document.getElementById('ee2110b2-f983-4187-be2f-797f7367c743');\n",
       "var x = new MutationObserver(function (mutations, observer) {{\n",
       "        var display = window.getComputedStyle(gd).display;\n",
       "        if (!display || display === 'none') {{\n",
       "            console.log([gd, 'removed!']);\n",
       "            Plotly.purge(gd);\n",
       "            observer.disconnect();\n",
       "        }}\n",
       "}});\n",
       "\n",
       "// Listen for the removal of the full notebook cells\n",
       "var notebookContainer = gd.closest('#notebook-container');\n",
       "if (notebookContainer) {{\n",
       "    x.observe(notebookContainer, {childList: true});\n",
       "}}\n",
       "\n",
       "// Listen for the clearing of the current output cell\n",
       "var outputEl = gd.closest('.output');\n",
       "if (outputEl) {{\n",
       "    x.observe(outputEl, {childList: true});\n",
       "}}\n",
       "\n",
       "                        })                };                });            </script>        </div>"
      ]
     },
     "metadata": {},
     "output_type": "display_data"
    }
   ],
   "source": [
    "import numpy as np\n",
    "import pandas as pd\n",
    "\n",
    "import plotly.graph_objects as go\n",
    "from plotly.subplots import make_subplots\n",
    "import plotly.io as pio\n",
    "\n",
    "df = pd.read_csv('out/out.dat')\n",
    "df\n",
    "\n",
    "fig = go.Figure()\n",
    "fig.add_trace(go.Scatter(x = df['rup'] , y = df['obj'],line=dict(width=2.0),mode='lines',name='won'))\n",
    "fig.update_layout(yaxis_title='obj (€)',xaxis_title=\"r up (#Pn/h)\",width=750,height=350,margin=dict(l=50,r=150,b=30,t=50),font=dict(size=15))\n",
    "fig.show()\n",
    "print()\n",
    "fig = go.Figure()\n",
    "fig.add_trace(go.Scatter(x = df['rup'] , y = df['P_hist'],line=dict(width=2.0),mode='lines',name='hist'))\n",
    "fig.add_trace(go.Scatter(x = df['rup'] , y = df['P_new'],line=dict(width=2.0),mode='lines',name='new'))\n",
    "fig.add_trace(go.Scatter(x = df['rup'] , y = df['P_ccgt'],line=dict(width=2.0),mode='lines',name='ccgt'))\n",
    "fig.add_trace(go.Scatter(x = df['rup'] , y = df['P_ccgt_bioch4'],line=dict(width=2.0),mode='lines',name='ccgt_bioch4'))\n",
    "fig.add_trace(go.Scatter(x = df['rup'] , y = df['P_won'],line=dict(width=2.0),mode='lines',name='won'))\n",
    "fig.add_trace(go.Scatter(x = df['rup'] , y = df['P_wof'],line=dict(width=2.0),mode='lines',name='wof'))\n",
    "fig.add_trace(go.Scatter(x = df['rup'] , y = df['P_pv'],line=dict(width=2.0),mode='lines',name='pv'))\n",
    "fig.update_layout(yaxis_title='P @y=2060 (MW)',xaxis_title=\"r up (#Pn/h)\",width=750,height=350,margin=dict(l=50,r=150,b=30,t=50),font=dict(size=15))\n",
    "fig.show()\n",
    "print()\n",
    "fig = go.Figure()\n",
    "fig.add_trace(go.Bar(x=df['rup'], y = df['E_hist'], name='E_hist'))\n",
    "fig.add_trace(go.Bar(x=df['rup'], y = df['E_new' ], name='E_new' ))\n",
    "fig.add_trace(go.Bar(x=df['rup'], y = df['E_ccgt'], name='E_ccgt'))\n",
    "fig.add_trace(go.Bar(x=df['rup'], y = df['E_ccgt_bioch4'], name='E_ccgt_bioch4'))\n",
    "fig.add_trace(go.Bar(x=df['rup'], y = df['E_won' ], name='E_won' ))\n",
    "fig.add_trace(go.Bar(x=df['rup'], y = df['E_wof' ], name='E_wof' ))\n",
    "fig.add_trace(go.Bar(x=df['rup'], y = df['E_pv'  ], name='E_pv'  ))\n",
    "fig.update_layout(yaxis_title='Production @2060(%)',xaxis_title='r up (Pn/h)',barmode='stack',\n",
    "                  width=750,height=350,margin=dict(l=50, r=150, b=50, t=50),font=dict(size=15))\n",
    "fig.show()\n"
   ]
  },
  {
   "cell_type": "code",
   "execution_count": null,
   "id": "59ba68a8-6292-46bc-be6c-b7ca6b69311e",
   "metadata": {},
   "outputs": [],
   "source": []
  }
 ],
 "metadata": {
  "kernelspec": {
   "display_name": "Python 3 (ipykernel)",
   "language": "python",
   "name": "python3"
  },
  "language_info": {
   "codemirror_mode": {
    "name": "ipython",
    "version": 3
   },
   "file_extension": ".py",
   "mimetype": "text/x-python",
   "name": "python",
   "nbconvert_exporter": "python",
   "pygments_lexer": "ipython3",
   "version": "3.9.0"
  }
 },
 "nbformat": 4,
 "nbformat_minor": 5
}
