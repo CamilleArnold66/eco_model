{
 "cells": [
  {
   "cell_type": "code",
   "execution_count": 35,
   "id": "86c9efb9-fe50-4c2b-9dad-229528901211",
   "metadata": {},
   "outputs": [
    {
     "data": {
      "application/vnd.plotly.v1+json": {
       "config": {
        "plotlyServerURL": "https://plot.ly"
       },
       "data": [
        {
         "line": {
          "width": 2
         },
         "mode": "lines",
         "name": "won",
         "type": "scatter",
         "x": [
          0.001,
          0.003,
          0.004,
          0.005,
          0.006,
          0.007,
          0.008,
          0.009,
          0.01,
          0.011,
          0.012,
          0.013,
          0.014,
          0.015,
          0.016,
          0.017,
          0.018,
          0.019,
          0.02,
          0.021,
          0.022,
          0.023,
          0.024,
          0.025,
          0.026,
          0.027,
          0.028,
          0.029,
          0.03,
          0.031,
          0.032,
          0.033,
          0.034,
          0.035,
          0.036,
          0.037,
          0.038,
          0.039,
          0.04,
          0.041,
          0.042,
          0.043,
          0.044,
          0.045,
          0.046,
          0.047,
          0.048,
          0.049,
          0.05,
          0.051,
          0.052,
          0.053,
          0.054,
          0.055,
          0.056,
          0.057
         ],
         "y": [
          728000000000,
          722000000000,
          720000000000,
          717000000000,
          715000000000,
          712000000000,
          711000000000,
          710000000000,
          707000000000,
          707000000000,
          705000000000,
          704000000000,
          703000000000,
          701000000000,
          699000000000,
          700000000000,
          698000000000,
          696000000000,
          696000000000,
          694000000000,
          695000000000,
          694000000000,
          693000000000,
          693000000000,
          692000000000,
          692000000000,
          691000000000,
          690000000000,
          690000000000,
          690000000000,
          689000000000,
          689000000000,
          689000000000,
          689000000000,
          688000000000,
          688000000000,
          688000000000,
          688000000000,
          688000000000,
          687000000000,
          687000000000,
          687000000000,
          687000000000,
          686000000000,
          687000000000,
          687000000000,
          687000000000,
          686000000000,
          686000000000,
          685000000000,
          686000000000,
          685000000000,
          686000000000,
          685000000000,
          686000000000,
          685000000000
         ]
        }
       ],
       "layout": {
        "font": {
         "size": 15
        },
        "height": 350,
        "margin": {
         "b": 30,
         "l": 50,
         "r": 150,
         "t": 50
        },
        "template": {
         "data": {
          "bar": [
           {
            "error_x": {
             "color": "#2a3f5f"
            },
            "error_y": {
             "color": "#2a3f5f"
            },
            "marker": {
             "line": {
              "color": "#E5ECF6",
              "width": 0.5
             },
             "pattern": {
              "fillmode": "overlay",
              "size": 10,
              "solidity": 0.2
             }
            },
            "type": "bar"
           }
          ],
          "barpolar": [
           {
            "marker": {
             "line": {
              "color": "#E5ECF6",
              "width": 0.5
             },
             "pattern": {
              "fillmode": "overlay",
              "size": 10,
              "solidity": 0.2
             }
            },
            "type": "barpolar"
           }
          ],
          "carpet": [
           {
            "aaxis": {
             "endlinecolor": "#2a3f5f",
             "gridcolor": "white",
             "linecolor": "white",
             "minorgridcolor": "white",
             "startlinecolor": "#2a3f5f"
            },
            "baxis": {
             "endlinecolor": "#2a3f5f",
             "gridcolor": "white",
             "linecolor": "white",
             "minorgridcolor": "white",
             "startlinecolor": "#2a3f5f"
            },
            "type": "carpet"
           }
          ],
          "choropleth": [
           {
            "colorbar": {
             "outlinewidth": 0,
             "ticks": ""
            },
            "type": "choropleth"
           }
          ],
          "contour": [
           {
            "colorbar": {
             "outlinewidth": 0,
             "ticks": ""
            },
            "colorscale": [
             [
              0,
              "#0d0887"
             ],
             [
              0.1111111111111111,
              "#46039f"
             ],
             [
              0.2222222222222222,
              "#7201a8"
             ],
             [
              0.3333333333333333,
              "#9c179e"
             ],
             [
              0.4444444444444444,
              "#bd3786"
             ],
             [
              0.5555555555555556,
              "#d8576b"
             ],
             [
              0.6666666666666666,
              "#ed7953"
             ],
             [
              0.7777777777777778,
              "#fb9f3a"
             ],
             [
              0.8888888888888888,
              "#fdca26"
             ],
             [
              1,
              "#f0f921"
             ]
            ],
            "type": "contour"
           }
          ],
          "contourcarpet": [
           {
            "colorbar": {
             "outlinewidth": 0,
             "ticks": ""
            },
            "type": "contourcarpet"
           }
          ],
          "heatmap": [
           {
            "colorbar": {
             "outlinewidth": 0,
             "ticks": ""
            },
            "colorscale": [
             [
              0,
              "#0d0887"
             ],
             [
              0.1111111111111111,
              "#46039f"
             ],
             [
              0.2222222222222222,
              "#7201a8"
             ],
             [
              0.3333333333333333,
              "#9c179e"
             ],
             [
              0.4444444444444444,
              "#bd3786"
             ],
             [
              0.5555555555555556,
              "#d8576b"
             ],
             [
              0.6666666666666666,
              "#ed7953"
             ],
             [
              0.7777777777777778,
              "#fb9f3a"
             ],
             [
              0.8888888888888888,
              "#fdca26"
             ],
             [
              1,
              "#f0f921"
             ]
            ],
            "type": "heatmap"
           }
          ],
          "heatmapgl": [
           {
            "colorbar": {
             "outlinewidth": 0,
             "ticks": ""
            },
            "colorscale": [
             [
              0,
              "#0d0887"
             ],
             [
              0.1111111111111111,
              "#46039f"
             ],
             [
              0.2222222222222222,
              "#7201a8"
             ],
             [
              0.3333333333333333,
              "#9c179e"
             ],
             [
              0.4444444444444444,
              "#bd3786"
             ],
             [
              0.5555555555555556,
              "#d8576b"
             ],
             [
              0.6666666666666666,
              "#ed7953"
             ],
             [
              0.7777777777777778,
              "#fb9f3a"
             ],
             [
              0.8888888888888888,
              "#fdca26"
             ],
             [
              1,
              "#f0f921"
             ]
            ],
            "type": "heatmapgl"
           }
          ],
          "histogram": [
           {
            "marker": {
             "pattern": {
              "fillmode": "overlay",
              "size": 10,
              "solidity": 0.2
             }
            },
            "type": "histogram"
           }
          ],
          "histogram2d": [
           {
            "colorbar": {
             "outlinewidth": 0,
             "ticks": ""
            },
            "colorscale": [
             [
              0,
              "#0d0887"
             ],
             [
              0.1111111111111111,
              "#46039f"
             ],
             [
              0.2222222222222222,
              "#7201a8"
             ],
             [
              0.3333333333333333,
              "#9c179e"
             ],
             [
              0.4444444444444444,
              "#bd3786"
             ],
             [
              0.5555555555555556,
              "#d8576b"
             ],
             [
              0.6666666666666666,
              "#ed7953"
             ],
             [
              0.7777777777777778,
              "#fb9f3a"
             ],
             [
              0.8888888888888888,
              "#fdca26"
             ],
             [
              1,
              "#f0f921"
             ]
            ],
            "type": "histogram2d"
           }
          ],
          "histogram2dcontour": [
           {
            "colorbar": {
             "outlinewidth": 0,
             "ticks": ""
            },
            "colorscale": [
             [
              0,
              "#0d0887"
             ],
             [
              0.1111111111111111,
              "#46039f"
             ],
             [
              0.2222222222222222,
              "#7201a8"
             ],
             [
              0.3333333333333333,
              "#9c179e"
             ],
             [
              0.4444444444444444,
              "#bd3786"
             ],
             [
              0.5555555555555556,
              "#d8576b"
             ],
             [
              0.6666666666666666,
              "#ed7953"
             ],
             [
              0.7777777777777778,
              "#fb9f3a"
             ],
             [
              0.8888888888888888,
              "#fdca26"
             ],
             [
              1,
              "#f0f921"
             ]
            ],
            "type": "histogram2dcontour"
           }
          ],
          "mesh3d": [
           {
            "colorbar": {
             "outlinewidth": 0,
             "ticks": ""
            },
            "type": "mesh3d"
           }
          ],
          "parcoords": [
           {
            "line": {
             "colorbar": {
              "outlinewidth": 0,
              "ticks": ""
             }
            },
            "type": "parcoords"
           }
          ],
          "pie": [
           {
            "automargin": true,
            "type": "pie"
           }
          ],
          "scatter": [
           {
            "fillpattern": {
             "fillmode": "overlay",
             "size": 10,
             "solidity": 0.2
            },
            "type": "scatter"
           }
          ],
          "scatter3d": [
           {
            "line": {
             "colorbar": {
              "outlinewidth": 0,
              "ticks": ""
             }
            },
            "marker": {
             "colorbar": {
              "outlinewidth": 0,
              "ticks": ""
             }
            },
            "type": "scatter3d"
           }
          ],
          "scattercarpet": [
           {
            "marker": {
             "colorbar": {
              "outlinewidth": 0,
              "ticks": ""
             }
            },
            "type": "scattercarpet"
           }
          ],
          "scattergeo": [
           {
            "marker": {
             "colorbar": {
              "outlinewidth": 0,
              "ticks": ""
             }
            },
            "type": "scattergeo"
           }
          ],
          "scattergl": [
           {
            "marker": {
             "colorbar": {
              "outlinewidth": 0,
              "ticks": ""
             }
            },
            "type": "scattergl"
           }
          ],
          "scattermapbox": [
           {
            "marker": {
             "colorbar": {
              "outlinewidth": 0,
              "ticks": ""
             }
            },
            "type": "scattermapbox"
           }
          ],
          "scatterpolar": [
           {
            "marker": {
             "colorbar": {
              "outlinewidth": 0,
              "ticks": ""
             }
            },
            "type": "scatterpolar"
           }
          ],
          "scatterpolargl": [
           {
            "marker": {
             "colorbar": {
              "outlinewidth": 0,
              "ticks": ""
             }
            },
            "type": "scatterpolargl"
           }
          ],
          "scatterternary": [
           {
            "marker": {
             "colorbar": {
              "outlinewidth": 0,
              "ticks": ""
             }
            },
            "type": "scatterternary"
           }
          ],
          "surface": [
           {
            "colorbar": {
             "outlinewidth": 0,
             "ticks": ""
            },
            "colorscale": [
             [
              0,
              "#0d0887"
             ],
             [
              0.1111111111111111,
              "#46039f"
             ],
             [
              0.2222222222222222,
              "#7201a8"
             ],
             [
              0.3333333333333333,
              "#9c179e"
             ],
             [
              0.4444444444444444,
              "#bd3786"
             ],
             [
              0.5555555555555556,
              "#d8576b"
             ],
             [
              0.6666666666666666,
              "#ed7953"
             ],
             [
              0.7777777777777778,
              "#fb9f3a"
             ],
             [
              0.8888888888888888,
              "#fdca26"
             ],
             [
              1,
              "#f0f921"
             ]
            ],
            "type": "surface"
           }
          ],
          "table": [
           {
            "cells": {
             "fill": {
              "color": "#EBF0F8"
             },
             "line": {
              "color": "white"
             }
            },
            "header": {
             "fill": {
              "color": "#C8D4E3"
             },
             "line": {
              "color": "white"
             }
            },
            "type": "table"
           }
          ]
         },
         "layout": {
          "annotationdefaults": {
           "arrowcolor": "#2a3f5f",
           "arrowhead": 0,
           "arrowwidth": 1
          },
          "autotypenumbers": "strict",
          "coloraxis": {
           "colorbar": {
            "outlinewidth": 0,
            "ticks": ""
           }
          },
          "colorscale": {
           "diverging": [
            [
             0,
             "#8e0152"
            ],
            [
             0.1,
             "#c51b7d"
            ],
            [
             0.2,
             "#de77ae"
            ],
            [
             0.3,
             "#f1b6da"
            ],
            [
             0.4,
             "#fde0ef"
            ],
            [
             0.5,
             "#f7f7f7"
            ],
            [
             0.6,
             "#e6f5d0"
            ],
            [
             0.7,
             "#b8e186"
            ],
            [
             0.8,
             "#7fbc41"
            ],
            [
             0.9,
             "#4d9221"
            ],
            [
             1,
             "#276419"
            ]
           ],
           "sequential": [
            [
             0,
             "#0d0887"
            ],
            [
             0.1111111111111111,
             "#46039f"
            ],
            [
             0.2222222222222222,
             "#7201a8"
            ],
            [
             0.3333333333333333,
             "#9c179e"
            ],
            [
             0.4444444444444444,
             "#bd3786"
            ],
            [
             0.5555555555555556,
             "#d8576b"
            ],
            [
             0.6666666666666666,
             "#ed7953"
            ],
            [
             0.7777777777777778,
             "#fb9f3a"
            ],
            [
             0.8888888888888888,
             "#fdca26"
            ],
            [
             1,
             "#f0f921"
            ]
           ],
           "sequentialminus": [
            [
             0,
             "#0d0887"
            ],
            [
             0.1111111111111111,
             "#46039f"
            ],
            [
             0.2222222222222222,
             "#7201a8"
            ],
            [
             0.3333333333333333,
             "#9c179e"
            ],
            [
             0.4444444444444444,
             "#bd3786"
            ],
            [
             0.5555555555555556,
             "#d8576b"
            ],
            [
             0.6666666666666666,
             "#ed7953"
            ],
            [
             0.7777777777777778,
             "#fb9f3a"
            ],
            [
             0.8888888888888888,
             "#fdca26"
            ],
            [
             1,
             "#f0f921"
            ]
           ]
          },
          "colorway": [
           "#636efa",
           "#EF553B",
           "#00cc96",
           "#ab63fa",
           "#FFA15A",
           "#19d3f3",
           "#FF6692",
           "#B6E880",
           "#FF97FF",
           "#FECB52"
          ],
          "font": {
           "color": "#2a3f5f"
          },
          "geo": {
           "bgcolor": "white",
           "lakecolor": "white",
           "landcolor": "#E5ECF6",
           "showlakes": true,
           "showland": true,
           "subunitcolor": "white"
          },
          "hoverlabel": {
           "align": "left"
          },
          "hovermode": "closest",
          "mapbox": {
           "style": "light"
          },
          "paper_bgcolor": "white",
          "plot_bgcolor": "#E5ECF6",
          "polar": {
           "angularaxis": {
            "gridcolor": "white",
            "linecolor": "white",
            "ticks": ""
           },
           "bgcolor": "#E5ECF6",
           "radialaxis": {
            "gridcolor": "white",
            "linecolor": "white",
            "ticks": ""
           }
          },
          "scene": {
           "xaxis": {
            "backgroundcolor": "#E5ECF6",
            "gridcolor": "white",
            "gridwidth": 2,
            "linecolor": "white",
            "showbackground": true,
            "ticks": "",
            "zerolinecolor": "white"
           },
           "yaxis": {
            "backgroundcolor": "#E5ECF6",
            "gridcolor": "white",
            "gridwidth": 2,
            "linecolor": "white",
            "showbackground": true,
            "ticks": "",
            "zerolinecolor": "white"
           },
           "zaxis": {
            "backgroundcolor": "#E5ECF6",
            "gridcolor": "white",
            "gridwidth": 2,
            "linecolor": "white",
            "showbackground": true,
            "ticks": "",
            "zerolinecolor": "white"
           }
          },
          "shapedefaults": {
           "line": {
            "color": "#2a3f5f"
           }
          },
          "ternary": {
           "aaxis": {
            "gridcolor": "white",
            "linecolor": "white",
            "ticks": ""
           },
           "baxis": {
            "gridcolor": "white",
            "linecolor": "white",
            "ticks": ""
           },
           "bgcolor": "#E5ECF6",
           "caxis": {
            "gridcolor": "white",
            "linecolor": "white",
            "ticks": ""
           }
          },
          "title": {
           "x": 0.05
          },
          "xaxis": {
           "automargin": true,
           "gridcolor": "white",
           "linecolor": "white",
           "ticks": "",
           "title": {
            "standoff": 15
           },
           "zerolinecolor": "white",
           "zerolinewidth": 2
          },
          "yaxis": {
           "automargin": true,
           "gridcolor": "white",
           "linecolor": "white",
           "ticks": "",
           "title": {
            "standoff": 15
           },
           "zerolinecolor": "white",
           "zerolinewidth": 2
          }
         }
        },
        "width": 750,
        "xaxis": {
         "autorange": true,
         "range": [
          0.001,
          0.057
         ],
         "title": {
          "text": "r up (#Pn/h)"
         },
         "type": "linear"
        },
        "yaxis": {
         "autorange": true,
         "range": [
          682611111111.1111,
          730388888888.8889
         ],
         "title": {
          "text": "obj (€)"
         },
         "type": "linear"
        }
       }
      },
      "image/png": "[encoded data removed]",
      "text/html": [
       "<div>                            <div id=\"dced8585-7728-43c3-8676-7d5ad4374743\" class=\"plotly-graph-div\" style=\"height:350px; width:750px;\"></div>            <script type=\"text/javascript\">                require([\"plotly\"], function(Plotly) {                    window.PLOTLYENV=window.PLOTLYENV || {};                                    if (document.getElementById(\"dced8585-7728-43c3-8676-7d5ad4374743\")) {                    Plotly.newPlot(                        \"dced8585-7728-43c3-8676-7d5ad4374743\",                        [{\"line\":{\"width\":2.0},\"mode\":\"lines\",\"name\":\"won\",\"x\":[0.001,0.003,0.004,0.005,0.006,0.007,0.008,0.009,0.01,0.011,0.012,0.013,0.014,0.015,0.016,0.017,0.018,0.019,0.02,0.021,0.022,0.023,0.024,0.025,0.026,0.027,0.028,0.029,0.03,0.031,0.032,0.033,0.034,0.035,0.036,0.037,0.038,0.039,0.04,0.041,0.042,0.043,0.044,0.045,0.046,0.047,0.048,0.049,0.05,0.051,0.052,0.053,0.054,0.055,0.056,0.057],\"y\":[728000000000.0,722000000000.0,720000000000.0,717000000000.0,715000000000.0,712000000000.0,711000000000.0,710000000000.0,707000000000.0,707000000000.0,705000000000.0,704000000000.0,703000000000.0,701000000000.0,699000000000.0,700000000000.0,698000000000.0,696000000000.0,696000000000.0,694000000000.0,695000000000.0,694000000000.0,693000000000.0,693000000000.0,692000000000.0,692000000000.0,691000000000.0,690000000000.0,690000000000.0,690000000000.0,689000000000.0,689000000000.0,689000000000.0,689000000000.0,688000000000.0,688000000000.0,688000000000.0,688000000000.0,688000000000.0,687000000000.0,687000000000.0,687000000000.0,687000000000.0,686000000000.0,687000000000.0,687000000000.0,687000000000.0,686000000000.0,686000000000.0,685000000000.0,686000000000.0,685000000000.0,686000000000.0,685000000000.0,686000000000.0,685000000000.0],\"type\":\"scatter\"}],                        {\"template\":{\"data\":{\"histogram2dcontour\":[{\"type\":\"histogram2dcontour\",\"colorbar\":{\"outlinewidth\":0,\"ticks\":\"\"},\"colorscale\":[[0.0,\"#0d0887\"],[0.1111111111111111,\"#46039f\"],[0.2222222222222222,\"#7201a8\"],[0.3333333333333333,\"#9c179e\"],[0.4444444444444444,\"#bd3786\"],[0.5555555555555556,\"#d8576b\"],[0.6666666666666666,\"#ed7953\"],[0.7777777777777778,\"#fb9f3a\"],[0.8888888888888888,\"#fdca26\"],[1.0,\"#f0f921\"]]}],\"choropleth\":[{\"type\":\"choropleth\",\"colorbar\":{\"outlinewidth\":0,\"ticks\":\"\"}}],\"histogram2d\":[{\"type\":\"histogram2d\",\"colorbar\":{\"outlinewidth\":0,\"ticks\":\"\"},\"colorscale\":[[0.0,\"#0d0887\"],[0.1111111111111111,\"#46039f\"],[0.2222222222222222,\"#7201a8\"],[0.3333333333333333,\"#9c179e\"],[0.4444444444444444,\"#bd3786\"],[0.5555555555555556,\"#d8576b\"],[0.6666666666666666,\"#ed7953\"],[0.7777777777777778,\"#fb9f3a\"],[0.8888888888888888,\"#fdca26\"],[1.0,\"#f0f921\"]]}],\"heatmap\":[{\"type\":\"heatmap\",\"colorbar\":{\"outlinewidth\":0,\"ticks\":\"\"},\"colorscale\":[[0.0,\"#0d0887\"],[0.1111111111111111,\"#46039f\"],[0.2222222222222222,\"#7201a8\"],[0.3333333333333333,\"#9c179e\"],[0.4444444444444444,\"#bd3786\"],[0.5555555555555556,\"#d8576b\"],[0.6666666666666666,\"#ed7953\"],[0.7777777777777778,\"#fb9f3a\"],[0.8888888888888888,\"#fdca26\"],[1.0,\"#f0f921\"]]}],\"heatmapgl\":[{\"type\":\"heatmapgl\",\"colorbar\":{\"outlinewidth\":0,\"ticks\":\"\"},\"colorscale\":[[0.0,\"#0d0887\"],[0.1111111111111111,\"#46039f\"],[0.2222222222222222,\"#7201a8\"],[0.3333333333333333,\"#9c179e\"],[0.4444444444444444,\"#bd3786\"],[0.5555555555555556,\"#d8576b\"],[0.6666666666666666,\"#ed7953\"],[0.7777777777777778,\"#fb9f3a\"],[0.8888888888888888,\"#fdca26\"],[1.0,\"#f0f921\"]]}],\"contourcarpet\":[{\"type\":\"contourcarpet\",\"colorbar\":{\"outlinewidth\":0,\"ticks\":\"\"}}],\"contour\":[{\"type\":\"contour\",\"colorbar\":{\"outlinewidth\":0,\"ticks\":\"\"},\"colorscale\":[[0.0,\"#0d0887\"],[0.1111111111111111,\"#46039f\"],[0.2222222222222222,\"#7201a8\"],[0.3333333333333333,\"#9c179e\"],[0.4444444444444444,\"#bd3786\"],[0.5555555555555556,\"#d8576b\"],[0.6666666666666666,\"#ed7953\"],[0.7777777777777778,\"#fb9f3a\"],[0.8888888888888888,\"#fdca26\"],[1.0,\"#f0f921\"]]}],\"surface\":[{\"type\":\"surface\",\"colorbar\":{\"outlinewidth\":0,\"ticks\":\"\"},\"colorscale\":[[0.0,\"#0d0887\"],[0.1111111111111111,\"#46039f\"],[0.2222222222222222,\"#7201a8\"],[0.3333333333333333,\"#9c179e\"],[0.4444444444444444,\"#bd3786\"],[0.5555555555555556,\"#d8576b\"],[0.6666666666666666,\"#ed7953\"],[0.7777777777777778,\"#fb9f3a\"],[0.8888888888888888,\"#fdca26\"],[1.0,\"#f0f921\"]]}],\"mesh3d\":[{\"type\":\"mesh3d\",\"colorbar\":{\"outlinewidth\":0,\"ticks\":\"\"}}],\"scatter\":[{\"fillpattern\":{\"fillmode\":\"overlay\",\"size\":10,\"solidity\":0.2},\"type\":\"scatter\"}],\"parcoords\":[{\"type\":\"parcoords\",\"line\":{\"colorbar\":{\"outlinewidth\":0,\"ticks\":\"\"}}}],\"scatterpolargl\":[{\"type\":\"scatterpolargl\",\"marker\":{\"colorbar\":{\"outlinewidth\":0,\"ticks\":\"\"}}}],\"bar\":[{\"error_x\":{\"color\":\"#2a3f5f\"},\"error_y\":{\"color\":\"#2a3f5f\"},\"marker\":{\"line\":{\"color\":\"#E5ECF6\",\"width\":0.5},\"pattern\":{\"fillmode\":\"overlay\",\"size\":10,\"solidity\":0.2}},\"type\":\"bar\"}],\"scattergeo\":[{\"type\":\"scattergeo\",\"marker\":{\"colorbar\":{\"outlinewidth\":0,\"ticks\":\"\"}}}],\"scatterpolar\":[{\"type\":\"scatterpolar\",\"marker\":{\"colorbar\":{\"outlinewidth\":0,\"ticks\":\"\"}}}],\"histogram\":[{\"marker\":{\"pattern\":{\"fillmode\":\"overlay\",\"size\":10,\"solidity\":0.2}},\"type\":\"histogram\"}],\"scattergl\":[{\"type\":\"scattergl\",\"marker\":{\"colorbar\":{\"outlinewidth\":0,\"ticks\":\"\"}}}],\"scatter3d\":[{\"type\":\"scatter3d\",\"line\":{\"colorbar\":{\"outlinewidth\":0,\"ticks\":\"\"}},\"marker\":{\"colorbar\":{\"outlinewidth\":0,\"ticks\":\"\"}}}],\"scattermapbox\":[{\"type\":\"scattermapbox\",\"marker\":{\"colorbar\":{\"outlinewidth\":0,\"ticks\":\"\"}}}],\"scatterternary\":[{\"type\":\"scatterternary\",\"marker\":{\"colorbar\":{\"outlinewidth\":0,\"ticks\":\"\"}}}],\"scattercarpet\":[{\"type\":\"scattercarpet\",\"marker\":{\"colorbar\":{\"outlinewidth\":0,\"ticks\":\"\"}}}],\"carpet\":[{\"aaxis\":{\"endlinecolor\":\"#2a3f5f\",\"gridcolor\":\"white\",\"linecolor\":\"white\",\"minorgridcolor\":\"white\",\"startlinecolor\":\"#2a3f5f\"},\"baxis\":{\"endlinecolor\":\"#2a3f5f\",\"gridcolor\":\"white\",\"linecolor\":\"white\",\"minorgridcolor\":\"white\",\"startlinecolor\":\"#2a3f5f\"},\"type\":\"carpet\"}],\"table\":[{\"cells\":{\"fill\":{\"color\":\"#EBF0F8\"},\"line\":{\"color\":\"white\"}},\"header\":{\"fill\":{\"color\":\"#C8D4E3\"},\"line\":{\"color\":\"white\"}},\"type\":\"table\"}],\"barpolar\":[{\"marker\":{\"line\":{\"color\":\"#E5ECF6\",\"width\":0.5},\"pattern\":{\"fillmode\":\"overlay\",\"size\":10,\"solidity\":0.2}},\"type\":\"barpolar\"}],\"pie\":[{\"automargin\":true,\"type\":\"pie\"}]},\"layout\":{\"autotypenumbers\":\"strict\",\"colorway\":[\"#636efa\",\"#EF553B\",\"#00cc96\",\"#ab63fa\",\"#FFA15A\",\"#19d3f3\",\"#FF6692\",\"#B6E880\",\"#FF97FF\",\"#FECB52\"],\"font\":{\"color\":\"#2a3f5f\"},\"hovermode\":\"closest\",\"hoverlabel\":{\"align\":\"left\"},\"paper_bgcolor\":\"white\",\"plot_bgcolor\":\"#E5ECF6\",\"polar\":{\"bgcolor\":\"#E5ECF6\",\"angularaxis\":{\"gridcolor\":\"white\",\"linecolor\":\"white\",\"ticks\":\"\"},\"radialaxis\":{\"gridcolor\":\"white\",\"linecolor\":\"white\",\"ticks\":\"\"}},\"ternary\":{\"bgcolor\":\"#E5ECF6\",\"aaxis\":{\"gridcolor\":\"white\",\"linecolor\":\"white\",\"ticks\":\"\"},\"baxis\":{\"gridcolor\":\"white\",\"linecolor\":\"white\",\"ticks\":\"\"},\"caxis\":{\"gridcolor\":\"white\",\"linecolor\":\"white\",\"ticks\":\"\"}},\"coloraxis\":{\"colorbar\":{\"outlinewidth\":0,\"ticks\":\"\"}},\"colorscale\":{\"sequential\":[[0.0,\"#0d0887\"],[0.1111111111111111,\"#46039f\"],[0.2222222222222222,\"#7201a8\"],[0.3333333333333333,\"#9c179e\"],[0.4444444444444444,\"#bd3786\"],[0.5555555555555556,\"#d8576b\"],[0.6666666666666666,\"#ed7953\"],[0.7777777777777778,\"#fb9f3a\"],[0.8888888888888888,\"#fdca26\"],[1.0,\"#f0f921\"]],\"sequentialminus\":[[0.0,\"#0d0887\"],[0.1111111111111111,\"#46039f\"],[0.2222222222222222,\"#7201a8\"],[0.3333333333333333,\"#9c179e\"],[0.4444444444444444,\"#bd3786\"],[0.5555555555555556,\"#d8576b\"],[0.6666666666666666,\"#ed7953\"],[0.7777777777777778,\"#fb9f3a\"],[0.8888888888888888,\"#fdca26\"],[1.0,\"#f0f921\"]],\"diverging\":[[0,\"#8e0152\"],[0.1,\"#c51b7d\"],[0.2,\"#de77ae\"],[0.3,\"#f1b6da\"],[0.4,\"#fde0ef\"],[0.5,\"#f7f7f7\"],[0.6,\"#e6f5d0\"],[0.7,\"#b8e186\"],[0.8,\"#7fbc41\"],[0.9,\"#4d9221\"],[1,\"#276419\"]]},\"xaxis\":{\"gridcolor\":\"white\",\"linecolor\":\"white\",\"ticks\":\"\",\"title\":{\"standoff\":15},\"zerolinecolor\":\"white\",\"automargin\":true,\"zerolinewidth\":2},\"yaxis\":{\"gridcolor\":\"white\",\"linecolor\":\"white\",\"ticks\":\"\",\"title\":{\"standoff\":15},\"zerolinecolor\":\"white\",\"automargin\":true,\"zerolinewidth\":2},\"scene\":{\"xaxis\":{\"backgroundcolor\":\"#E5ECF6\",\"gridcolor\":\"white\",\"linecolor\":\"white\",\"showbackground\":true,\"ticks\":\"\",\"zerolinecolor\":\"white\",\"gridwidth\":2},\"yaxis\":{\"backgroundcolor\":\"#E5ECF6\",\"gridcolor\":\"white\",\"linecolor\":\"white\",\"showbackground\":true,\"ticks\":\"\",\"zerolinecolor\":\"white\",\"gridwidth\":2},\"zaxis\":{\"backgroundcolor\":\"#E5ECF6\",\"gridcolor\":\"white\",\"linecolor\":\"white\",\"showbackground\":true,\"ticks\":\"\",\"zerolinecolor\":\"white\",\"gridwidth\":2}},\"shapedefaults\":{\"line\":{\"color\":\"#2a3f5f\"}},\"annotationdefaults\":{\"arrowcolor\":\"#2a3f5f\",\"arrowhead\":0,\"arrowwidth\":1},\"geo\":{\"bgcolor\":\"white\",\"landcolor\":\"#E5ECF6\",\"subunitcolor\":\"white\",\"showland\":true,\"showlakes\":true,\"lakecolor\":\"white\"},\"title\":{\"x\":0.05},\"mapbox\":{\"style\":\"light\"}}},\"margin\":{\"l\":50,\"r\":150,\"b\":30,\"t\":50},\"font\":{\"size\":15},\"yaxis\":{\"title\":{\"text\":\"obj (\\u20ac)\"}},\"xaxis\":{\"title\":{\"text\":\"r up (#Pn\\u002fh)\"}},\"width\":750,\"height\":350},                        {\"responsive\": true}                    ).then(function(){\n",
       "                            \n",
       "var gd = document.getElementById('dced8585-7728-43c3-8676-7d5ad4374743');\n",
       "var x = new MutationObserver(function (mutations, observer) {{\n",
       "        var display = window.getComputedStyle(gd).display;\n",
       "        if (!display || display === 'none') {{\n",
       "            console.log([gd, 'removed!']);\n",
       "            Plotly.purge(gd);\n",
       "            observer.disconnect();\n",
       "        }}\n",
       "}});\n",
       "\n",
       "// Listen for the removal of the full notebook cells\n",
       "var notebookContainer = gd.closest('#notebook-container');\n",
       "if (notebookContainer) {{\n",
       "    x.observe(notebookContainer, {childList: true});\n",
       "}}\n",
       "\n",
       "// Listen for the clearing of the current output cell\n",
       "var outputEl = gd.closest('.output');\n",
       "if (outputEl) {{\n",
       "    x.observe(outputEl, {childList: true});\n",
       "}}\n",
       "\n",
       "                        })                };                });            </script>        </div>"
      ]
     },
     "metadata": {},
     "output_type": "display_data"
    },
    {
     "name": "stdout",
     "output_type": "stream",
     "text": [
      "\n"
     ]
    },
    {
     "data": {
      "application/vnd.plotly.v1+json": {
       "config": {
        "plotlyServerURL": "https://plot.ly"
       },
       "data": [
        {
         "line": {
          "width": 2
         },
         "mode": "lines",
         "name": "hist",
         "type": "scatter",
         "x": [
          0.001,
          0.003,
          0.004,
          0.005,
          0.006,
          0.007,
          0.008,
          0.009,
          0.01,
          0.011,
          0.012,
          0.013,
          0.014,
          0.015,
          0.016,
          0.017,
          0.018,
          0.019,
          0.02,
          0.021,
          0.022,
          0.023,
          0.024,
          0.025,
          0.026,
          0.027,
          0.028,
          0.029,
          0.03,
          0.031,
          0.032,
          0.033,
          0.034,
          0.035,
          0.036,
          0.037,
          0.038,
          0.039,
          0.04,
          0.041,
          0.042,
          0.043,
          0.044,
          0.045,
          0.046,
          0.047,
          0.048,
          0.049,
          0.05,
          0.051,
          0.052,
          0.053,
          0.054,
          0.055,
          0.056,
          0.057
         ],
         "y": [
          0,
          0,
          0,
          0,
          0,
          0,
          0,
          0,
          0,
          0,
          0,
          0,
          0,
          0,
          0,
          0,
          0,
          0,
          0,
          0,
          0,
          0,
          0,
          0,
          0,
          0,
          0,
          0,
          0,
          0,
          0,
          0,
          0,
          0,
          0,
          0,
          0,
          0,
          0,
          0,
          0,
          0,
          0,
          0,
          0,
          0,
          0,
          0,
          0,
          0,
          0,
          0,
          0,
          0,
          0,
          0
         ]
        },
        {
         "line": {
          "width": 2
         },
         "mode": "lines",
         "name": "new",
         "type": "scatter",
         "x": [
          0.001,
          0.003,
          0.004,
          0.005,
          0.006,
          0.007,
          0.008,
          0.009,
          0.01,
          0.011,
          0.012,
          0.013,
          0.014,
          0.015,
          0.016,
          0.017,
          0.018,
          0.019,
          0.02,
          0.021,
          0.022,
          0.023,
          0.024,
          0.025,
          0.026,
          0.027,
          0.028,
          0.029,
          0.03,
          0.031,
          0.032,
          0.033,
          0.034,
          0.035,
          0.036,
          0.037,
          0.038,
          0.039,
          0.04,
          0.041,
          0.042,
          0.043,
          0.044,
          0.045,
          0.046,
          0.047,
          0.048,
          0.049,
          0.05,
          0.051,
          0.052,
          0.053,
          0.054,
          0.055,
          0.056,
          0.057
         ],
         "y": [
          37805.26645437717,
          47502.756919486,
          48947.24268775069,
          49332.639150251634,
          49740.93893495952,
          49784.70570002157,
          50027.2259598122,
          50066.46745329382,
          49779.70861602647,
          49650.78167646269,
          49357.18362700973,
          49464.75642877001,
          49336.67328772456,
          49942.71425404505,
          49454.64330860932,
          50380.51909096598,
          50632.53567083922,
          49822.98077931037,
          49256.4957914739,
          50535.54625331947,
          49764.73909756398,
          50205.28803873435,
          50984.93147923969,
          50987.25389613825,
          51150,
          50681.311643158464,
          50719.14700004594,
          50807.51232387232,
          51085.35514840732,
          51274.19354838709,
          51150,
          51204.953394868775,
          51586.83703428804,
          51639.25831563705,
          51544.40106746183,
          51738.4474430924,
          51684.49285590279,
          51713.93879008784,
          51697.207476700496,
          51827.96924707631,
          51644.37484084385,
          51789.33404425318,
          51770.37492118136,
          51643.86881855353,
          52026.36532732687,
          52011.26956647493,
          51776.06965354595,
          52051.43197105745,
          51702.06633607239,
          51798.41038237642,
          51772.09630108898,
          51347.41913582028,
          52101.237209165614,
          51778.53207842501,
          52252.37854483642,
          52189.42375240501
         ]
        },
        {
         "line": {
          "width": 2
         },
         "mode": "lines",
         "name": "ccgt",
         "type": "scatter",
         "x": [
          0.001,
          0.003,
          0.004,
          0.005,
          0.006,
          0.007,
          0.008,
          0.009,
          0.01,
          0.011,
          0.012,
          0.013,
          0.014,
          0.015,
          0.016,
          0.017,
          0.018,
          0.019,
          0.02,
          0.021,
          0.022,
          0.023,
          0.024,
          0.025,
          0.026,
          0.027,
          0.028,
          0.029,
          0.03,
          0.031,
          0.032,
          0.033,
          0.034,
          0.035,
          0.036,
          0.037,
          0.038,
          0.039,
          0.04,
          0.041,
          0.042,
          0.043,
          0.044,
          0.045,
          0.046,
          0.047,
          0.048,
          0.049,
          0.05,
          0.051,
          0.052,
          0.053,
          0.054,
          0.055,
          0.056,
          0.057
         ],
         "y": [
          9443.928222348355,
          8367.901190879413,
          8642.26597287158,
          8742.468078593254,
          8853.697594644258,
          9065.32582550658,
          8736.955962560205,
          8764.76623080087,
          9072.492320334708,
          9122.268954016974,
          9234.10100755314,
          9335.988158649428,
          9401.368269322476,
          9653.674213481692,
          8993.669396973946,
          9894.990335798251,
          9898.75385766316,
          9649.97838480443,
          8889.369666451861,
          9492.660764344902,
          8983.080597607526,
          9855.695846009185,
          8946.652711806659,
          9551.646221564608,
          9816.203539135173,
          9341.53239421846,
          9121.066871010067,
          9207.757557279114,
          9268.150353130592,
          9464.217650600036,
          9777.847352332414,
          9379.506935814552,
          9094.334820041136,
          9491.318638613266,
          10013.864425036913,
          9022.968821975735,
          9345.189706639703,
          9401.610624691906,
          9758.621150955363,
          9373.43022043517,
          9450.537852498495,
          9058.22782570415,
          9551.248998424671,
          9843.773399191385,
          9132.579253030235,
          9127.450674349788,
          9841.617571743864,
          9304.12994617067,
          10210.67326565824,
          9291.628079874828,
          9495.246605797936,
          9702.694611314706,
          9474.412364183769,
          9149.939522488205,
          9305.923907989636,
          8967.108096827214
         ]
        },
        {
         "line": {
          "width": 2
         },
         "mode": "lines",
         "name": "ccgt_bioch4",
         "type": "scatter",
         "x": [
          0.001,
          0.003,
          0.004,
          0.005,
          0.006,
          0.007,
          0.008,
          0.009,
          0.01,
          0.011,
          0.012,
          0.013,
          0.014,
          0.015,
          0.016,
          0.017,
          0.018,
          0.019,
          0.02,
          0.021,
          0.022,
          0.023,
          0.024,
          0.025,
          0.026,
          0.027,
          0.028,
          0.029,
          0.03,
          0.031,
          0.032,
          0.033,
          0.034,
          0.035,
          0.036,
          0.037,
          0.038,
          0.039,
          0.04,
          0.041,
          0.042,
          0.043,
          0.044,
          0.045,
          0.046,
          0.047,
          0.048,
          0.049,
          0.05,
          0.051,
          0.052,
          0.053,
          0.054,
          0.055,
          0.056,
          0.057
         ],
         "y": [
          73472.36266862901,
          63722.96157439507,
          61142.97810002081,
          60139.80228120279,
          58755.155133915694,
          57859.940537553375,
          57933.58399241581,
          57574.3996684618,
          57064.58145279812,
          56598.90744214822,
          56794.977280771534,
          56275.6581220372,
          55767.426730894615,
          55046.33588582179,
          55817.78707595681,
          54224.08774817036,
          54005.10263954922,
          54396.62673272038,
          55167.21681875945,
          53807.457807766856,
          54067.557607544186,
          53145.70860670319,
          53831.7094613642,
          53730.98173823168,
          53492.37272214743,
          54073.465313173976,
          54076.11704924494,
          54376.69661655062,
          53871.87551781529,
          53448.1544170284,
          53384.34992488666,
          53875.732413965125,
          53570.04427378559,
          53530.22928502368,
          52555.75075574205,
          53307.75559629117,
          53427.89422322784,
          53476.8977751833,
          52922.756235140776,
          53028.35435215158,
          53054.84065122743,
          53505.959706919166,
          53121.3937844742,
          52614.11481257665,
          53052.166705511525,
          52797.52468923024,
          52972.298472953335,
          52947.02772823319,
          52315.04967863045,
          52991.49500972714,
          53046.54923487553,
          53114.87739378624,
          52901.36148266963,
          53271.246596665485,
          52604.5938092643,
          53152.45809923807
         ]
        },
        {
         "line": {
          "width": 2
         },
         "mode": "lines",
         "name": "won",
         "type": "scatter",
         "visible": true,
         "x": [
          0.001,
          0.003,
          0.004,
          0.005,
          0.006,
          0.007,
          0.008,
          0.009,
          0.01,
          0.011,
          0.012,
          0.013,
          0.014,
          0.015,
          0.016,
          0.017,
          0.018,
          0.019,
          0.02,
          0.021,
          0.022,
          0.023,
          0.024,
          0.025,
          0.026,
          0.027,
          0.028,
          0.029,
          0.03,
          0.031,
          0.032,
          0.033,
          0.034,
          0.035,
          0.036,
          0.037,
          0.038,
          0.039,
          0.04,
          0.041,
          0.042,
          0.043,
          0.044,
          0.045,
          0.046,
          0.047,
          0.048,
          0.049,
          0.05,
          0.051,
          0.052,
          0.053,
          0.054,
          0.055,
          0.056,
          0.057
         ],
         "y": [
          2608.0980300774545,
          4949.901310454613,
          5828.58253377387,
          8094.619007766021,
          9291.513597620376,
          10137.044977535052,
          10660.080364490328,
          11683.719390404627,
          12153,
          12998.657363966646,
          14627.023918380706,
          15819.459114031204,
          17260.26729376811,
          18443.19170287837,
          19527.3760401053,
          20153,
          20153,
          20772.64586781954,
          21512.53887942442,
          21437.854158336544,
          22113.082429520167,
          22478.50412981149,
          22314.85347591249,
          22474.150182778398,
          21528.53676553237,
          22066.464739215717,
          22378.039387668803,
          21841.511423478038,
          22193.54767960953,
          23071.6253282869,
          21962.850301210943,
          21926.700150372,
          22698.763947001564,
          22315.391666628,
          22439.878309862357,
          22774.87970742728,
          21165.94119607404,
          21915.00584418476,
          22705.741648828043,
          21695.636889719997,
          21622.814335753348,
          22324.93530716814,
          22185.01464017256,
          22656.56670214459,
          21226.162658367582,
          21346.160812344337,
          22246.5169735925,
          22356.44723683481,
          21557.93781147367,
          20907.80369439364,
          21773.378998517528,
          20263.535328777594,
          20969.267596165184,
          21525.30733718346,
          20429.62020931232,
          20196.857061214585
         ]
        },
        {
         "line": {
          "width": 2
         },
         "mode": "lines",
         "name": "wof",
         "type": "scatter",
         "x": [
          0.001,
          0.003,
          0.004,
          0.005,
          0.006,
          0.007,
          0.008,
          0.009,
          0.01,
          0.011,
          0.012,
          0.013,
          0.014,
          0.015,
          0.016,
          0.017,
          0.018,
          0.019,
          0.02,
          0.021,
          0.022,
          0.023,
          0.024,
          0.025,
          0.026,
          0.027,
          0.028,
          0.029,
          0.03,
          0.031,
          0.032,
          0.033,
          0.034,
          0.035,
          0.036,
          0.037,
          0.038,
          0.039,
          0.04,
          0.041,
          0.042,
          0.043,
          0.044,
          0.045,
          0.046,
          0.047,
          0.048,
          0.049,
          0.05,
          0.051,
          0.052,
          0.053,
          0.054,
          0.055,
          0.056,
          0.057
         ],
         "y": [
          29661.37702436465,
          27528.305160877837,
          28978.570415219536,
          30515.472831062703,
          31494.321414093392,
          32282.08696701178,
          33696.56902494987,
          34519.04928459975,
          36481.83244831564,
          37438.06105926522,
          38097.69567569859,
          38658.20959389666,
          38945.95917940908,
          39159.37873203983,
          39920.12248697103,
          40787.088206595385,
          41853.81402749682,
          42269.00589342584,
          43632.868574090746,
          42913.28497930341,
          44517.262659630345,
          45052.31848127381,
          45271.95077698375,
          45299.88546617943,
          46492.483455044334,
          47410.67557641325,
          46281.80072022976,
          48774.16609008751,
          48307.39889446437,
          47407.18699627236,
          47158.66117466624,
          47192.52094852029,
          46509.54187038235,
          47877.84524795631,
          48418.46660555603,
          48139.52318943576,
          49916.44176778381,
          49108.60049877912,
          47025.65225133106,
          46406.6204753013,
          46606.17948415067,
          46716.21790190811,
          48235.26549684737,
          47593.76126922155,
          49429.083255180514,
          49998.87249071035,
          49260.67003531769,
          48884.902955003294,
          49152.82621486982,
          49883.15544908709,
          47718.29631019303,
          48570.30792409951,
          47662.03574848592,
          49576.9627630155,
          48152.26686010754,
          49964.79205465171
         ]
        },
        {
         "line": {
          "width": 2
         },
         "mode": "lines",
         "name": "pv",
         "type": "scatter",
         "visible": true,
         "x": [
          0.001,
          0.003,
          0.004,
          0.005,
          0.006,
          0.007,
          0.008,
          0.009,
          0.01,
          0.011,
          0.012,
          0.013,
          0.014,
          0.015,
          0.016,
          0.017,
          0.018,
          0.019,
          0.02,
          0.021,
          0.022,
          0.023,
          0.024,
          0.025,
          0.026,
          0.027,
          0.028,
          0.029,
          0.03,
          0.031,
          0.032,
          0.033,
          0.034,
          0.035,
          0.036,
          0.037,
          0.038,
          0.039,
          0.04,
          0.041,
          0.042,
          0.043,
          0.044,
          0.045,
          0.046,
          0.047,
          0.048,
          0.049,
          0.05,
          0.051,
          0.052,
          0.053,
          0.054,
          0.055,
          0.056,
          0.057
         ],
         "y": [
          29289.388712825017,
          27962.56357597528,
          29371.544587374297,
          29497.215437604125,
          29552.324154297672,
          30474.61581744901,
          31946.019512651183,
          32055.06657729103,
          33536.949349373,
          34428.69907738711,
          34786.16074219928,
          36160.53478691943,
          35502.65159096451,
          35379.79164640206,
          34989.426217209264,
          34546.28407416824,
          35642.20169571418,
          36609.29078173068,
          35707.24238009216,
          37292.48894606382,
          37639.52641753221,
          35788.5302967759,
          35857.0341733139,
          35625.389951198464,
          35256.30451883518,
          36076.46610617051,
          33498.64491314995,
          34348.54405051717,
          34398.775399801605,
          32751.039023524303,
          33395.39757677602,
          32994.946372967104,
          33377.71074507211,
          33263.96674983662,
          33876.54134514043,
          33822.974903785966,
          33712.18513914037,
          33214.83894876267,
          32298.67786569716,
          32661.3356326566,
          32736.24579581457,
          32589.859366818542,
          33313.367601132435,
          33209.4131489727,
          34070.61345570293,
          33635.47325980546,
          33459.899898849435,
          33457.075973633306,
          34017.56288812047,
          33383.5109696538,
          33217.83741484582,
          32812.457146835324,
          33358.84449874628,
          33589.97454365617,
          33555.36286057906,
          32676.26892321901
         ]
        }
       ],
       "layout": {
        "font": {
         "size": 15
        },
        "height": 350,
        "margin": {
         "b": 30,
         "l": 50,
         "r": 150,
         "t": 50
        },
        "template": {
         "data": {
          "bar": [
           {
            "error_x": {
             "color": "#2a3f5f"
            },
            "error_y": {
             "color": "#2a3f5f"
            },
            "marker": {
             "line": {
              "color": "#E5ECF6",
              "width": 0.5
             },
             "pattern": {
              "fillmode": "overlay",
              "size": 10,
              "solidity": 0.2
             }
            },
            "type": "bar"
           }
          ],
          "barpolar": [
           {
            "marker": {
             "line": {
              "color": "#E5ECF6",
              "width": 0.5
             },
             "pattern": {
              "fillmode": "overlay",
              "size": 10,
              "solidity": 0.2
             }
            },
            "type": "barpolar"
           }
          ],
          "carpet": [
           {
            "aaxis": {
             "endlinecolor": "#2a3f5f",
             "gridcolor": "white",
             "linecolor": "white",
             "minorgridcolor": "white",
             "startlinecolor": "#2a3f5f"
            },
            "baxis": {
             "endlinecolor": "#2a3f5f",
             "gridcolor": "white",
             "linecolor": "white",
             "minorgridcolor": "white",
             "startlinecolor": "#2a3f5f"
            },
            "type": "carpet"
           }
          ],
          "choropleth": [
           {
            "colorbar": {
             "outlinewidth": 0,
             "ticks": ""
            },
            "type": "choropleth"
           }
          ],
          "contour": [
           {
            "colorbar": {
             "outlinewidth": 0,
             "ticks": ""
            },
            "colorscale": [
             [
              0,
              "#0d0887"
             ],
             [
              0.1111111111111111,
              "#46039f"
             ],
             [
              0.2222222222222222,
              "#7201a8"
             ],
             [
              0.3333333333333333,
              "#9c179e"
             ],
             [
              0.4444444444444444,
              "#bd3786"
             ],
             [
              0.5555555555555556,
              "#d8576b"
             ],
             [
              0.6666666666666666,
              "#ed7953"
             ],
             [
              0.7777777777777778,
              "#fb9f3a"
             ],
             [
              0.8888888888888888,
              "#fdca26"
             ],
             [
              1,
              "#f0f921"
             ]
            ],
            "type": "contour"
           }
          ],
          "contourcarpet": [
           {
            "colorbar": {
             "outlinewidth": 0,
             "ticks": ""
            },
            "type": "contourcarpet"
           }
          ],
          "heatmap": [
           {
            "colorbar": {
             "outlinewidth": 0,
             "ticks": ""
            },
            "colorscale": [
             [
              0,
              "#0d0887"
             ],
             [
              0.1111111111111111,
              "#46039f"
             ],
             [
              0.2222222222222222,
              "#7201a8"
             ],
             [
              0.3333333333333333,
              "#9c179e"
             ],
             [
              0.4444444444444444,
              "#bd3786"
             ],
             [
              0.5555555555555556,
              "#d8576b"
             ],
             [
              0.6666666666666666,
              "#ed7953"
             ],
             [
              0.7777777777777778,
              "#fb9f3a"
             ],
             [
              0.8888888888888888,
              "#fdca26"
             ],
             [
              1,
              "#f0f921"
             ]
            ],
            "type": "heatmap"
           }
          ],
          "heatmapgl": [
           {
            "colorbar": {
             "outlinewidth": 0,
             "ticks": ""
            },
            "colorscale": [
             [
              0,
              "#0d0887"
             ],
             [
              0.1111111111111111,
              "#46039f"
             ],
             [
              0.2222222222222222,
              "#7201a8"
             ],
             [
              0.3333333333333333,
              "#9c179e"
             ],
             [
              0.4444444444444444,
              "#bd3786"
             ],
             [
              0.5555555555555556,
              "#d8576b"
             ],
             [
              0.6666666666666666,
              "#ed7953"
             ],
             [
              0.7777777777777778,
              "#fb9f3a"
             ],
             [
              0.8888888888888888,
              "#fdca26"
             ],
             [
              1,
              "#f0f921"
             ]
            ],
            "type": "heatmapgl"
           }
          ],
          "histogram": [
           {
            "marker": {
             "pattern": {
              "fillmode": "overlay",
              "size": 10,
              "solidity": 0.2
             }
            },
            "type": "histogram"
           }
          ],
          "histogram2d": [
           {
            "colorbar": {
             "outlinewidth": 0,
             "ticks": ""
            },
            "colorscale": [
             [
              0,
              "#0d0887"
             ],
             [
              0.1111111111111111,
              "#46039f"
             ],
             [
              0.2222222222222222,
              "#7201a8"
             ],
             [
              0.3333333333333333,
              "#9c179e"
             ],
             [
              0.4444444444444444,
              "#bd3786"
             ],
             [
              0.5555555555555556,
              "#d8576b"
             ],
             [
              0.6666666666666666,
              "#ed7953"
             ],
             [
              0.7777777777777778,
              "#fb9f3a"
             ],
             [
              0.8888888888888888,
              "#fdca26"
             ],
             [
              1,
              "#f0f921"
             ]
            ],
            "type": "histogram2d"
           }
          ],
          "histogram2dcontour": [
           {
            "colorbar": {
             "outlinewidth": 0,
             "ticks": ""
            },
            "colorscale": [
             [
              0,
              "#0d0887"
             ],
             [
              0.1111111111111111,
              "#46039f"
             ],
             [
              0.2222222222222222,
              "#7201a8"
             ],
             [
              0.3333333333333333,
              "#9c179e"
             ],
             [
              0.4444444444444444,
              "#bd3786"
             ],
             [
              0.5555555555555556,
              "#d8576b"
             ],
             [
              0.6666666666666666,
              "#ed7953"
             ],
             [
              0.7777777777777778,
              "#fb9f3a"
             ],
             [
              0.8888888888888888,
              "#fdca26"
             ],
             [
              1,
              "#f0f921"
             ]
            ],
            "type": "histogram2dcontour"
           }
          ],
          "mesh3d": [
           {
            "colorbar": {
             "outlinewidth": 0,
             "ticks": ""
            },
            "type": "mesh3d"
           }
          ],
          "parcoords": [
           {
            "line": {
             "colorbar": {
              "outlinewidth": 0,
              "ticks": ""
             }
            },
            "type": "parcoords"
           }
          ],
          "pie": [
           {
            "automargin": true,
            "type": "pie"
           }
          ],
          "scatter": [
           {
            "fillpattern": {
             "fillmode": "overlay",
             "size": 10,
             "solidity": 0.2
            },
            "type": "scatter"
           }
          ],
          "scatter3d": [
           {
            "line": {
             "colorbar": {
              "outlinewidth": 0,
              "ticks": ""
             }
            },
            "marker": {
             "colorbar": {
              "outlinewidth": 0,
              "ticks": ""
             }
            },
            "type": "scatter3d"
           }
          ],
          "scattercarpet": [
           {
            "marker": {
             "colorbar": {
              "outlinewidth": 0,
              "ticks": ""
             }
            },
            "type": "scattercarpet"
           }
          ],
          "scattergeo": [
           {
            "marker": {
             "colorbar": {
              "outlinewidth": 0,
              "ticks": ""
             }
            },
            "type": "scattergeo"
           }
          ],
          "scattergl": [
           {
            "marker": {
             "colorbar": {
              "outlinewidth": 0,
              "ticks": ""
             }
            },
            "type": "scattergl"
           }
          ],
          "scattermapbox": [
           {
            "marker": {
             "colorbar": {
              "outlinewidth": 0,
              "ticks": ""
             }
            },
            "type": "scattermapbox"
           }
          ],
          "scatterpolar": [
           {
            "marker": {
             "colorbar": {
              "outlinewidth": 0,
              "ticks": ""
             }
            },
            "type": "scatterpolar"
           }
          ],
          "scatterpolargl": [
           {
            "marker": {
             "colorbar": {
              "outlinewidth": 0,
              "ticks": ""
             }
            },
            "type": "scatterpolargl"
           }
          ],
          "scatterternary": [
           {
            "marker": {
             "colorbar": {
              "outlinewidth": 0,
              "ticks": ""
             }
            },
            "type": "scatterternary"
           }
          ],
          "surface": [
           {
            "colorbar": {
             "outlinewidth": 0,
             "ticks": ""
            },
            "colorscale": [
             [
              0,
              "#0d0887"
             ],
             [
              0.1111111111111111,
              "#46039f"
             ],
             [
              0.2222222222222222,
              "#7201a8"
             ],
             [
              0.3333333333333333,
              "#9c179e"
             ],
             [
              0.4444444444444444,
              "#bd3786"
             ],
             [
              0.5555555555555556,
              "#d8576b"
             ],
             [
              0.6666666666666666,
              "#ed7953"
             ],
             [
              0.7777777777777778,
              "#fb9f3a"
             ],
             [
              0.8888888888888888,
              "#fdca26"
             ],
             [
              1,
              "#f0f921"
             ]
            ],
            "type": "surface"
           }
          ],
          "table": [
           {
            "cells": {
             "fill": {
              "color": "#EBF0F8"
             },
             "line": {
              "color": "white"
             }
            },
            "header": {
             "fill": {
              "color": "#C8D4E3"
             },
             "line": {
              "color": "white"
             }
            },
            "type": "table"
           }
          ]
         },
         "layout": {
          "annotationdefaults": {
           "arrowcolor": "#2a3f5f",
           "arrowhead": 0,
           "arrowwidth": 1
          },
          "autotypenumbers": "strict",
          "coloraxis": {
           "colorbar": {
            "outlinewidth": 0,
            "ticks": ""
           }
          },
          "colorscale": {
           "diverging": [
            [
             0,
             "#8e0152"
            ],
            [
             0.1,
             "#c51b7d"
            ],
            [
             0.2,
             "#de77ae"
            ],
            [
             0.3,
             "#f1b6da"
            ],
            [
             0.4,
             "#fde0ef"
            ],
            [
             0.5,
             "#f7f7f7"
            ],
            [
             0.6,
             "#e6f5d0"
            ],
            [
             0.7,
             "#b8e186"
            ],
            [
             0.8,
             "#7fbc41"
            ],
            [
             0.9,
             "#4d9221"
            ],
            [
             1,
             "#276419"
            ]
           ],
           "sequential": [
            [
             0,
             "#0d0887"
            ],
            [
             0.1111111111111111,
             "#46039f"
            ],
            [
             0.2222222222222222,
             "#7201a8"
            ],
            [
             0.3333333333333333,
             "#9c179e"
            ],
            [
             0.4444444444444444,
             "#bd3786"
            ],
            [
             0.5555555555555556,
             "#d8576b"
            ],
            [
             0.6666666666666666,
             "#ed7953"
            ],
            [
             0.7777777777777778,
             "#fb9f3a"
            ],
            [
             0.8888888888888888,
             "#fdca26"
            ],
            [
             1,
             "#f0f921"
            ]
           ],
           "sequentialminus": [
            [
             0,
             "#0d0887"
            ],
            [
             0.1111111111111111,
             "#46039f"
            ],
            [
             0.2222222222222222,
             "#7201a8"
            ],
            [
             0.3333333333333333,
             "#9c179e"
            ],
            [
             0.4444444444444444,
             "#bd3786"
            ],
            [
             0.5555555555555556,
             "#d8576b"
            ],
            [
             0.6666666666666666,
             "#ed7953"
            ],
            [
             0.7777777777777778,
             "#fb9f3a"
            ],
            [
             0.8888888888888888,
             "#fdca26"
            ],
            [
             1,
             "#f0f921"
            ]
           ]
          },
          "colorway": [
           "#636efa",
           "#EF553B",
           "#00cc96",
           "#ab63fa",
           "#FFA15A",
           "#19d3f3",
           "#FF6692",
           "#B6E880",
           "#FF97FF",
           "#FECB52"
          ],
          "font": {
           "color": "#2a3f5f"
          },
          "geo": {
           "bgcolor": "white",
           "lakecolor": "white",
           "landcolor": "#E5ECF6",
           "showlakes": true,
           "showland": true,
           "subunitcolor": "white"
          },
          "hoverlabel": {
           "align": "left"
          },
          "hovermode": "closest",
          "mapbox": {
           "style": "light"
          },
          "paper_bgcolor": "white",
          "plot_bgcolor": "#E5ECF6",
          "polar": {
           "angularaxis": {
            "gridcolor": "white",
            "linecolor": "white",
            "ticks": ""
           },
           "bgcolor": "#E5ECF6",
           "radialaxis": {
            "gridcolor": "white",
            "linecolor": "white",
            "ticks": ""
           }
          },
          "scene": {
           "xaxis": {
            "backgroundcolor": "#E5ECF6",
            "gridcolor": "white",
            "gridwidth": 2,
            "linecolor": "white",
            "showbackground": true,
            "ticks": "",
            "zerolinecolor": "white"
           },
           "yaxis": {
            "backgroundcolor": "#E5ECF6",
            "gridcolor": "white",
            "gridwidth": 2,
            "linecolor": "white",
            "showbackground": true,
            "ticks": "",
            "zerolinecolor": "white"
           },
           "zaxis": {
            "backgroundcolor": "#E5ECF6",
            "gridcolor": "white",
            "gridwidth": 2,
            "linecolor": "white",
            "showbackground": true,
            "ticks": "",
            "zerolinecolor": "white"
           }
          },
          "shapedefaults": {
           "line": {
            "color": "#2a3f5f"
           }
          },
          "ternary": {
           "aaxis": {
            "gridcolor": "white",
            "linecolor": "white",
            "ticks": ""
           },
           "baxis": {
            "gridcolor": "white",
            "linecolor": "white",
            "ticks": ""
           },
           "bgcolor": "#E5ECF6",
           "caxis": {
            "gridcolor": "white",
            "linecolor": "white",
            "ticks": ""
           }
          },
          "title": {
           "x": 0.05
          },
          "xaxis": {
           "automargin": true,
           "gridcolor": "white",
           "linecolor": "white",
           "ticks": "",
           "title": {
            "standoff": 15
           },
           "zerolinecolor": "white",
           "zerolinewidth": 2
          },
          "yaxis": {
           "automargin": true,
           "gridcolor": "white",
           "linecolor": "white",
           "ticks": "",
           "title": {
            "standoff": 15
           },
           "zerolinecolor": "white",
           "zerolinewidth": 2
          }
         }
        },
        "width": 750,
        "xaxis": {
         "autorange": true,
         "range": [
          0.001,
          0.057
         ],
         "title": {
          "text": "r up (#Pn/h)"
         },
         "type": "linear"
        },
        "yaxis": {
         "autorange": true,
         "range": [
          -4081.7979260349457,
          77554.16059466396
         ],
         "title": {
          "text": "P @y=2060 (MW)"
         },
         "type": "linear"
        }
       }
      },
      "image/png": "[encoded data removed]",
      "text/html": [
       "<div>                            <div id=\"f9665460-83fc-4ebb-8491-9bf24da30357\" class=\"plotly-graph-div\" style=\"height:350px; width:750px;\"></div>            <script type=\"text/javascript\">                require([\"plotly\"], function(Plotly) {                    window.PLOTLYENV=window.PLOTLYENV || {};                                    if (document.getElementById(\"f9665460-83fc-4ebb-8491-9bf24da30357\")) {                    Plotly.newPlot(                        \"f9665460-83fc-4ebb-8491-9bf24da30357\",                        [{\"line\":{\"width\":2.0},\"mode\":\"lines\",\"name\":\"hist\",\"x\":[0.001,0.003,0.004,0.005,0.006,0.007,0.008,0.009,0.01,0.011,0.012,0.013,0.014,0.015,0.016,0.017,0.018,0.019,0.02,0.021,0.022,0.023,0.024,0.025,0.026,0.027,0.028,0.029,0.03,0.031,0.032,0.033,0.034,0.035,0.036,0.037,0.038,0.039,0.04,0.041,0.042,0.043,0.044,0.045,0.046,0.047,0.048,0.049,0.05,0.051,0.052,0.053,0.054,0.055,0.056,0.057],\"y\":[0,0,0,0,0,0,0,0,0,0,0,0,0,0,0,0,0,0,0,0,0,0,0,0,0,0,0,0,0,0,0,0,0,0,0,0,0,0,0,0,0,0,0,0,0,0,0,0,0,0,0,0,0,0,0,0],\"type\":\"scatter\"},{\"line\":{\"width\":2.0},\"mode\":\"lines\",\"name\":\"new\",\"x\":[0.001,0.003,0.004,0.005,0.006,0.007,0.008,0.009,0.01,0.011,0.012,0.013,0.014,0.015,0.016,0.017,0.018,0.019,0.02,0.021,0.022,0.023,0.024,0.025,0.026,0.027,0.028,0.029,0.03,0.031,0.032,0.033,0.034,0.035,0.036,0.037,0.038,0.039,0.04,0.041,0.042,0.043,0.044,0.045,0.046,0.047,0.048,0.049,0.05,0.051,0.052,0.053,0.054,0.055,0.056,0.057],\"y\":[37805.26645437717,47502.756919486,48947.24268775069,49332.639150251634,49740.93893495952,49784.70570002157,50027.2259598122,50066.46745329382,49779.70861602647,49650.78167646269,49357.18362700973,49464.75642877001,49336.67328772456,49942.71425404505,49454.64330860932,50380.51909096598,50632.53567083922,49822.98077931037,49256.4957914739,50535.54625331947,49764.73909756398,50205.28803873435,50984.93147923969,50987.25389613825,51150.0,50681.311643158464,50719.14700004594,50807.51232387232,51085.35514840732,51274.19354838709,51150.0,51204.953394868775,51586.83703428804,51639.25831563705,51544.40106746183,51738.4474430924,51684.49285590279,51713.93879008784,51697.207476700496,51827.96924707631,51644.37484084385,51789.33404425318,51770.37492118136,51643.86881855353,52026.36532732687,52011.26956647493,51776.06965354595,52051.43197105745,51702.06633607239,51798.41038237642,51772.09630108898,51347.41913582028,52101.237209165614,51778.53207842501,52252.37854483642,52189.42375240501],\"type\":\"scatter\"},{\"line\":{\"width\":2.0},\"mode\":\"lines\",\"name\":\"ccgt\",\"x\":[0.001,0.003,0.004,0.005,0.006,0.007,0.008,0.009,0.01,0.011,0.012,0.013,0.014,0.015,0.016,0.017,0.018,0.019,0.02,0.021,0.022,0.023,0.024,0.025,0.026,0.027,0.028,0.029,0.03,0.031,0.032,0.033,0.034,0.035,0.036,0.037,0.038,0.039,0.04,0.041,0.042,0.043,0.044,0.045,0.046,0.047,0.048,0.049,0.05,0.051,0.052,0.053,0.054,0.055,0.056,0.057],\"y\":[9443.928222348355,8367.901190879413,8642.26597287158,8742.468078593254,8853.697594644258,9065.32582550658,8736.955962560205,8764.76623080087,9072.492320334708,9122.268954016974,9234.10100755314,9335.988158649428,9401.368269322476,9653.674213481692,8993.669396973946,9894.990335798251,9898.75385766316,9649.97838480443,8889.369666451861,9492.660764344902,8983.080597607526,9855.695846009185,8946.652711806659,9551.646221564608,9816.203539135173,9341.53239421846,9121.066871010067,9207.757557279114,9268.150353130592,9464.217650600036,9777.847352332414,9379.506935814552,9094.334820041136,9491.318638613266,10013.864425036913,9022.968821975735,9345.189706639703,9401.610624691906,9758.621150955363,9373.43022043517,9450.537852498495,9058.22782570415,9551.248998424671,9843.773399191385,9132.579253030235,9127.450674349788,9841.617571743864,9304.12994617067,10210.67326565824,9291.628079874828,9495.246605797936,9702.694611314706,9474.412364183769,9149.939522488205,9305.923907989636,8967.108096827214],\"type\":\"scatter\"},{\"line\":{\"width\":2.0},\"mode\":\"lines\",\"name\":\"ccgt_bioch4\",\"x\":[0.001,0.003,0.004,0.005,0.006,0.007,0.008,0.009,0.01,0.011,0.012,0.013,0.014,0.015,0.016,0.017,0.018,0.019,0.02,0.021,0.022,0.023,0.024,0.025,0.026,0.027,0.028,0.029,0.03,0.031,0.032,0.033,0.034,0.035,0.036,0.037,0.038,0.039,0.04,0.041,0.042,0.043,0.044,0.045,0.046,0.047,0.048,0.049,0.05,0.051,0.052,0.053,0.054,0.055,0.056,0.057],\"y\":[73472.36266862901,63722.96157439507,61142.97810002081,60139.80228120279,58755.155133915694,57859.940537553375,57933.58399241581,57574.3996684618,57064.58145279812,56598.90744214822,56794.977280771534,56275.6581220372,55767.426730894615,55046.33588582179,55817.78707595681,54224.08774817036,54005.10263954922,54396.62673272038,55167.21681875945,53807.457807766856,54067.557607544186,53145.70860670319,53831.7094613642,53730.98173823168,53492.37272214743,54073.465313173976,54076.11704924494,54376.69661655062,53871.87551781529,53448.1544170284,53384.34992488666,53875.732413965125,53570.04427378559,53530.22928502368,52555.75075574205,53307.75559629117,53427.89422322784,53476.8977751833,52922.756235140776,53028.35435215158,53054.84065122743,53505.959706919166,53121.3937844742,52614.11481257665,53052.166705511525,52797.52468923024,52972.298472953335,52947.02772823319,52315.04967863045,52991.49500972714,53046.54923487553,53114.87739378624,52901.36148266963,53271.246596665485,52604.5938092643,53152.45809923807],\"type\":\"scatter\"},{\"line\":{\"width\":2.0},\"mode\":\"lines\",\"name\":\"won\",\"x\":[0.001,0.003,0.004,0.005,0.006,0.007,0.008,0.009,0.01,0.011,0.012,0.013,0.014,0.015,0.016,0.017,0.018,0.019,0.02,0.021,0.022,0.023,0.024,0.025,0.026,0.027,0.028,0.029,0.03,0.031,0.032,0.033,0.034,0.035,0.036,0.037,0.038,0.039,0.04,0.041,0.042,0.043,0.044,0.045,0.046,0.047,0.048,0.049,0.05,0.051,0.052,0.053,0.054,0.055,0.056,0.057],\"y\":[2608.0980300774545,4949.901310454613,5828.58253377387,8094.619007766021,9291.513597620376,10137.044977535052,10660.080364490328,11683.719390404627,12153.0,12998.657363966646,14627.023918380706,15819.459114031204,17260.26729376811,18443.19170287837,19527.3760401053,20153.0,20153.0,20772.64586781954,21512.53887942442,21437.854158336544,22113.082429520167,22478.50412981149,22314.85347591249,22474.150182778398,21528.53676553237,22066.464739215717,22378.039387668803,21841.511423478038,22193.54767960953,23071.6253282869,21962.850301210943,21926.700150372,22698.763947001564,22315.391666628,22439.878309862357,22774.87970742728,21165.94119607404,21915.00584418476,22705.741648828043,21695.636889719997,21622.814335753348,22324.93530716814,22185.01464017256,22656.56670214459,21226.162658367582,21346.160812344337,22246.5169735925,22356.44723683481,21557.93781147367,20907.80369439364,21773.378998517528,20263.535328777594,20969.267596165184,21525.30733718346,20429.62020931232,20196.857061214585],\"type\":\"scatter\"},{\"line\":{\"width\":2.0},\"mode\":\"lines\",\"name\":\"wof\",\"x\":[0.001,0.003,0.004,0.005,0.006,0.007,0.008,0.009,0.01,0.011,0.012,0.013,0.014,0.015,0.016,0.017,0.018,0.019,0.02,0.021,0.022,0.023,0.024,0.025,0.026,0.027,0.028,0.029,0.03,0.031,0.032,0.033,0.034,0.035,0.036,0.037,0.038,0.039,0.04,0.041,0.042,0.043,0.044,0.045,0.046,0.047,0.048,0.049,0.05,0.051,0.052,0.053,0.054,0.055,0.056,0.057],\"y\":[29661.37702436465,27528.305160877837,28978.570415219536,30515.472831062703,31494.321414093392,32282.08696701178,33696.56902494987,34519.04928459975,36481.83244831564,37438.06105926522,38097.69567569859,38658.20959389666,38945.95917940908,39159.37873203983,39920.12248697103,40787.088206595385,41853.81402749682,42269.00589342584,43632.868574090746,42913.28497930341,44517.262659630345,45052.31848127381,45271.95077698375,45299.88546617943,46492.483455044334,47410.67557641325,46281.80072022976,48774.16609008751,48307.39889446437,47407.18699627236,47158.66117466624,47192.52094852029,46509.54187038235,47877.84524795631,48418.46660555603,48139.52318943576,49916.44176778381,49108.60049877912,47025.65225133106,46406.6204753013,46606.17948415067,46716.21790190811,48235.26549684737,47593.76126922155,49429.083255180514,49998.87249071035,49260.67003531769,48884.902955003294,49152.82621486982,49883.15544908709,47718.29631019303,48570.30792409951,47662.03574848592,49576.9627630155,48152.26686010754,49964.79205465171],\"type\":\"scatter\"},{\"line\":{\"width\":2.0},\"mode\":\"lines\",\"name\":\"pv\",\"x\":[0.001,0.003,0.004,0.005,0.006,0.007,0.008,0.009,0.01,0.011,0.012,0.013,0.014,0.015,0.016,0.017,0.018,0.019,0.02,0.021,0.022,0.023,0.024,0.025,0.026,0.027,0.028,0.029,0.03,0.031,0.032,0.033,0.034,0.035,0.036,0.037,0.038,0.039,0.04,0.041,0.042,0.043,0.044,0.045,0.046,0.047,0.048,0.049,0.05,0.051,0.052,0.053,0.054,0.055,0.056,0.057],\"y\":[29289.388712825017,27962.56357597528,29371.544587374297,29497.215437604125,29552.324154297672,30474.61581744901,31946.019512651183,32055.06657729103,33536.949349373,34428.69907738711,34786.16074219928,36160.53478691943,35502.65159096451,35379.79164640206,34989.426217209264,34546.28407416824,35642.20169571418,36609.29078173068,35707.24238009216,37292.48894606382,37639.52641753221,35788.5302967759,35857.0341733139,35625.389951198464,35256.30451883518,36076.46610617051,33498.64491314995,34348.54405051717,34398.775399801605,32751.039023524303,33395.39757677602,32994.946372967104,33377.71074507211,33263.96674983662,33876.54134514043,33822.974903785966,33712.18513914037,33214.83894876267,32298.67786569716,32661.3356326566,32736.24579581457,32589.859366818542,33313.367601132435,33209.4131489727,34070.61345570293,33635.47325980546,33459.899898849435,33457.075973633306,34017.56288812047,33383.5109696538,33217.83741484582,32812.457146835324,33358.84449874628,33589.97454365617,33555.36286057906,32676.26892321901],\"type\":\"scatter\"}],                        {\"template\":{\"data\":{\"histogram2dcontour\":[{\"type\":\"histogram2dcontour\",\"colorbar\":{\"outlinewidth\":0,\"ticks\":\"\"},\"colorscale\":[[0.0,\"#0d0887\"],[0.1111111111111111,\"#46039f\"],[0.2222222222222222,\"#7201a8\"],[0.3333333333333333,\"#9c179e\"],[0.4444444444444444,\"#bd3786\"],[0.5555555555555556,\"#d8576b\"],[0.6666666666666666,\"#ed7953\"],[0.7777777777777778,\"#fb9f3a\"],[0.8888888888888888,\"#fdca26\"],[1.0,\"#f0f921\"]]}],\"choropleth\":[{\"type\":\"choropleth\",\"colorbar\":{\"outlinewidth\":0,\"ticks\":\"\"}}],\"histogram2d\":[{\"type\":\"histogram2d\",\"colorbar\":{\"outlinewidth\":0,\"ticks\":\"\"},\"colorscale\":[[0.0,\"#0d0887\"],[0.1111111111111111,\"#46039f\"],[0.2222222222222222,\"#7201a8\"],[0.3333333333333333,\"#9c179e\"],[0.4444444444444444,\"#bd3786\"],[0.5555555555555556,\"#d8576b\"],[0.6666666666666666,\"#ed7953\"],[0.7777777777777778,\"#fb9f3a\"],[0.8888888888888888,\"#fdca26\"],[1.0,\"#f0f921\"]]}],\"heatmap\":[{\"type\":\"heatmap\",\"colorbar\":{\"outlinewidth\":0,\"ticks\":\"\"},\"colorscale\":[[0.0,\"#0d0887\"],[0.1111111111111111,\"#46039f\"],[0.2222222222222222,\"#7201a8\"],[0.3333333333333333,\"#9c179e\"],[0.4444444444444444,\"#bd3786\"],[0.5555555555555556,\"#d8576b\"],[0.6666666666666666,\"#ed7953\"],[0.7777777777777778,\"#fb9f3a\"],[0.8888888888888888,\"#fdca26\"],[1.0,\"#f0f921\"]]}],\"heatmapgl\":[{\"type\":\"heatmapgl\",\"colorbar\":{\"outlinewidth\":0,\"ticks\":\"\"},\"colorscale\":[[0.0,\"#0d0887\"],[0.1111111111111111,\"#46039f\"],[0.2222222222222222,\"#7201a8\"],[0.3333333333333333,\"#9c179e\"],[0.4444444444444444,\"#bd3786\"],[0.5555555555555556,\"#d8576b\"],[0.6666666666666666,\"#ed7953\"],[0.7777777777777778,\"#fb9f3a\"],[0.8888888888888888,\"#fdca26\"],[1.0,\"#f0f921\"]]}],\"contourcarpet\":[{\"type\":\"contourcarpet\",\"colorbar\":{\"outlinewidth\":0,\"ticks\":\"\"}}],\"contour\":[{\"type\":\"contour\",\"colorbar\":{\"outlinewidth\":0,\"ticks\":\"\"},\"colorscale\":[[0.0,\"#0d0887\"],[0.1111111111111111,\"#46039f\"],[0.2222222222222222,\"#7201a8\"],[0.3333333333333333,\"#9c179e\"],[0.4444444444444444,\"#bd3786\"],[0.5555555555555556,\"#d8576b\"],[0.6666666666666666,\"#ed7953\"],[0.7777777777777778,\"#fb9f3a\"],[0.8888888888888888,\"#fdca26\"],[1.0,\"#f0f921\"]]}],\"surface\":[{\"type\":\"surface\",\"colorbar\":{\"outlinewidth\":0,\"ticks\":\"\"},\"colorscale\":[[0.0,\"#0d0887\"],[0.1111111111111111,\"#46039f\"],[0.2222222222222222,\"#7201a8\"],[0.3333333333333333,\"#9c179e\"],[0.4444444444444444,\"#bd3786\"],[0.5555555555555556,\"#d8576b\"],[0.6666666666666666,\"#ed7953\"],[0.7777777777777778,\"#fb9f3a\"],[0.8888888888888888,\"#fdca26\"],[1.0,\"#f0f921\"]]}],\"mesh3d\":[{\"type\":\"mesh3d\",\"colorbar\":{\"outlinewidth\":0,\"ticks\":\"\"}}],\"scatter\":[{\"fillpattern\":{\"fillmode\":\"overlay\",\"size\":10,\"solidity\":0.2},\"type\":\"scatter\"}],\"parcoords\":[{\"type\":\"parcoords\",\"line\":{\"colorbar\":{\"outlinewidth\":0,\"ticks\":\"\"}}}],\"scatterpolargl\":[{\"type\":\"scatterpolargl\",\"marker\":{\"colorbar\":{\"outlinewidth\":0,\"ticks\":\"\"}}}],\"bar\":[{\"error_x\":{\"color\":\"#2a3f5f\"},\"error_y\":{\"color\":\"#2a3f5f\"},\"marker\":{\"line\":{\"color\":\"#E5ECF6\",\"width\":0.5},\"pattern\":{\"fillmode\":\"overlay\",\"size\":10,\"solidity\":0.2}},\"type\":\"bar\"}],\"scattergeo\":[{\"type\":\"scattergeo\",\"marker\":{\"colorbar\":{\"outlinewidth\":0,\"ticks\":\"\"}}}],\"scatterpolar\":[{\"type\":\"scatterpolar\",\"marker\":{\"colorbar\":{\"outlinewidth\":0,\"ticks\":\"\"}}}],\"histogram\":[{\"marker\":{\"pattern\":{\"fillmode\":\"overlay\",\"size\":10,\"solidity\":0.2}},\"type\":\"histogram\"}],\"scattergl\":[{\"type\":\"scattergl\",\"marker\":{\"colorbar\":{\"outlinewidth\":0,\"ticks\":\"\"}}}],\"scatter3d\":[{\"type\":\"scatter3d\",\"line\":{\"colorbar\":{\"outlinewidth\":0,\"ticks\":\"\"}},\"marker\":{\"colorbar\":{\"outlinewidth\":0,\"ticks\":\"\"}}}],\"scattermapbox\":[{\"type\":\"scattermapbox\",\"marker\":{\"colorbar\":{\"outlinewidth\":0,\"ticks\":\"\"}}}],\"scatterternary\":[{\"type\":\"scatterternary\",\"marker\":{\"colorbar\":{\"outlinewidth\":0,\"ticks\":\"\"}}}],\"scattercarpet\":[{\"type\":\"scattercarpet\",\"marker\":{\"colorbar\":{\"outlinewidth\":0,\"ticks\":\"\"}}}],\"carpet\":[{\"aaxis\":{\"endlinecolor\":\"#2a3f5f\",\"gridcolor\":\"white\",\"linecolor\":\"white\",\"minorgridcolor\":\"white\",\"startlinecolor\":\"#2a3f5f\"},\"baxis\":{\"endlinecolor\":\"#2a3f5f\",\"gridcolor\":\"white\",\"linecolor\":\"white\",\"minorgridcolor\":\"white\",\"startlinecolor\":\"#2a3f5f\"},\"type\":\"carpet\"}],\"table\":[{\"cells\":{\"fill\":{\"color\":\"#EBF0F8\"},\"line\":{\"color\":\"white\"}},\"header\":{\"fill\":{\"color\":\"#C8D4E3\"},\"line\":{\"color\":\"white\"}},\"type\":\"table\"}],\"barpolar\":[{\"marker\":{\"line\":{\"color\":\"#E5ECF6\",\"width\":0.5},\"pattern\":{\"fillmode\":\"overlay\",\"size\":10,\"solidity\":0.2}},\"type\":\"barpolar\"}],\"pie\":[{\"automargin\":true,\"type\":\"pie\"}]},\"layout\":{\"autotypenumbers\":\"strict\",\"colorway\":[\"#636efa\",\"#EF553B\",\"#00cc96\",\"#ab63fa\",\"#FFA15A\",\"#19d3f3\",\"#FF6692\",\"#B6E880\",\"#FF97FF\",\"#FECB52\"],\"font\":{\"color\":\"#2a3f5f\"},\"hovermode\":\"closest\",\"hoverlabel\":{\"align\":\"left\"},\"paper_bgcolor\":\"white\",\"plot_bgcolor\":\"#E5ECF6\",\"polar\":{\"bgcolor\":\"#E5ECF6\",\"angularaxis\":{\"gridcolor\":\"white\",\"linecolor\":\"white\",\"ticks\":\"\"},\"radialaxis\":{\"gridcolor\":\"white\",\"linecolor\":\"white\",\"ticks\":\"\"}},\"ternary\":{\"bgcolor\":\"#E5ECF6\",\"aaxis\":{\"gridcolor\":\"white\",\"linecolor\":\"white\",\"ticks\":\"\"},\"baxis\":{\"gridcolor\":\"white\",\"linecolor\":\"white\",\"ticks\":\"\"},\"caxis\":{\"gridcolor\":\"white\",\"linecolor\":\"white\",\"ticks\":\"\"}},\"coloraxis\":{\"colorbar\":{\"outlinewidth\":0,\"ticks\":\"\"}},\"colorscale\":{\"sequential\":[[0.0,\"#0d0887\"],[0.1111111111111111,\"#46039f\"],[0.2222222222222222,\"#7201a8\"],[0.3333333333333333,\"#9c179e\"],[0.4444444444444444,\"#bd3786\"],[0.5555555555555556,\"#d8576b\"],[0.6666666666666666,\"#ed7953\"],[0.7777777777777778,\"#fb9f3a\"],[0.8888888888888888,\"#fdca26\"],[1.0,\"#f0f921\"]],\"sequentialminus\":[[0.0,\"#0d0887\"],[0.1111111111111111,\"#46039f\"],[0.2222222222222222,\"#7201a8\"],[0.3333333333333333,\"#9c179e\"],[0.4444444444444444,\"#bd3786\"],[0.5555555555555556,\"#d8576b\"],[0.6666666666666666,\"#ed7953\"],[0.7777777777777778,\"#fb9f3a\"],[0.8888888888888888,\"#fdca26\"],[1.0,\"#f0f921\"]],\"diverging\":[[0,\"#8e0152\"],[0.1,\"#c51b7d\"],[0.2,\"#de77ae\"],[0.3,\"#f1b6da\"],[0.4,\"#fde0ef\"],[0.5,\"#f7f7f7\"],[0.6,\"#e6f5d0\"],[0.7,\"#b8e186\"],[0.8,\"#7fbc41\"],[0.9,\"#4d9221\"],[1,\"#276419\"]]},\"xaxis\":{\"gridcolor\":\"white\",\"linecolor\":\"white\",\"ticks\":\"\",\"title\":{\"standoff\":15},\"zerolinecolor\":\"white\",\"automargin\":true,\"zerolinewidth\":2},\"yaxis\":{\"gridcolor\":\"white\",\"linecolor\":\"white\",\"ticks\":\"\",\"title\":{\"standoff\":15},\"zerolinecolor\":\"white\",\"automargin\":true,\"zerolinewidth\":2},\"scene\":{\"xaxis\":{\"backgroundcolor\":\"#E5ECF6\",\"gridcolor\":\"white\",\"linecolor\":\"white\",\"showbackground\":true,\"ticks\":\"\",\"zerolinecolor\":\"white\",\"gridwidth\":2},\"yaxis\":{\"backgroundcolor\":\"#E5ECF6\",\"gridcolor\":\"white\",\"linecolor\":\"white\",\"showbackground\":true,\"ticks\":\"\",\"zerolinecolor\":\"white\",\"gridwidth\":2},\"zaxis\":{\"backgroundcolor\":\"#E5ECF6\",\"gridcolor\":\"white\",\"linecolor\":\"white\",\"showbackground\":true,\"ticks\":\"\",\"zerolinecolor\":\"white\",\"gridwidth\":2}},\"shapedefaults\":{\"line\":{\"color\":\"#2a3f5f\"}},\"annotationdefaults\":{\"arrowcolor\":\"#2a3f5f\",\"arrowhead\":0,\"arrowwidth\":1},\"geo\":{\"bgcolor\":\"white\",\"landcolor\":\"#E5ECF6\",\"subunitcolor\":\"white\",\"showland\":true,\"showlakes\":true,\"lakecolor\":\"white\"},\"title\":{\"x\":0.05},\"mapbox\":{\"style\":\"light\"}}},\"margin\":{\"l\":50,\"r\":150,\"b\":30,\"t\":50},\"font\":{\"size\":15},\"yaxis\":{\"title\":{\"text\":\"P @y=2060 (MW)\"}},\"xaxis\":{\"title\":{\"text\":\"r up (#Pn\\u002fh)\"}},\"width\":750,\"height\":350},                        {\"responsive\": true}                    ).then(function(){\n",
       "                            \n",
       "var gd = document.getElementById('f9665460-83fc-4ebb-8491-9bf24da30357');\n",
       "var x = new MutationObserver(function (mutations, observer) {{\n",
       "        var display = window.getComputedStyle(gd).display;\n",
       "        if (!display || display === 'none') {{\n",
       "            console.log([gd, 'removed!']);\n",
       "            Plotly.purge(gd);\n",
       "            observer.disconnect();\n",
       "        }}\n",
       "}});\n",
       "\n",
       "// Listen for the removal of the full notebook cells\n",
       "var notebookContainer = gd.closest('#notebook-container');\n",
       "if (notebookContainer) {{\n",
       "    x.observe(notebookContainer, {childList: true});\n",
       "}}\n",
       "\n",
       "// Listen for the clearing of the current output cell\n",
       "var outputEl = gd.closest('.output');\n",
       "if (outputEl) {{\n",
       "    x.observe(outputEl, {childList: true});\n",
       "}}\n",
       "\n",
       "                        })                };                });            </script>        </div>"
      ]
     },
     "metadata": {},
     "output_type": "display_data"
    },
    {
     "name": "stdout",
     "output_type": "stream",
     "text": [
      "\n"
     ]
    },
    {
     "data": {
      "application/vnd.plotly.v1+json": {
       "config": {
        "plotlyServerURL": "https://plot.ly"
       },
       "data": [
        {
         "name": "E_hist",
         "type": "bar",
         "x": [
          0.001,
          0.003,
          0.004,
          0.005,
          0.006,
          0.007,
          0.008,
          0.009,
          0.01,
          0.011,
          0.012,
          0.013,
          0.014,
          0.015,
          0.016,
          0.017,
          0.018,
          0.019,
          0.02,
          0.021,
          0.022,
          0.023,
          0.024,
          0.025,
          0.026,
          0.027,
          0.028,
          0.029,
          0.03,
          0.031,
          0.032,
          0.033,
          0.034,
          0.035,
          0.036,
          0.037,
          0.038,
          0.039,
          0.04,
          0.041,
          0.042,
          0.043,
          0.044,
          0.045,
          0.046,
          0.047,
          0.048,
          0.049,
          0.05,
          0.051,
          0.052,
          0.053,
          0.054,
          0.055,
          0.056,
          0.057
         ],
         "y": [
          0,
          0,
          0,
          0,
          0,
          0,
          0,
          0,
          0,
          0,
          0,
          0,
          0,
          0,
          0,
          0,
          0,
          0,
          0,
          0,
          0,
          0,
          0,
          0,
          0,
          0,
          0,
          0,
          0,
          0,
          0,
          0,
          0,
          0,
          0,
          0,
          0,
          0,
          0,
          0,
          0,
          0,
          0,
          0,
          0,
          0,
          0,
          0,
          0,
          0,
          0,
          0,
          0,
          0,
          0,
          0
         ]
        },
        {
         "name": "E_new",
         "type": "bar",
         "x": [
          0.001,
          0.003,
          0.004,
          0.005,
          0.006,
          0.007,
          0.008,
          0.009,
          0.01,
          0.011,
          0.012,
          0.013,
          0.014,
          0.015,
          0.016,
          0.017,
          0.018,
          0.019,
          0.02,
          0.021,
          0.022,
          0.023,
          0.024,
          0.025,
          0.026,
          0.027,
          0.028,
          0.029,
          0.03,
          0.031,
          0.032,
          0.033,
          0.034,
          0.035,
          0.036,
          0.037,
          0.038,
          0.039,
          0.04,
          0.041,
          0.042,
          0.043,
          0.044,
          0.045,
          0.046,
          0.047,
          0.048,
          0.049,
          0.05,
          0.051,
          0.052,
          0.053,
          0.054,
          0.055,
          0.056,
          0.057
         ],
         "y": [
          38.276214936099,
          46.06858955616555,
          46.32593618928688,
          46.12386836805175,
          47.16519269394642,
          46.64931031605162,
          46.1535634522371,
          45.72266316699551,
          45.6155172438076,
          45.08250766315797,
          44.48377506479315,
          43.88003291396878,
          43.49189362118006,
          44.09953203113842,
          42.97534802275449,
          43.54549799682325,
          43.60608084382684,
          42.90659595539989,
          41.619505657870825,
          43.51956698342436,
          42.31908329388055,
          42.57590187555466,
          43.41859586858117,
          43.46994762391817,
          43.781014503183314,
          43.34672363715749,
          43.52100809222883,
          43.57302501202685,
          43.874543677631415,
          44.31725560596672,
          44.37547857435493,
          44.393653558216414,
          44.97853035165923,
          44.99756171524852,
          44.89325786943907,
          45.10937534939959,
          45.067322115188766,
          45.138974657249335,
          45.43346187067497,
          45.67805934309191,
          45.66905925625648,
          45.819108641291976,
          45.69008249793838,
          45.7622854016739,
          45.975640399919975,
          45.90558659967331,
          45.89673833557431,
          46.10336916697167,
          45.85418753549174,
          45.8647870951744,
          46.0776564043217,
          45.789674235417685,
          46.46020003464542,
          46.11089338940848,
          46.66501078676157,
          46.52899709943016
         ]
        },
        {
         "name": "E_ccgt",
         "type": "bar",
         "x": [
          0.001,
          0.003,
          0.004,
          0.005,
          0.006,
          0.007,
          0.008,
          0.009,
          0.01,
          0.011,
          0.012,
          0.013,
          0.014,
          0.015,
          0.016,
          0.017,
          0.018,
          0.019,
          0.02,
          0.021,
          0.022,
          0.023,
          0.024,
          0.025,
          0.026,
          0.027,
          0.028,
          0.029,
          0.03,
          0.031,
          0.032,
          0.033,
          0.034,
          0.035,
          0.036,
          0.037,
          0.038,
          0.039,
          0.04,
          0.041,
          0.042,
          0.043,
          0.044,
          0.045,
          0.046,
          0.047,
          0.048,
          0.049,
          0.05,
          0.051,
          0.052,
          0.053,
          0.054,
          0.055,
          0.056,
          0.057
         ],
         "y": [
          0.0618689718061993,
          0.0530000308910824,
          0.0519221701756821,
          0.0578585026853241,
          0.0586316294545885,
          0.0556563566072808,
          0.0468933639917841,
          0.0443710526504655,
          0.0521594224560875,
          0.0455790588131115,
          0.046442012406214,
          0.0417132164402595,
          0.0410723263528233,
          0.0418681042744828,
          0.0371679611114567,
          0.0452395262811446,
          0.0440908671860204,
          0.0332290621471686,
          0.0328556396365886,
          0.0294301597404056,
          0.0296598751175358,
          0.0327801799798172,
          0.0244957149335739,
          0.0264125304049553,
          0.0269877810248225,
          0.0235635433353046,
          0.0189596110109289,
          0.0192641762769421,
          0.0190114286654217,
          0.0204199631306898,
          0.0190518396584588,
          0.0180762771754656,
          0.0174151672075712,
          0.0224822502202533,
          0.0221718359705975,
          0.0178678006457384,
          0.0198676477160706,
          0.0157032564098705,
          0.0176242108869646,
          0.0251755253168704,
          0.0278693951678499,
          0.0186636830410117,
          0.0244371888726419,
          0.0303597262136041,
          0.0227382529346435,
          0.0175253607920778,
          0.019175725954272,
          0.0151011211157505,
          0.020641259667491,
          0.0227185621355177,
          0.0216256822179134,
          0.0218160548570349,
          0.0269680354280358,
          0.0180979014984974,
          0.0284882229550207,
          0.0195584852935518
         ]
        },
        {
         "name": "E_ccgt_bioch4",
         "type": "bar",
         "x": [
          0.001,
          0.003,
          0.004,
          0.005,
          0.006,
          0.007,
          0.008,
          0.009,
          0.01,
          0.011,
          0.012,
          0.013,
          0.014,
          0.015,
          0.016,
          0.017,
          0.018,
          0.019,
          0.02,
          0.021,
          0.022,
          0.023,
          0.024,
          0.025,
          0.026,
          0.027,
          0.028,
          0.029,
          0.03,
          0.031,
          0.032,
          0.033,
          0.034,
          0.035,
          0.036,
          0.037,
          0.038,
          0.039,
          0.04,
          0.041,
          0.042,
          0.043,
          0.044,
          0.045,
          0.046,
          0.047,
          0.048,
          0.049,
          0.05,
          0.051,
          0.052,
          0.053,
          0.054,
          0.055,
          0.056,
          0.057
         ],
         "y": [
          35.02722830912968,
          27.7032740195532,
          25.62922128351254,
          24.6018303007525,
          23.842532521976267,
          22.838848974899243,
          21.81039088959168,
          21.3762007566109,
          21.326643149092597,
          20.76774760486129,
          20.61736493108725,
          19.87679106921206,
          19.46459301351273,
          18.875888172307054,
          18.544867521918697,
          17.71486542743453,
          17.16472586341225,
          17.512826421430365,
          17.073773698394643,
          16.38906683265641,
          16.662022951650354,
          15.688872034857642,
          15.119636077373972,
          14.859034178356028,
          14.611844094939352,
          15.065879082965598,
          14.249257040536914,
          14.55819803174336,
          14.214895348788705,
          13.88492560623476,
          13.511273885431446,
          13.27328733709182,
          13.019291478142428,
          13.157110022053567,
          13.13317776234388,
          12.92126103206773,
          13.033303593398502,
          12.633574611897686,
          12.436647560735986,
          12.213274992626582,
          12.585458018475263,
          12.040453872690572,
          12.352369310033245,
          12.47730651650554,
          12.099047941873916,
          11.996989449095905,
          12.294482427405224,
          11.978811770084672,
          11.978442242364078,
          11.855778756737354,
          11.780713365138034,
          11.789892317043977,
          11.36633144838597,
          11.935259602137627,
          11.24859633653745,
          11.354446698898672
         ]
        },
        {
         "name": "E_won",
         "type": "bar",
         "x": [
          0.001,
          0.003,
          0.004,
          0.005,
          0.006,
          0.007,
          0.008,
          0.009,
          0.01,
          0.011,
          0.012,
          0.013,
          0.014,
          0.015,
          0.016,
          0.017,
          0.018,
          0.019,
          0.02,
          0.021,
          0.022,
          0.023,
          0.024,
          0.025,
          0.026,
          0.027,
          0.028,
          0.029,
          0.03,
          0.031,
          0.032,
          0.033,
          0.034,
          0.035,
          0.036,
          0.037,
          0.038,
          0.039,
          0.04,
          0.041,
          0.042,
          0.043,
          0.044,
          0.045,
          0.046,
          0.047,
          0.048,
          0.049,
          0.05,
          0.051,
          0.052,
          0.053,
          0.054,
          0.055,
          0.056,
          0.057
         ],
         "y": [
          0.8594140641847751,
          1.6310793357736637,
          1.9206202167325064,
          2.667318996167097,
          3.0617167649644936,
          3.3403341908542425,
          3.5126835283529854,
          3.849990548784666,
          4.004626743929333,
          4.283285683774778,
          4.819861035764129,
          5.212789355924141,
          5.687560932444057,
          6.077355281557005,
          6.434613044431045,
          6.640767116794871,
          6.640767116794866,
          6.84495130292466,
          7.088759032861248,
          7.064149106799243,
          7.286648670120184,
          7.407061532277559,
          7.353135770303915,
          7.405626830333155,
          7.09403061704244,
          7.271287323182503,
          7.373956636926075,
          7.197161258479251,
          7.313163381916815,
          7.602505374440488,
          7.237144547777984,
          7.225232438764014,
          7.479641006854379,
          7.353313113588116,
          7.394333646852197,
          7.504722485488094,
          6.974549014583539,
          7.221378959679924,
          7.4819402820411955,
          7.149093040002684,
          7.125096730681832,
          7.356457910604605,
          7.310351595696458,
          7.465736274255484,
          6.9943930430916925,
          7.033934540387621,
          7.3306176937156575,
          7.366841644357229,
          7.103718777568764,
          6.889488178342279,
          7.174710428961828,
          6.677190447147176,
          6.909741612458957,
          7.092966463735967,
          6.731918329509711,
          6.65521878800769
         ]
        },
        {
         "name": "E_wof",
         "type": "bar",
         "x": [
          0.001,
          0.003,
          0.004,
          0.005,
          0.006,
          0.007,
          0.008,
          0.009,
          0.01,
          0.011,
          0.012,
          0.013,
          0.014,
          0.015,
          0.016,
          0.017,
          0.018,
          0.019,
          0.02,
          0.021,
          0.022,
          0.023,
          0.024,
          0.025,
          0.026,
          0.027,
          0.028,
          0.029,
          0.03,
          0.031,
          0.032,
          0.033,
          0.034,
          0.035,
          0.036,
          0.037,
          0.038,
          0.039,
          0.04,
          0.041,
          0.042,
          0.043,
          0.044,
          0.045,
          0.046,
          0.047,
          0.048,
          0.049,
          0.05,
          0.051,
          0.052,
          0.053,
          0.054,
          0.055,
          0.056,
          0.057
         ],
         "y": [
          13.555668456690878,
          12.580824471801971,
          13.24361618730346,
          13.94600230991493,
          14.39334994485318,
          14.753369934761135,
          15.39980822383967,
          15.77569332529087,
          16.67271296796809,
          17.109722956013723,
          17.411185297279317,
          17.667348078737945,
          17.798853705619415,
          17.89638945708706,
          18.244060103459127,
          18.64027568876021,
          19.12778446323328,
          19.31753301320196,
          19.94083753154451,
          19.61197766000856,
          20.345018126355928,
          20.589546197930712,
          20.68992126078025,
          20.70268780849879,
          21.24772194248012,
          21.667348717278827,
          21.151436955429485,
          22.290483150047383,
          22.077163945577183,
          21.665754386855944,
          21.552174574366017,
          21.56764896950308,
          21.25551787934871,
          21.88085185893193,
          22.12792345908752,
          22.0004423760617,
          22.812519276700343,
          22.44332440084329,
          21.491387616800548,
          21.208481347374143,
          21.29968263446485,
          21.34997174637611,
          22.04419796352097,
          21.751021466147957,
          22.58978954938636,
          22.85019128193873,
          22.51282232799568,
          22.341091462179865,
          22.463536178067724,
          22.797306958674007,
          21.807935739725583,
          22.197317087391102,
          21.782223867985195,
          22.65737257421022,
          22.00626641364449,
          22.83461604105576
         ]
        },
        {
         "name": "E_pv",
         "type": "bar",
         "visible": true,
         "x": [
          0.001,
          0.003,
          0.004,
          0.005,
          0.006,
          0.007,
          0.008,
          0.009,
          0.01,
          0.011,
          0.012,
          0.013,
          0.014,
          0.015,
          0.016,
          0.017,
          0.018,
          0.019,
          0.02,
          0.021,
          0.022,
          0.023,
          0.024,
          0.025,
          0.026,
          0.027,
          0.028,
          0.029,
          0.03,
          0.031,
          0.032,
          0.033,
          0.034,
          0.035,
          0.036,
          0.037,
          0.038,
          0.039,
          0.04,
          0.041,
          0.042,
          0.043,
          0.044,
          0.045,
          0.046,
          0.047,
          0.048,
          0.049,
          0.05,
          0.051,
          0.052,
          0.053,
          0.054,
          0.055,
          0.056,
          0.057
         ],
         "y": [
          5.325890585662758,
          5.084624863989476,
          5.340829552232145,
          5.363681145506933,
          5.373701941717535,
          5.5414085652382825,
          5.808963998532601,
          5.828792774771452,
          6.098253690540989,
          6.260406664362465,
          6.325406372414564,
          6.575318238371307,
          6.4556908212833,
          6.433350354279489,
          6.362367528905762,
          6.281787951405087,
          6.481066174671586,
          6.656918621071635,
          6.492892968737177,
          6.781149232616296,
          6.844253438043338,
          6.507674108570407,
          6.520130638637032,
          6.478009179774133,
          6.41089584228516,
          6.560031453121559,
          6.0912885319892105,
          6.245831525659991,
          6.254965436677453,
          5.955346221673951,
          6.072514360149019,
          5.99969756915026,
          6.069298242141712,
          6.048615390773947,
          6.160004034017168,
          6.150263680317244,
          6.130118016974833,
          6.039682145502114,
          5.873090287437369,
          5.939034838407861,
          5.952656267541978,
          5.926037818392942,
          6.057598286641801,
          6.038695535084772,
          6.195293497949639,
          6.116168969421681,
          6.084243260101576,
          6.083729766396698,
          6.185646949118519,
          6.070352936788915,
          6.0402273771708535,
          5.96651430059626,
          6.065867663078459,
          6.1078956255709285,
          6.101601945669939,
          5.941750261129656
         ]
        }
       ],
       "layout": {
        "barmode": "stack",
        "font": {
         "size": 15
        },
        "height": 350,
        "margin": {
         "b": 50,
         "l": 50,
         "r": 150,
         "t": 50
        },
        "template": {
         "data": {
          "bar": [
           {
            "error_x": {
             "color": "#2a3f5f"
            },
            "error_y": {
             "color": "#2a3f5f"
            },
            "marker": {
             "line": {
              "color": "#E5ECF6",
              "width": 0.5
             },
             "pattern": {
              "fillmode": "overlay",
              "size": 10,
              "solidity": 0.2
             }
            },
            "type": "bar"
           }
          ],
          "barpolar": [
           {
            "marker": {
             "line": {
              "color": "#E5ECF6",
              "width": 0.5
             },
             "pattern": {
              "fillmode": "overlay",
              "size": 10,
              "solidity": 0.2
             }
            },
            "type": "barpolar"
           }
          ],
          "carpet": [
           {
            "aaxis": {
             "endlinecolor": "#2a3f5f",
             "gridcolor": "white",
             "linecolor": "white",
             "minorgridcolor": "white",
             "startlinecolor": "#2a3f5f"
            },
            "baxis": {
             "endlinecolor": "#2a3f5f",
             "gridcolor": "white",
             "linecolor": "white",
             "minorgridcolor": "white",
             "startlinecolor": "#2a3f5f"
            },
            "type": "carpet"
           }
          ],
          "choropleth": [
           {
            "colorbar": {
             "outlinewidth": 0,
             "ticks": ""
            },
            "type": "choropleth"
           }
          ],
          "contour": [
           {
            "colorbar": {
             "outlinewidth": 0,
             "ticks": ""
            },
            "colorscale": [
             [
              0,
              "#0d0887"
             ],
             [
              0.1111111111111111,
              "#46039f"
             ],
             [
              0.2222222222222222,
              "#7201a8"
             ],
             [
              0.3333333333333333,
              "#9c179e"
             ],
             [
              0.4444444444444444,
              "#bd3786"
             ],
             [
              0.5555555555555556,
              "#d8576b"
             ],
             [
              0.6666666666666666,
              "#ed7953"
             ],
             [
              0.7777777777777778,
              "#fb9f3a"
             ],
             [
              0.8888888888888888,
              "#fdca26"
             ],
             [
              1,
              "#f0f921"
             ]
            ],
            "type": "contour"
           }
          ],
          "contourcarpet": [
           {
            "colorbar": {
             "outlinewidth": 0,
             "ticks": ""
            },
            "type": "contourcarpet"
           }
          ],
          "heatmap": [
           {
            "colorbar": {
             "outlinewidth": 0,
             "ticks": ""
            },
            "colorscale": [
             [
              0,
              "#0d0887"
             ],
             [
              0.1111111111111111,
              "#46039f"
             ],
             [
              0.2222222222222222,
              "#7201a8"
             ],
             [
              0.3333333333333333,
              "#9c179e"
             ],
             [
              0.4444444444444444,
              "#bd3786"
             ],
             [
              0.5555555555555556,
              "#d8576b"
             ],
             [
              0.6666666666666666,
              "#ed7953"
             ],
             [
              0.7777777777777778,
              "#fb9f3a"
             ],
             [
              0.8888888888888888,
              "#fdca26"
             ],
             [
              1,
              "#f0f921"
             ]
            ],
            "type": "heatmap"
           }
          ],
          "heatmapgl": [
           {
            "colorbar": {
             "outlinewidth": 0,
             "ticks": ""
            },
            "colorscale": [
             [
              0,
              "#0d0887"
             ],
             [
              0.1111111111111111,
              "#46039f"
             ],
             [
              0.2222222222222222,
              "#7201a8"
             ],
             [
              0.3333333333333333,
              "#9c179e"
             ],
             [
              0.4444444444444444,
              "#bd3786"
             ],
             [
              0.5555555555555556,
              "#d8576b"
             ],
             [
              0.6666666666666666,
              "#ed7953"
             ],
             [
              0.7777777777777778,
              "#fb9f3a"
             ],
             [
              0.8888888888888888,
              "#fdca26"
             ],
             [
              1,
              "#f0f921"
             ]
            ],
            "type": "heatmapgl"
           }
          ],
          "histogram": [
           {
            "marker": {
             "pattern": {
              "fillmode": "overlay",
              "size": 10,
              "solidity": 0.2
             }
            },
            "type": "histogram"
           }
          ],
          "histogram2d": [
           {
            "colorbar": {
             "outlinewidth": 0,
             "ticks": ""
            },
            "colorscale": [
             [
              0,
              "#0d0887"
             ],
             [
              0.1111111111111111,
              "#46039f"
             ],
             [
              0.2222222222222222,
              "#7201a8"
             ],
             [
              0.3333333333333333,
              "#9c179e"
             ],
             [
              0.4444444444444444,
              "#bd3786"
             ],
             [
              0.5555555555555556,
              "#d8576b"
             ],
             [
              0.6666666666666666,
              "#ed7953"
             ],
             [
              0.7777777777777778,
              "#fb9f3a"
             ],
             [
              0.8888888888888888,
              "#fdca26"
             ],
             [
              1,
              "#f0f921"
             ]
            ],
            "type": "histogram2d"
           }
          ],
          "histogram2dcontour": [
           {
            "colorbar": {
             "outlinewidth": 0,
             "ticks": ""
            },
            "colorscale": [
             [
              0,
              "#0d0887"
             ],
             [
              0.1111111111111111,
              "#46039f"
             ],
             [
              0.2222222222222222,
              "#7201a8"
             ],
             [
              0.3333333333333333,
              "#9c179e"
             ],
             [
              0.4444444444444444,
              "#bd3786"
             ],
             [
              0.5555555555555556,
              "#d8576b"
             ],
             [
              0.6666666666666666,
              "#ed7953"
             ],
             [
              0.7777777777777778,
              "#fb9f3a"
             ],
             [
              0.8888888888888888,
              "#fdca26"
             ],
             [
              1,
              "#f0f921"
             ]
            ],
            "type": "histogram2dcontour"
           }
          ],
          "mesh3d": [
           {
            "colorbar": {
             "outlinewidth": 0,
             "ticks": ""
            },
            "type": "mesh3d"
           }
          ],
          "parcoords": [
           {
            "line": {
             "colorbar": {
              "outlinewidth": 0,
              "ticks": ""
             }
            },
            "type": "parcoords"
           }
          ],
          "pie": [
           {
            "automargin": true,
            "type": "pie"
           }
          ],
          "scatter": [
           {
            "fillpattern": {
             "fillmode": "overlay",
             "size": 10,
             "solidity": 0.2
            },
            "type": "scatter"
           }
          ],
          "scatter3d": [
           {
            "line": {
             "colorbar": {
              "outlinewidth": 0,
              "ticks": ""
             }
            },
            "marker": {
             "colorbar": {
              "outlinewidth": 0,
              "ticks": ""
             }
            },
            "type": "scatter3d"
           }
          ],
          "scattercarpet": [
           {
            "marker": {
             "colorbar": {
              "outlinewidth": 0,
              "ticks": ""
             }
            },
            "type": "scattercarpet"
           }
          ],
          "scattergeo": [
           {
            "marker": {
             "colorbar": {
              "outlinewidth": 0,
              "ticks": ""
             }
            },
            "type": "scattergeo"
           }
          ],
          "scattergl": [
           {
            "marker": {
             "colorbar": {
              "outlinewidth": 0,
              "ticks": ""
             }
            },
            "type": "scattergl"
           }
          ],
          "scattermapbox": [
           {
            "marker": {
             "colorbar": {
              "outlinewidth": 0,
              "ticks": ""
             }
            },
            "type": "scattermapbox"
           }
          ],
          "scatterpolar": [
           {
            "marker": {
             "colorbar": {
              "outlinewidth": 0,
              "ticks": ""
             }
            },
            "type": "scatterpolar"
           }
          ],
          "scatterpolargl": [
           {
            "marker": {
             "colorbar": {
              "outlinewidth": 0,
              "ticks": ""
             }
            },
            "type": "scatterpolargl"
           }
          ],
          "scatterternary": [
           {
            "marker": {
             "colorbar": {
              "outlinewidth": 0,
              "ticks": ""
             }
            },
            "type": "scatterternary"
           }
          ],
          "surface": [
           {
            "colorbar": {
             "outlinewidth": 0,
             "ticks": ""
            },
            "colorscale": [
             [
              0,
              "#0d0887"
             ],
             [
              0.1111111111111111,
              "#46039f"
             ],
             [
              0.2222222222222222,
              "#7201a8"
             ],
             [
              0.3333333333333333,
              "#9c179e"
             ],
             [
              0.4444444444444444,
              "#bd3786"
             ],
             [
              0.5555555555555556,
              "#d8576b"
             ],
             [
              0.6666666666666666,
              "#ed7953"
             ],
             [
              0.7777777777777778,
              "#fb9f3a"
             ],
             [
              0.8888888888888888,
              "#fdca26"
             ],
             [
              1,
              "#f0f921"
             ]
            ],
            "type": "surface"
           }
          ],
          "table": [
           {
            "cells": {
             "fill": {
              "color": "#EBF0F8"
             },
             "line": {
              "color": "white"
             }
            },
            "header": {
             "fill": {
              "color": "#C8D4E3"
             },
             "line": {
              "color": "white"
             }
            },
            "type": "table"
           }
          ]
         },
         "layout": {
          "annotationdefaults": {
           "arrowcolor": "#2a3f5f",
           "arrowhead": 0,
           "arrowwidth": 1
          },
          "autotypenumbers": "strict",
          "coloraxis": {
           "colorbar": {
            "outlinewidth": 0,
            "ticks": ""
           }
          },
          "colorscale": {
           "diverging": [
            [
             0,
             "#8e0152"
            ],
            [
             0.1,
             "#c51b7d"
            ],
            [
             0.2,
             "#de77ae"
            ],
            [
             0.3,
             "#f1b6da"
            ],
            [
             0.4,
             "#fde0ef"
            ],
            [
             0.5,
             "#f7f7f7"
            ],
            [
             0.6,
             "#e6f5d0"
            ],
            [
             0.7,
             "#b8e186"
            ],
            [
             0.8,
             "#7fbc41"
            ],
            [
             0.9,
             "#4d9221"
            ],
            [
             1,
             "#276419"
            ]
           ],
           "sequential": [
            [
             0,
             "#0d0887"
            ],
            [
             0.1111111111111111,
             "#46039f"
            ],
            [
             0.2222222222222222,
             "#7201a8"
            ],
            [
             0.3333333333333333,
             "#9c179e"
            ],
            [
             0.4444444444444444,
             "#bd3786"
            ],
            [
             0.5555555555555556,
             "#d8576b"
            ],
            [
             0.6666666666666666,
             "#ed7953"
            ],
            [
             0.7777777777777778,
             "#fb9f3a"
            ],
            [
             0.8888888888888888,
             "#fdca26"
            ],
            [
             1,
             "#f0f921"
            ]
           ],
           "sequentialminus": [
            [
             0,
             "#0d0887"
            ],
            [
             0.1111111111111111,
             "#46039f"
            ],
            [
             0.2222222222222222,
             "#7201a8"
            ],
            [
             0.3333333333333333,
             "#9c179e"
            ],
            [
             0.4444444444444444,
             "#bd3786"
            ],
            [
             0.5555555555555556,
             "#d8576b"
            ],
            [
             0.6666666666666666,
             "#ed7953"
            ],
            [
             0.7777777777777778,
             "#fb9f3a"
            ],
            [
             0.8888888888888888,
             "#fdca26"
            ],
            [
             1,
             "#f0f921"
            ]
           ]
          },
          "colorway": [
           "#636efa",
           "#EF553B",
           "#00cc96",
           "#ab63fa",
           "#FFA15A",
           "#19d3f3",
           "#FF6692",
           "#B6E880",
           "#FF97FF",
           "#FECB52"
          ],
          "font": {
           "color": "#2a3f5f"
          },
          "geo": {
           "bgcolor": "white",
           "lakecolor": "white",
           "landcolor": "#E5ECF6",
           "showlakes": true,
           "showland": true,
           "subunitcolor": "white"
          },
          "hoverlabel": {
           "align": "left"
          },
          "hovermode": "closest",
          "mapbox": {
           "style": "light"
          },
          "paper_bgcolor": "white",
          "plot_bgcolor": "#E5ECF6",
          "polar": {
           "angularaxis": {
            "gridcolor": "white",
            "linecolor": "white",
            "ticks": ""
           },
           "bgcolor": "#E5ECF6",
           "radialaxis": {
            "gridcolor": "white",
            "linecolor": "white",
            "ticks": ""
           }
          },
          "scene": {
           "xaxis": {
            "backgroundcolor": "#E5ECF6",
            "gridcolor": "white",
            "gridwidth": 2,
            "linecolor": "white",
            "showbackground": true,
            "ticks": "",
            "zerolinecolor": "white"
           },
           "yaxis": {
            "backgroundcolor": "#E5ECF6",
            "gridcolor": "white",
            "gridwidth": 2,
            "linecolor": "white",
            "showbackground": true,
            "ticks": "",
            "zerolinecolor": "white"
           },
           "zaxis": {
            "backgroundcolor": "#E5ECF6",
            "gridcolor": "white",
            "gridwidth": 2,
            "linecolor": "white",
            "showbackground": true,
            "ticks": "",
            "zerolinecolor": "white"
           }
          },
          "shapedefaults": {
           "line": {
            "color": "#2a3f5f"
           }
          },
          "ternary": {
           "aaxis": {
            "gridcolor": "white",
            "linecolor": "white",
            "ticks": ""
           },
           "baxis": {
            "gridcolor": "white",
            "linecolor": "white",
            "ticks": ""
           },
           "bgcolor": "#E5ECF6",
           "caxis": {
            "gridcolor": "white",
            "linecolor": "white",
            "ticks": ""
           }
          },
          "title": {
           "x": 0.05
          },
          "xaxis": {
           "automargin": true,
           "gridcolor": "white",
           "linecolor": "white",
           "ticks": "",
           "title": {
            "standoff": 15
           },
           "zerolinecolor": "white",
           "zerolinewidth": 2
          },
          "yaxis": {
           "automargin": true,
           "gridcolor": "white",
           "linecolor": "white",
           "ticks": "",
           "title": {
            "standoff": 15
           },
           "zerolinecolor": "white",
           "zerolinewidth": 2
          }
         }
        },
        "width": 750,
        "xaxis": {
         "autorange": true,
         "range": [
          0.000500000000000003,
          0.057499999999999996
         ],
         "title": {
          "text": "r up (Pn/h)"
         },
         "type": "linear"
        },
        "yaxis": {
         "autorange": true,
         "range": [
          0,
          99.09271554815443
         ],
         "title": {
          "text": "Production @2060(%)"
         },
         "type": "linear"
        }
       }
      },
      "image/png": "[encoded data removed]",
      "text/html": [
       "<div>                            <div id=\"af017cd1-d62f-4144-80c7-3a6da677bada\" class=\"plotly-graph-div\" style=\"height:350px; width:750px;\"></div>            <script type=\"text/javascript\">                require([\"plotly\"], function(Plotly) {                    window.PLOTLYENV=window.PLOTLYENV || {};                                    if (document.getElementById(\"af017cd1-d62f-4144-80c7-3a6da677bada\")) {                    Plotly.newPlot(                        \"af017cd1-d62f-4144-80c7-3a6da677bada\",                        [{\"name\":\"E_hist\",\"x\":[0.001,0.003,0.004,0.005,0.006,0.007,0.008,0.009,0.01,0.011,0.012,0.013,0.014,0.015,0.016,0.017,0.018,0.019,0.02,0.021,0.022,0.023,0.024,0.025,0.026,0.027,0.028,0.029,0.03,0.031,0.032,0.033,0.034,0.035,0.036,0.037,0.038,0.039,0.04,0.041,0.042,0.043,0.044,0.045,0.046,0.047,0.048,0.049,0.05,0.051,0.052,0.053,0.054,0.055,0.056,0.057],\"y\":[0.0,0.0,0.0,0.0,0.0,0.0,0.0,0.0,0.0,0.0,0.0,0.0,0.0,0.0,0.0,0.0,0.0,0.0,0.0,0.0,0.0,0.0,0.0,0.0,0.0,0.0,0.0,0.0,0.0,0.0,0.0,0.0,0.0,0.0,0.0,0.0,0.0,0.0,0.0,0.0,0.0,0.0,0.0,0.0,0.0,0.0,0.0,0.0,0.0,0.0,0.0,0.0,0.0,0.0,0.0,0.0],\"type\":\"bar\"},{\"name\":\"E_new\",\"x\":[0.001,0.003,0.004,0.005,0.006,0.007,0.008,0.009,0.01,0.011,0.012,0.013,0.014,0.015,0.016,0.017,0.018,0.019,0.02,0.021,0.022,0.023,0.024,0.025,0.026,0.027,0.028,0.029,0.03,0.031,0.032,0.033,0.034,0.035,0.036,0.037,0.038,0.039,0.04,0.041,0.042,0.043,0.044,0.045,0.046,0.047,0.048,0.049,0.05,0.051,0.052,0.053,0.054,0.055,0.056,0.057],\"y\":[38.276214936099,46.06858955616555,46.32593618928688,46.12386836805175,47.16519269394642,46.64931031605162,46.1535634522371,45.72266316699551,45.6155172438076,45.08250766315797,44.48377506479315,43.88003291396878,43.49189362118006,44.09953203113842,42.97534802275449,43.54549799682325,43.60608084382684,42.90659595539989,41.619505657870825,43.51956698342436,42.31908329388055,42.57590187555466,43.41859586858117,43.46994762391817,43.781014503183314,43.34672363715749,43.52100809222883,43.57302501202685,43.874543677631415,44.31725560596672,44.37547857435493,44.393653558216414,44.97853035165923,44.99756171524852,44.89325786943907,45.10937534939959,45.067322115188766,45.138974657249335,45.43346187067497,45.67805934309191,45.66905925625648,45.819108641291976,45.69008249793838,45.7622854016739,45.975640399919975,45.90558659967331,45.89673833557431,46.10336916697167,45.85418753549174,45.8647870951744,46.0776564043217,45.789674235417685,46.46020003464542,46.11089338940848,46.66501078676157,46.52899709943016],\"type\":\"bar\"},{\"name\":\"E_ccgt\",\"x\":[0.001,0.003,0.004,0.005,0.006,0.007,0.008,0.009,0.01,0.011,0.012,0.013,0.014,0.015,0.016,0.017,0.018,0.019,0.02,0.021,0.022,0.023,0.024,0.025,0.026,0.027,0.028,0.029,0.03,0.031,0.032,0.033,0.034,0.035,0.036,0.037,0.038,0.039,0.04,0.041,0.042,0.043,0.044,0.045,0.046,0.047,0.048,0.049,0.05,0.051,0.052,0.053,0.054,0.055,0.056,0.057],\"y\":[0.0618689718061993,0.0530000308910824,0.0519221701756821,0.0578585026853241,0.0586316294545885,0.0556563566072808,0.0468933639917841,0.0443710526504655,0.0521594224560875,0.0455790588131115,0.046442012406214,0.0417132164402595,0.0410723263528233,0.0418681042744828,0.0371679611114567,0.0452395262811446,0.0440908671860204,0.0332290621471686,0.0328556396365886,0.0294301597404056,0.0296598751175358,0.0327801799798172,0.0244957149335739,0.0264125304049553,0.0269877810248225,0.0235635433353046,0.0189596110109289,0.0192641762769421,0.0190114286654217,0.0204199631306898,0.0190518396584588,0.0180762771754656,0.0174151672075712,0.0224822502202533,0.0221718359705975,0.0178678006457384,0.0198676477160706,0.0157032564098705,0.0176242108869646,0.0251755253168704,0.0278693951678499,0.0186636830410117,0.0244371888726419,0.0303597262136041,0.0227382529346435,0.0175253607920778,0.019175725954272,0.0151011211157505,0.020641259667491,0.0227185621355177,0.0216256822179134,0.0218160548570349,0.0269680354280358,0.0180979014984974,0.0284882229550207,0.0195584852935518],\"type\":\"bar\"},{\"name\":\"E_ccgt_bioch4\",\"x\":[0.001,0.003,0.004,0.005,0.006,0.007,0.008,0.009,0.01,0.011,0.012,0.013,0.014,0.015,0.016,0.017,0.018,0.019,0.02,0.021,0.022,0.023,0.024,0.025,0.026,0.027,0.028,0.029,0.03,0.031,0.032,0.033,0.034,0.035,0.036,0.037,0.038,0.039,0.04,0.041,0.042,0.043,0.044,0.045,0.046,0.047,0.048,0.049,0.05,0.051,0.052,0.053,0.054,0.055,0.056,0.057],\"y\":[35.02722830912968,27.7032740195532,25.62922128351254,24.6018303007525,23.842532521976267,22.838848974899243,21.81039088959168,21.3762007566109,21.326643149092597,20.76774760486129,20.61736493108725,19.87679106921206,19.46459301351273,18.875888172307054,18.544867521918697,17.71486542743453,17.16472586341225,17.512826421430365,17.073773698394643,16.38906683265641,16.662022951650354,15.688872034857642,15.119636077373972,14.859034178356028,14.611844094939352,15.065879082965598,14.249257040536914,14.55819803174336,14.214895348788705,13.88492560623476,13.511273885431446,13.27328733709182,13.019291478142428,13.157110022053567,13.13317776234388,12.92126103206773,13.033303593398502,12.633574611897686,12.436647560735986,12.213274992626582,12.585458018475263,12.040453872690572,12.352369310033245,12.47730651650554,12.099047941873916,11.996989449095905,12.294482427405224,11.978811770084672,11.978442242364078,11.855778756737354,11.780713365138034,11.789892317043977,11.36633144838597,11.935259602137627,11.24859633653745,11.354446698898672],\"type\":\"bar\"},{\"name\":\"E_won\",\"x\":[0.001,0.003,0.004,0.005,0.006,0.007,0.008,0.009,0.01,0.011,0.012,0.013,0.014,0.015,0.016,0.017,0.018,0.019,0.02,0.021,0.022,0.023,0.024,0.025,0.026,0.027,0.028,0.029,0.03,0.031,0.032,0.033,0.034,0.035,0.036,0.037,0.038,0.039,0.04,0.041,0.042,0.043,0.044,0.045,0.046,0.047,0.048,0.049,0.05,0.051,0.052,0.053,0.054,0.055,0.056,0.057],\"y\":[0.8594140641847751,1.6310793357736637,1.9206202167325064,2.667318996167097,3.0617167649644936,3.3403341908542425,3.5126835283529854,3.849990548784666,4.004626743929333,4.283285683774778,4.819861035764129,5.212789355924141,5.687560932444057,6.077355281557005,6.434613044431045,6.640767116794871,6.640767116794866,6.84495130292466,7.088759032861248,7.064149106799243,7.286648670120184,7.407061532277559,7.353135770303915,7.405626830333155,7.09403061704244,7.271287323182503,7.373956636926075,7.197161258479251,7.313163381916815,7.602505374440488,7.237144547777984,7.225232438764014,7.479641006854379,7.353313113588116,7.394333646852197,7.504722485488094,6.974549014583539,7.221378959679924,7.4819402820411955,7.149093040002684,7.125096730681832,7.356457910604605,7.310351595696458,7.465736274255484,6.9943930430916925,7.033934540387621,7.3306176937156575,7.366841644357229,7.103718777568764,6.889488178342279,7.174710428961828,6.677190447147176,6.909741612458957,7.092966463735967,6.731918329509711,6.65521878800769],\"type\":\"bar\"},{\"name\":\"E_wof\",\"x\":[0.001,0.003,0.004,0.005,0.006,0.007,0.008,0.009,0.01,0.011,0.012,0.013,0.014,0.015,0.016,0.017,0.018,0.019,0.02,0.021,0.022,0.023,0.024,0.025,0.026,0.027,0.028,0.029,0.03,0.031,0.032,0.033,0.034,0.035,0.036,0.037,0.038,0.039,0.04,0.041,0.042,0.043,0.044,0.045,0.046,0.047,0.048,0.049,0.05,0.051,0.052,0.053,0.054,0.055,0.056,0.057],\"y\":[13.555668456690878,12.580824471801971,13.24361618730346,13.94600230991493,14.39334994485318,14.753369934761135,15.39980822383967,15.77569332529087,16.67271296796809,17.109722956013723,17.411185297279317,17.667348078737945,17.798853705619415,17.89638945708706,18.244060103459127,18.64027568876021,19.12778446323328,19.31753301320196,19.94083753154451,19.61197766000856,20.345018126355928,20.589546197930712,20.68992126078025,20.70268780849879,21.24772194248012,21.667348717278827,21.151436955429485,22.290483150047383,22.077163945577183,21.665754386855944,21.552174574366017,21.56764896950308,21.25551787934871,21.88085185893193,22.12792345908752,22.0004423760617,22.812519276700343,22.44332440084329,21.491387616800548,21.208481347374143,21.29968263446485,21.34997174637611,22.04419796352097,21.751021466147957,22.58978954938636,22.85019128193873,22.51282232799568,22.341091462179865,22.463536178067724,22.797306958674007,21.807935739725583,22.197317087391102,21.782223867985195,22.65737257421022,22.00626641364449,22.83461604105576],\"type\":\"bar\"},{\"name\":\"E_pv\",\"x\":[0.001,0.003,0.004,0.005,0.006,0.007,0.008,0.009,0.01,0.011,0.012,0.013,0.014,0.015,0.016,0.017,0.018,0.019,0.02,0.021,0.022,0.023,0.024,0.025,0.026,0.027,0.028,0.029,0.03,0.031,0.032,0.033,0.034,0.035,0.036,0.037,0.038,0.039,0.04,0.041,0.042,0.043,0.044,0.045,0.046,0.047,0.048,0.049,0.05,0.051,0.052,0.053,0.054,0.055,0.056,0.057],\"y\":[5.325890585662758,5.084624863989476,5.340829552232145,5.363681145506933,5.373701941717535,5.5414085652382825,5.808963998532601,5.828792774771452,6.098253690540989,6.260406664362465,6.325406372414564,6.575318238371307,6.4556908212833,6.433350354279489,6.362367528905762,6.281787951405087,6.481066174671586,6.656918621071635,6.492892968737177,6.781149232616296,6.844253438043338,6.507674108570407,6.520130638637032,6.478009179774133,6.41089584228516,6.560031453121559,6.0912885319892105,6.245831525659991,6.254965436677453,5.955346221673951,6.072514360149019,5.99969756915026,6.069298242141712,6.048615390773947,6.160004034017168,6.150263680317244,6.130118016974833,6.039682145502114,5.873090287437369,5.939034838407861,5.952656267541978,5.926037818392942,6.057598286641801,6.038695535084772,6.195293497949639,6.116168969421681,6.084243260101576,6.083729766396698,6.185646949118519,6.070352936788915,6.0402273771708535,5.96651430059626,6.065867663078459,6.1078956255709285,6.101601945669939,5.941750261129656],\"type\":\"bar\"}],                        {\"template\":{\"data\":{\"histogram2dcontour\":[{\"type\":\"histogram2dcontour\",\"colorbar\":{\"outlinewidth\":0,\"ticks\":\"\"},\"colorscale\":[[0.0,\"#0d0887\"],[0.1111111111111111,\"#46039f\"],[0.2222222222222222,\"#7201a8\"],[0.3333333333333333,\"#9c179e\"],[0.4444444444444444,\"#bd3786\"],[0.5555555555555556,\"#d8576b\"],[0.6666666666666666,\"#ed7953\"],[0.7777777777777778,\"#fb9f3a\"],[0.8888888888888888,\"#fdca26\"],[1.0,\"#f0f921\"]]}],\"choropleth\":[{\"type\":\"choropleth\",\"colorbar\":{\"outlinewidth\":0,\"ticks\":\"\"}}],\"histogram2d\":[{\"type\":\"histogram2d\",\"colorbar\":{\"outlinewidth\":0,\"ticks\":\"\"},\"colorscale\":[[0.0,\"#0d0887\"],[0.1111111111111111,\"#46039f\"],[0.2222222222222222,\"#7201a8\"],[0.3333333333333333,\"#9c179e\"],[0.4444444444444444,\"#bd3786\"],[0.5555555555555556,\"#d8576b\"],[0.6666666666666666,\"#ed7953\"],[0.7777777777777778,\"#fb9f3a\"],[0.8888888888888888,\"#fdca26\"],[1.0,\"#f0f921\"]]}],\"heatmap\":[{\"type\":\"heatmap\",\"colorbar\":{\"outlinewidth\":0,\"ticks\":\"\"},\"colorscale\":[[0.0,\"#0d0887\"],[0.1111111111111111,\"#46039f\"],[0.2222222222222222,\"#7201a8\"],[0.3333333333333333,\"#9c179e\"],[0.4444444444444444,\"#bd3786\"],[0.5555555555555556,\"#d8576b\"],[0.6666666666666666,\"#ed7953\"],[0.7777777777777778,\"#fb9f3a\"],[0.8888888888888888,\"#fdca26\"],[1.0,\"#f0f921\"]]}],\"heatmapgl\":[{\"type\":\"heatmapgl\",\"colorbar\":{\"outlinewidth\":0,\"ticks\":\"\"},\"colorscale\":[[0.0,\"#0d0887\"],[0.1111111111111111,\"#46039f\"],[0.2222222222222222,\"#7201a8\"],[0.3333333333333333,\"#9c179e\"],[0.4444444444444444,\"#bd3786\"],[0.5555555555555556,\"#d8576b\"],[0.6666666666666666,\"#ed7953\"],[0.7777777777777778,\"#fb9f3a\"],[0.8888888888888888,\"#fdca26\"],[1.0,\"#f0f921\"]]}],\"contourcarpet\":[{\"type\":\"contourcarpet\",\"colorbar\":{\"outlinewidth\":0,\"ticks\":\"\"}}],\"contour\":[{\"type\":\"contour\",\"colorbar\":{\"outlinewidth\":0,\"ticks\":\"\"},\"colorscale\":[[0.0,\"#0d0887\"],[0.1111111111111111,\"#46039f\"],[0.2222222222222222,\"#7201a8\"],[0.3333333333333333,\"#9c179e\"],[0.4444444444444444,\"#bd3786\"],[0.5555555555555556,\"#d8576b\"],[0.6666666666666666,\"#ed7953\"],[0.7777777777777778,\"#fb9f3a\"],[0.8888888888888888,\"#fdca26\"],[1.0,\"#f0f921\"]]}],\"surface\":[{\"type\":\"surface\",\"colorbar\":{\"outlinewidth\":0,\"ticks\":\"\"},\"colorscale\":[[0.0,\"#0d0887\"],[0.1111111111111111,\"#46039f\"],[0.2222222222222222,\"#7201a8\"],[0.3333333333333333,\"#9c179e\"],[0.4444444444444444,\"#bd3786\"],[0.5555555555555556,\"#d8576b\"],[0.6666666666666666,\"#ed7953\"],[0.7777777777777778,\"#fb9f3a\"],[0.8888888888888888,\"#fdca26\"],[1.0,\"#f0f921\"]]}],\"mesh3d\":[{\"type\":\"mesh3d\",\"colorbar\":{\"outlinewidth\":0,\"ticks\":\"\"}}],\"scatter\":[{\"fillpattern\":{\"fillmode\":\"overlay\",\"size\":10,\"solidity\":0.2},\"type\":\"scatter\"}],\"parcoords\":[{\"type\":\"parcoords\",\"line\":{\"colorbar\":{\"outlinewidth\":0,\"ticks\":\"\"}}}],\"scatterpolargl\":[{\"type\":\"scatterpolargl\",\"marker\":{\"colorbar\":{\"outlinewidth\":0,\"ticks\":\"\"}}}],\"bar\":[{\"error_x\":{\"color\":\"#2a3f5f\"},\"error_y\":{\"color\":\"#2a3f5f\"},\"marker\":{\"line\":{\"color\":\"#E5ECF6\",\"width\":0.5},\"pattern\":{\"fillmode\":\"overlay\",\"size\":10,\"solidity\":0.2}},\"type\":\"bar\"}],\"scattergeo\":[{\"type\":\"scattergeo\",\"marker\":{\"colorbar\":{\"outlinewidth\":0,\"ticks\":\"\"}}}],\"scatterpolar\":[{\"type\":\"scatterpolar\",\"marker\":{\"colorbar\":{\"outlinewidth\":0,\"ticks\":\"\"}}}],\"histogram\":[{\"marker\":{\"pattern\":{\"fillmode\":\"overlay\",\"size\":10,\"solidity\":0.2}},\"type\":\"histogram\"}],\"scattergl\":[{\"type\":\"scattergl\",\"marker\":{\"colorbar\":{\"outlinewidth\":0,\"ticks\":\"\"}}}],\"scatter3d\":[{\"type\":\"scatter3d\",\"line\":{\"colorbar\":{\"outlinewidth\":0,\"ticks\":\"\"}},\"marker\":{\"colorbar\":{\"outlinewidth\":0,\"ticks\":\"\"}}}],\"scattermapbox\":[{\"type\":\"scattermapbox\",\"marker\":{\"colorbar\":{\"outlinewidth\":0,\"ticks\":\"\"}}}],\"scatterternary\":[{\"type\":\"scatterternary\",\"marker\":{\"colorbar\":{\"outlinewidth\":0,\"ticks\":\"\"}}}],\"scattercarpet\":[{\"type\":\"scattercarpet\",\"marker\":{\"colorbar\":{\"outlinewidth\":0,\"ticks\":\"\"}}}],\"carpet\":[{\"aaxis\":{\"endlinecolor\":\"#2a3f5f\",\"gridcolor\":\"white\",\"linecolor\":\"white\",\"minorgridcolor\":\"white\",\"startlinecolor\":\"#2a3f5f\"},\"baxis\":{\"endlinecolor\":\"#2a3f5f\",\"gridcolor\":\"white\",\"linecolor\":\"white\",\"minorgridcolor\":\"white\",\"startlinecolor\":\"#2a3f5f\"},\"type\":\"carpet\"}],\"table\":[{\"cells\":{\"fill\":{\"color\":\"#EBF0F8\"},\"line\":{\"color\":\"white\"}},\"header\":{\"fill\":{\"color\":\"#C8D4E3\"},\"line\":{\"color\":\"white\"}},\"type\":\"table\"}],\"barpolar\":[{\"marker\":{\"line\":{\"color\":\"#E5ECF6\",\"width\":0.5},\"pattern\":{\"fillmode\":\"overlay\",\"size\":10,\"solidity\":0.2}},\"type\":\"barpolar\"}],\"pie\":[{\"automargin\":true,\"type\":\"pie\"}]},\"layout\":{\"autotypenumbers\":\"strict\",\"colorway\":[\"#636efa\",\"#EF553B\",\"#00cc96\",\"#ab63fa\",\"#FFA15A\",\"#19d3f3\",\"#FF6692\",\"#B6E880\",\"#FF97FF\",\"#FECB52\"],\"font\":{\"color\":\"#2a3f5f\"},\"hovermode\":\"closest\",\"hoverlabel\":{\"align\":\"left\"},\"paper_bgcolor\":\"white\",\"plot_bgcolor\":\"#E5ECF6\",\"polar\":{\"bgcolor\":\"#E5ECF6\",\"angularaxis\":{\"gridcolor\":\"white\",\"linecolor\":\"white\",\"ticks\":\"\"},\"radialaxis\":{\"gridcolor\":\"white\",\"linecolor\":\"white\",\"ticks\":\"\"}},\"ternary\":{\"bgcolor\":\"#E5ECF6\",\"aaxis\":{\"gridcolor\":\"white\",\"linecolor\":\"white\",\"ticks\":\"\"},\"baxis\":{\"gridcolor\":\"white\",\"linecolor\":\"white\",\"ticks\":\"\"},\"caxis\":{\"gridcolor\":\"white\",\"linecolor\":\"white\",\"ticks\":\"\"}},\"coloraxis\":{\"colorbar\":{\"outlinewidth\":0,\"ticks\":\"\"}},\"colorscale\":{\"sequential\":[[0.0,\"#0d0887\"],[0.1111111111111111,\"#46039f\"],[0.2222222222222222,\"#7201a8\"],[0.3333333333333333,\"#9c179e\"],[0.4444444444444444,\"#bd3786\"],[0.5555555555555556,\"#d8576b\"],[0.6666666666666666,\"#ed7953\"],[0.7777777777777778,\"#fb9f3a\"],[0.8888888888888888,\"#fdca26\"],[1.0,\"#f0f921\"]],\"sequentialminus\":[[0.0,\"#0d0887\"],[0.1111111111111111,\"#46039f\"],[0.2222222222222222,\"#7201a8\"],[0.3333333333333333,\"#9c179e\"],[0.4444444444444444,\"#bd3786\"],[0.5555555555555556,\"#d8576b\"],[0.6666666666666666,\"#ed7953\"],[0.7777777777777778,\"#fb9f3a\"],[0.8888888888888888,\"#fdca26\"],[1.0,\"#f0f921\"]],\"diverging\":[[0,\"#8e0152\"],[0.1,\"#c51b7d\"],[0.2,\"#de77ae\"],[0.3,\"#f1b6da\"],[0.4,\"#fde0ef\"],[0.5,\"#f7f7f7\"],[0.6,\"#e6f5d0\"],[0.7,\"#b8e186\"],[0.8,\"#7fbc41\"],[0.9,\"#4d9221\"],[1,\"#276419\"]]},\"xaxis\":{\"gridcolor\":\"white\",\"linecolor\":\"white\",\"ticks\":\"\",\"title\":{\"standoff\":15},\"zerolinecolor\":\"white\",\"automargin\":true,\"zerolinewidth\":2},\"yaxis\":{\"gridcolor\":\"white\",\"linecolor\":\"white\",\"ticks\":\"\",\"title\":{\"standoff\":15},\"zerolinecolor\":\"white\",\"automargin\":true,\"zerolinewidth\":2},\"scene\":{\"xaxis\":{\"backgroundcolor\":\"#E5ECF6\",\"gridcolor\":\"white\",\"linecolor\":\"white\",\"showbackground\":true,\"ticks\":\"\",\"zerolinecolor\":\"white\",\"gridwidth\":2},\"yaxis\":{\"backgroundcolor\":\"#E5ECF6\",\"gridcolor\":\"white\",\"linecolor\":\"white\",\"showbackground\":true,\"ticks\":\"\",\"zerolinecolor\":\"white\",\"gridwidth\":2},\"zaxis\":{\"backgroundcolor\":\"#E5ECF6\",\"gridcolor\":\"white\",\"linecolor\":\"white\",\"showbackground\":true,\"ticks\":\"\",\"zerolinecolor\":\"white\",\"gridwidth\":2}},\"shapedefaults\":{\"line\":{\"color\":\"#2a3f5f\"}},\"annotationdefaults\":{\"arrowcolor\":\"#2a3f5f\",\"arrowhead\":0,\"arrowwidth\":1},\"geo\":{\"bgcolor\":\"white\",\"landcolor\":\"#E5ECF6\",\"subunitcolor\":\"white\",\"showland\":true,\"showlakes\":true,\"lakecolor\":\"white\"},\"title\":{\"x\":0.05},\"mapbox\":{\"style\":\"light\"}}},\"margin\":{\"l\":50,\"r\":150,\"b\":50,\"t\":50},\"font\":{\"size\":15},\"yaxis\":{\"title\":{\"text\":\"Production @2060(%)\"}},\"xaxis\":{\"title\":{\"text\":\"r up (Pn\\u002fh)\"}},\"barmode\":\"stack\",\"width\":750,\"height\":350},                        {\"responsive\": true}                    ).then(function(){\n",
       "                            \n",
       "var gd = document.getElementById('af017cd1-d62f-4144-80c7-3a6da677bada');\n",
       "var x = new MutationObserver(function (mutations, observer) {{\n",
       "        var display = window.getComputedStyle(gd).display;\n",
       "        if (!display || display === 'none') {{\n",
       "            console.log([gd, 'removed!']);\n",
       "            Plotly.purge(gd);\n",
       "            observer.disconnect();\n",
       "        }}\n",
       "}});\n",
       "\n",
       "// Listen for the removal of the full notebook cells\n",
       "var notebookContainer = gd.closest('#notebook-container');\n",
       "if (notebookContainer) {{\n",
       "    x.observe(notebookContainer, {childList: true});\n",
       "}}\n",
       "\n",
       "// Listen for the clearing of the current output cell\n",
       "var outputEl = gd.closest('.output');\n",
       "if (outputEl) {{\n",
       "    x.observe(outputEl, {childList: true});\n",
       "}}\n",
       "\n",
       "                        })                };                });            </script>        </div>"
      ]
     },
     "metadata": {},
     "output_type": "display_data"
    }
   ],
   "source": [
    "import numpy as np\n",
    "import pandas as pd\n",
    "\n",
    "import plotly.graph_objects as go\n",
    "from plotly.subplots import make_subplots\n",
    "import plotly.io as pio\n",
    "\n",
    "df = pd.read_csv('out/out.dat')\n",
    "df\n",
    "\n",
    "fig = go.Figure()\n",
    "fig.add_trace(go.Scatter(x = df['rup'] , y = df['obj'],line=dict(width=2.0),mode='lines',name='won'))\n",
    "fig.update_layout(yaxis_title='obj (€)',xaxis_title=\"r up (#Pn/h)\",width=750,height=350,margin=dict(l=50,r=150,b=30,t=50),font=dict(size=15))\n",
    "fig.show()\n",
    "print()\n",
    "fig = go.Figure()\n",
    "fig.add_trace(go.Scatter(x = df['rup'] , y = df['P_hist'],line=dict(width=2.0),mode='lines',name='hist'))\n",
    "fig.add_trace(go.Scatter(x = df['rup'] , y = df['P_new'],line=dict(width=2.0),mode='lines',name='new'))\n",
    "fig.add_trace(go.Scatter(x = df['rup'] , y = df['P_ccgt'],line=dict(width=2.0),mode='lines',name='ccgt'))\n",
    "fig.add_trace(go.Scatter(x = df['rup'] , y = df['P_ccgt_bioch4'],line=dict(width=2.0),mode='lines',name='ccgt_bioch4'))\n",
    "fig.add_trace(go.Scatter(x = df['rup'] , y = df['P_won'],line=dict(width=2.0),mode='lines',name='won'))\n",
    "fig.add_trace(go.Scatter(x = df['rup'] , y = df['P_wof'],line=dict(width=2.0),mode='lines',name='wof'))\n",
    "fig.add_trace(go.Scatter(x = df['rup'] , y = df['P_pv'],line=dict(width=2.0),mode='lines',name='pv'))\n",
    "fig.update_layout(yaxis_title='P @y=2060 (MW)',xaxis_title=\"r up (#Pn/h)\",width=750,height=350,margin=dict(l=50,r=150,b=30,t=50),font=dict(size=15))\n",
    "fig.show()\n",
    "print()\n",
    "fig = go.Figure()\n",
    "fig.add_trace(go.Bar(x=df['rup'], y = df['E_hist'], name='E_hist'))\n",
    "fig.add_trace(go.Bar(x=df['rup'], y = df['E_new' ], name='E_new' ))\n",
    "fig.add_trace(go.Bar(x=df['rup'], y = df['E_ccgt'], name='E_ccgt'))\n",
    "fig.add_trace(go.Bar(x=df['rup'], y = df['E_ccgt_bioch4'], name='E_ccgt_bioch4'))\n",
    "fig.add_trace(go.Bar(x=df['rup'], y = df['E_won' ], name='E_won' ))\n",
    "fig.add_trace(go.Bar(x=df['rup'], y = df['E_wof' ], name='E_wof' ))\n",
    "fig.add_trace(go.Bar(x=df['rup'], y = df['E_pv'  ], name='E_pv'  ))\n",
    "fig.update_layout(yaxis_title='Production @2060(%)',xaxis_title='r up (Pn/h)',barmode='stack',\n",
    "                  width=750,height=350,margin=dict(l=50, r=150, b=50, t=50),font=dict(size=15))\n",
    "fig.show()\n"
   ]
  },
  {
   "cell_type": "code",
   "execution_count": null,
   "id": "59ba68a8-6292-46bc-be6c-b7ca6b69311e",
   "metadata": {},
   "outputs": [],
   "source": []
  }
 ],
 "metadata": {
  "kernelspec": {
   "display_name": "Python 3 (ipykernel)",
   "language": "python",
   "name": "python3"
  },
  "language_info": {
   "codemirror_mode": {
    "name": "ipython",
    "version": 3
   },
   "file_extension": ".py",
   "mimetype": "text/x-python",
   "name": "python",
   "nbconvert_exporter": "python",
   "pygments_lexer": "ipython3",
   "version": "3.9.0"
  }
 },
 "nbformat": 4,
 "nbformat_minor": 5
}
